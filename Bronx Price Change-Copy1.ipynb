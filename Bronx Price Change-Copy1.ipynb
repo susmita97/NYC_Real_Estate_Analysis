{
 "cells": [
  {
   "cell_type": "code",
   "execution_count": 37,
   "metadata": {},
   "outputs": [],
   "source": [
    "import numpy as np\n",
    "import pandas as pd\n",
    "\n",
    "import matplotlib.pyplot as plt\n",
    "%matplotlib inline"
   ]
  },
  {
   "cell_type": "code",
   "execution_count": 38,
   "metadata": {},
   "outputs": [],
   "source": [
    "bronx2020 = pd.read_csv('2020/2020_bronx.csv')\n",
    "bronx2019 = pd.read_csv('2019/2019_bronx.csv')\n",
    "bronx2018 = pd.read_csv('2018/2018_bronx.csv')\n",
    "bronx2017 = pd.read_csv('2017/2017_bronx.csv')\n",
    "bronx2016 = pd.read_csv('2016/2016_bronx.csv')"
   ]
  },
  {
   "cell_type": "code",
   "execution_count": 39,
   "metadata": {},
   "outputs": [],
   "source": [
    "bronx2020.columns = ['BOROUGH', 'NEIGHBORHOOD', 'BUILDING CLASS CATEGORY',\n",
    "       'TAX CLASS AT PRESENT', 'BLOCK', 'LOT', 'EASE-MENT',\n",
    "       'BUILDING CLASS AT PRESENT', 'ADDRESS', 'APARTMENT NUMBER',\n",
    "       'ZIP CODE', 'RESIDENTIAL UNITS', 'COMMERCIAL UNITS',\n",
    "       'TOTAL UNITS', 'LAND SQUARE FEET', 'GROSS SQUARE FEET',\n",
    "       'YEAR BUILT', 'TAX CLASS AT TIME OF SALE',\n",
    "       'BUILDING CLASS AT TIME OF SALE', 'SALE PRICE', 'SALE DATE']"
   ]
  },
  {
   "cell_type": "code",
   "execution_count": 40,
   "metadata": {},
   "outputs": [],
   "source": [
    "bronx2016.columns = bronx2020.columns\n",
    "bronx2017.columns = bronx2020.columns\n",
    "bronx2018.columns = bronx2020.columns\n",
    "bronx2019.columns = bronx2020.columns"
   ]
  },
  {
   "cell_type": "code",
   "execution_count": 41,
   "metadata": {},
   "outputs": [],
   "source": [
    "bronx2018 = bronx2018.drop(['BOROUGH','NEIGHBORHOOD','BUILDING CLASS CATEGORY',\n",
    "       'TAX CLASS AT PRESENT', 'BLOCK', 'LOT', 'EASE-MENT',\n",
    "       'BUILDING CLASS AT PRESENT', 'ADDRESS', 'APARTMENT NUMBER',\n",
    "       'ZIP CODE', 'RESIDENTIAL UNITS', 'COMMERCIAL UNITS',\n",
    "       'TOTAL UNITS', 'LAND SQUARE FEET', 'GROSS SQUARE FEET',\n",
    "       'YEAR BUILT', 'TAX CLASS AT TIME OF SALE',\n",
    "       'BUILDING CLASS AT TIME OF SALE'], axis = 1)"
   ]
  },
  {
   "cell_type": "code",
   "execution_count": 42,
   "metadata": {},
   "outputs": [],
   "source": [
    "bronx2019 = bronx2019.drop(['BOROUGH','NEIGHBORHOOD','BUILDING CLASS CATEGORY',\n",
    "       'TAX CLASS AT PRESENT', 'BLOCK', 'LOT', 'EASE-MENT',\n",
    "       'BUILDING CLASS AT PRESENT', 'ADDRESS', 'APARTMENT NUMBER',\n",
    "       'ZIP CODE', 'RESIDENTIAL UNITS', 'COMMERCIAL UNITS',\n",
    "       'TOTAL UNITS', 'LAND SQUARE FEET', 'GROSS SQUARE FEET',\n",
    "       'YEAR BUILT', 'TAX CLASS AT TIME OF SALE',\n",
    "       'BUILDING CLASS AT TIME OF SALE'], axis = 1)\n",
    "\n",
    "bronx2017 = bronx2017.drop(['BOROUGH','NEIGHBORHOOD','BUILDING CLASS CATEGORY',\n",
    "       'TAX CLASS AT PRESENT', 'BLOCK', 'LOT', 'EASE-MENT',\n",
    "       'BUILDING CLASS AT PRESENT', 'ADDRESS', 'APARTMENT NUMBER',\n",
    "       'ZIP CODE', 'RESIDENTIAL UNITS', 'COMMERCIAL UNITS',\n",
    "       'TOTAL UNITS', 'LAND SQUARE FEET', 'GROSS SQUARE FEET',\n",
    "       'YEAR BUILT', 'TAX CLASS AT TIME OF SALE',\n",
    "       'BUILDING CLASS AT TIME OF SALE'], axis = 1)\n",
    "\n",
    "bronx2016 = bronx2016.drop(['BOROUGH','NEIGHBORHOOD','BUILDING CLASS CATEGORY',\n",
    "       'TAX CLASS AT PRESENT', 'BLOCK', 'LOT', 'EASE-MENT',\n",
    "       'BUILDING CLASS AT PRESENT', 'ADDRESS', 'APARTMENT NUMBER',\n",
    "       'ZIP CODE', 'RESIDENTIAL UNITS', 'COMMERCIAL UNITS',\n",
    "       'TOTAL UNITS', 'LAND SQUARE FEET', 'GROSS SQUARE FEET',\n",
    "       'YEAR BUILT', 'TAX CLASS AT TIME OF SALE',\n",
    "       'BUILDING CLASS AT TIME OF SALE'], axis = 1)\n",
    "\n",
    "bronx2020 = bronx2020.drop(['BOROUGH','NEIGHBORHOOD','BUILDING CLASS CATEGORY',\n",
    "       'TAX CLASS AT PRESENT', 'BLOCK', 'LOT', 'EASE-MENT',\n",
    "       'BUILDING CLASS AT PRESENT', 'ADDRESS', 'APARTMENT NUMBER',\n",
    "       'ZIP CODE', 'RESIDENTIAL UNITS', 'COMMERCIAL UNITS',\n",
    "       'TOTAL UNITS', 'LAND SQUARE FEET', 'GROSS SQUARE FEET',\n",
    "       'YEAR BUILT', 'TAX CLASS AT TIME OF SALE',\n",
    "       'BUILDING CLASS AT TIME OF SALE'], axis = 1)"
   ]
  },
  {
   "cell_type": "code",
   "execution_count": 43,
   "metadata": {},
   "outputs": [],
   "source": [
    "bronx2018['SALE PRICE'] = bronx2018['SALE PRICE'].astype(str)\n",
    "bronx2018['SALE PRICE'] = bronx2018['SALE PRICE'].apply(lambda x: x.replace(',', ''))\n",
    "bronx2018['SALE PRICE'] = bronx2018['SALE PRICE'].replace(' -   ', '0')\n",
    "#bronx2018['SALE PRICE'] = pd.to_numeric(bronx2018['SALE PRICE'], errors = 'coerce')"
   ]
  },
  {
   "cell_type": "code",
   "execution_count": 44,
   "metadata": {},
   "outputs": [],
   "source": [
    "bronx2018['SALE PRICE'] = bronx2018['SALE PRICE'].replace('$', '')"
   ]
  },
  {
   "cell_type": "code",
   "execution_count": 45,
   "metadata": {},
   "outputs": [],
   "source": [
    "bronx2018['SALE PRICE'] = pd.to_numeric(bronx2018['SALE PRICE'], errors = 'coerce')"
   ]
  },
  {
   "cell_type": "code",
   "execution_count": 46,
   "metadata": {},
   "outputs": [
    {
     "data": {
      "text/plain": [
       "SALE PRICE    0\n",
       "SALE DATE     0\n",
       "dtype: int64"
      ]
     },
     "execution_count": 46,
     "metadata": {},
     "output_type": "execute_result"
    }
   ],
   "source": [
    "bronx2018.isnull().sum()"
   ]
  },
  {
   "cell_type": "code",
   "execution_count": 47,
   "metadata": {},
   "outputs": [],
   "source": [
    "bronx2019['SALE PRICE'] = bronx2019['SALE PRICE'].astype(str)\n",
    "bronx2019['SALE PRICE'] = bronx2019['SALE PRICE'].apply(lambda x: x.replace(',', ''))\n",
    "bronx2019['SALE PRICE'] = bronx2019['SALE PRICE'].replace(' -   ', '0')"
   ]
  },
  {
   "cell_type": "code",
   "execution_count": 48,
   "metadata": {},
   "outputs": [],
   "source": [
    "bronx2019['SALE PRICE'] = pd.to_numeric(bronx2019['SALE PRICE'], errors = 'coerce')"
   ]
  },
  {
   "cell_type": "code",
   "execution_count": 49,
   "metadata": {},
   "outputs": [],
   "source": [
    "bronx2020['SALE PRICE'] = bronx2020['SALE PRICE'].astype(str)\n",
    "bronx2020['SALE PRICE'] = bronx2020['SALE PRICE'].apply(lambda x: x.replace(',', ''))\n",
    "bronx2020['SALE PRICE'] = bronx2020['SALE PRICE'].replace(' -   ', '0')"
   ]
  },
  {
   "cell_type": "code",
   "execution_count": 50,
   "metadata": {},
   "outputs": [],
   "source": [
    "bronx2020['SALE PRICE'] = pd.to_numeric(bronx2020['SALE PRICE'], errors = 'coerce')"
   ]
  },
  {
   "cell_type": "code",
   "execution_count": 51,
   "metadata": {},
   "outputs": [],
   "source": [
    "bronx2017['SALE PRICE'] = bronx2017['SALE PRICE'].astype(str)\n",
    "bronx2017['SALE PRICE'] = bronx2017['SALE PRICE'].apply(lambda x: x.replace(',', ''))\n",
    "bronx2017['SALE PRICE'] = bronx2017['SALE PRICE'].replace(' -   ', '0')"
   ]
  },
  {
   "cell_type": "code",
   "execution_count": 52,
   "metadata": {},
   "outputs": [],
   "source": [
    "bronx2017['SALE PRICE'] = pd.to_numeric(bronx2017['SALE PRICE'], errors = 'coerce')"
   ]
  },
  {
   "cell_type": "code",
   "execution_count": 53,
   "metadata": {},
   "outputs": [],
   "source": [
    "bronx2016['SALE PRICE'] = bronx2016['SALE PRICE'].astype(str)\n",
    "bronx2016['SALE PRICE'] = bronx2016['SALE PRICE'].apply(lambda x: x.replace(',', ''))\n",
    "bronx2016['SALE PRICE'] = bronx2016['SALE PRICE'].replace(' -   ', '0')"
   ]
  },
  {
   "cell_type": "code",
   "execution_count": 54,
   "metadata": {},
   "outputs": [],
   "source": [
    "bronx2016['SALE PRICE'] = pd.to_numeric(bronx2016['SALE PRICE'], errors = 'coerce')"
   ]
  },
  {
   "cell_type": "code",
   "execution_count": 55,
   "metadata": {},
   "outputs": [],
   "source": [
    "bronxframes = [bronx2016,bronx2017,bronx2018,bronx2019,bronx2020]"
   ]
  },
  {
   "cell_type": "code",
   "execution_count": 56,
   "metadata": {},
   "outputs": [],
   "source": [
    "bronxmerge = pd.concat(bronxframes,ignore_index=True)"
   ]
  },
  {
   "cell_type": "code",
   "execution_count": 57,
   "metadata": {},
   "outputs": [
    {
     "data": {
      "text/plain": [
       "SALE PRICE    54002\n",
       "SALE DATE     54002\n",
       "dtype: int64"
      ]
     },
     "execution_count": 57,
     "metadata": {},
     "output_type": "execute_result"
    }
   ],
   "source": [
    "bronxmerge.isnull().sum()"
   ]
  },
  {
   "cell_type": "code",
   "execution_count": 58,
   "metadata": {},
   "outputs": [],
   "source": [
    "bronxmerge.dropna(inplace=True)"
   ]
  },
  {
   "cell_type": "code",
   "execution_count": 59,
   "metadata": {},
   "outputs": [
    {
     "data": {
      "text/plain": [
       "array(['8/6/2016', '6/22/2016', '9/21/2016', ..., '12/5/2020',\n",
       "       '11/21/2020', '3/15/2020'], dtype=object)"
      ]
     },
     "execution_count": 59,
     "metadata": {},
     "output_type": "execute_result"
    }
   ],
   "source": [
    "bronxmerge['SALE DATE'].unique()"
   ]
  },
  {
   "cell_type": "code",
   "execution_count": 60,
   "metadata": {},
   "outputs": [],
   "source": [
    "from datetime import datetime\n",
    "bronxmerge['SALE YEAR'] = pd.to_datetime(bronxmerge['SALE DATE']).dt.year "
   ]
  },
  {
   "cell_type": "code",
   "execution_count": 61,
   "metadata": {},
   "outputs": [
    {
     "data": {
      "text/plain": [
       "array([2016, 2017, 2018, 2019, 2020], dtype=int64)"
      ]
     },
     "execution_count": 61,
     "metadata": {},
     "output_type": "execute_result"
    }
   ],
   "source": [
    "bronxmerge['SALE YEAR'].unique()"
   ]
  },
  {
   "cell_type": "code",
   "execution_count": 64,
   "metadata": {},
   "outputs": [
    {
     "data": {
      "text/html": [
       "<div>\n",
       "<style scoped>\n",
       "    .dataframe tbody tr th:only-of-type {\n",
       "        vertical-align: middle;\n",
       "    }\n",
       "\n",
       "    .dataframe tbody tr th {\n",
       "        vertical-align: top;\n",
       "    }\n",
       "\n",
       "    .dataframe thead th {\n",
       "        text-align: right;\n",
       "    }\n",
       "</style>\n",
       "<table border=\"1\" class=\"dataframe\">\n",
       "  <thead>\n",
       "    <tr style=\"text-align: right;\">\n",
       "      <th></th>\n",
       "      <th>SALE PRICE</th>\n",
       "      <th>SALE DATE</th>\n",
       "      <th>SALE YEAR</th>\n",
       "    </tr>\n",
       "  </thead>\n",
       "  <tbody>\n",
       "    <tr>\n",
       "      <th>0</th>\n",
       "      <td>0.0</td>\n",
       "      <td>8/6/2016</td>\n",
       "      <td>2016</td>\n",
       "    </tr>\n",
       "    <tr>\n",
       "      <th>4</th>\n",
       "      <td>0.0</td>\n",
       "      <td>9/20/2016</td>\n",
       "      <td>2016</td>\n",
       "    </tr>\n",
       "    <tr>\n",
       "      <th>5</th>\n",
       "      <td>0.0</td>\n",
       "      <td>3/22/2016</td>\n",
       "      <td>2016</td>\n",
       "    </tr>\n",
       "    <tr>\n",
       "      <th>7</th>\n",
       "      <td>0.0</td>\n",
       "      <td>3/17/2016</td>\n",
       "      <td>2016</td>\n",
       "    </tr>\n",
       "    <tr>\n",
       "      <th>8</th>\n",
       "      <td>0.0</td>\n",
       "      <td>1/19/2016</td>\n",
       "      <td>2016</td>\n",
       "    </tr>\n",
       "    <tr>\n",
       "      <th>11</th>\n",
       "      <td>0.0</td>\n",
       "      <td>10/24/2016</td>\n",
       "      <td>2016</td>\n",
       "    </tr>\n",
       "    <tr>\n",
       "      <th>14</th>\n",
       "      <td>0.0</td>\n",
       "      <td>12/5/2016</td>\n",
       "      <td>2016</td>\n",
       "    </tr>\n",
       "    <tr>\n",
       "      <th>17</th>\n",
       "      <td>0.0</td>\n",
       "      <td>6/30/2016</td>\n",
       "      <td>2016</td>\n",
       "    </tr>\n",
       "    <tr>\n",
       "      <th>21</th>\n",
       "      <td>0.0</td>\n",
       "      <td>4/13/2016</td>\n",
       "      <td>2016</td>\n",
       "    </tr>\n",
       "    <tr>\n",
       "      <th>24</th>\n",
       "      <td>0.0</td>\n",
       "      <td>3/22/2016</td>\n",
       "      <td>2016</td>\n",
       "    </tr>\n",
       "    <tr>\n",
       "      <th>29</th>\n",
       "      <td>0.0</td>\n",
       "      <td>9/2/2016</td>\n",
       "      <td>2016</td>\n",
       "    </tr>\n",
       "    <tr>\n",
       "      <th>30</th>\n",
       "      <td>0.0</td>\n",
       "      <td>6/30/2016</td>\n",
       "      <td>2016</td>\n",
       "    </tr>\n",
       "    <tr>\n",
       "      <th>32</th>\n",
       "      <td>0.0</td>\n",
       "      <td>12/29/2016</td>\n",
       "      <td>2016</td>\n",
       "    </tr>\n",
       "    <tr>\n",
       "      <th>34</th>\n",
       "      <td>0.0</td>\n",
       "      <td>8/25/2016</td>\n",
       "      <td>2016</td>\n",
       "    </tr>\n",
       "    <tr>\n",
       "      <th>37</th>\n",
       "      <td>0.0</td>\n",
       "      <td>10/12/2016</td>\n",
       "      <td>2016</td>\n",
       "    </tr>\n",
       "    <tr>\n",
       "      <th>39</th>\n",
       "      <td>0.0</td>\n",
       "      <td>9/1/2016</td>\n",
       "      <td>2016</td>\n",
       "    </tr>\n",
       "    <tr>\n",
       "      <th>40</th>\n",
       "      <td>0.0</td>\n",
       "      <td>9/1/2016</td>\n",
       "      <td>2016</td>\n",
       "    </tr>\n",
       "    <tr>\n",
       "      <th>42</th>\n",
       "      <td>0.0</td>\n",
       "      <td>9/1/2016</td>\n",
       "      <td>2016</td>\n",
       "    </tr>\n",
       "    <tr>\n",
       "      <th>43</th>\n",
       "      <td>0.0</td>\n",
       "      <td>7/13/2016</td>\n",
       "      <td>2016</td>\n",
       "    </tr>\n",
       "    <tr>\n",
       "      <th>45</th>\n",
       "      <td>0.0</td>\n",
       "      <td>2/22/2016</td>\n",
       "      <td>2016</td>\n",
       "    </tr>\n",
       "    <tr>\n",
       "      <th>46</th>\n",
       "      <td>0.0</td>\n",
       "      <td>2/22/2016</td>\n",
       "      <td>2016</td>\n",
       "    </tr>\n",
       "    <tr>\n",
       "      <th>53</th>\n",
       "      <td>0.0</td>\n",
       "      <td>5/31/2016</td>\n",
       "      <td>2016</td>\n",
       "    </tr>\n",
       "    <tr>\n",
       "      <th>56</th>\n",
       "      <td>0.0</td>\n",
       "      <td>6/30/2016</td>\n",
       "      <td>2016</td>\n",
       "    </tr>\n",
       "    <tr>\n",
       "      <th>60</th>\n",
       "      <td>0.0</td>\n",
       "      <td>4/6/2016</td>\n",
       "      <td>2016</td>\n",
       "    </tr>\n",
       "    <tr>\n",
       "      <th>61</th>\n",
       "      <td>0.0</td>\n",
       "      <td>4/6/2016</td>\n",
       "      <td>2016</td>\n",
       "    </tr>\n",
       "    <tr>\n",
       "      <th>62</th>\n",
       "      <td>0.0</td>\n",
       "      <td>8/24/2016</td>\n",
       "      <td>2016</td>\n",
       "    </tr>\n",
       "    <tr>\n",
       "      <th>66</th>\n",
       "      <td>0.0</td>\n",
       "      <td>7/6/2016</td>\n",
       "      <td>2016</td>\n",
       "    </tr>\n",
       "    <tr>\n",
       "      <th>67</th>\n",
       "      <td>0.0</td>\n",
       "      <td>7/6/2016</td>\n",
       "      <td>2016</td>\n",
       "    </tr>\n",
       "    <tr>\n",
       "      <th>68</th>\n",
       "      <td>0.0</td>\n",
       "      <td>11/21/2016</td>\n",
       "      <td>2016</td>\n",
       "    </tr>\n",
       "    <tr>\n",
       "      <th>70</th>\n",
       "      <td>0.0</td>\n",
       "      <td>8/2/2016</td>\n",
       "      <td>2016</td>\n",
       "    </tr>\n",
       "    <tr>\n",
       "      <th>...</th>\n",
       "      <td>...</td>\n",
       "      <td>...</td>\n",
       "      <td>...</td>\n",
       "    </tr>\n",
       "    <tr>\n",
       "      <th>76499</th>\n",
       "      <td>0.0</td>\n",
       "      <td>8/12/2020</td>\n",
       "      <td>2020</td>\n",
       "    </tr>\n",
       "    <tr>\n",
       "      <th>76501</th>\n",
       "      <td>0.0</td>\n",
       "      <td>12/14/2020</td>\n",
       "      <td>2020</td>\n",
       "    </tr>\n",
       "    <tr>\n",
       "      <th>76509</th>\n",
       "      <td>0.0</td>\n",
       "      <td>2/7/2020</td>\n",
       "      <td>2020</td>\n",
       "    </tr>\n",
       "    <tr>\n",
       "      <th>76510</th>\n",
       "      <td>0.0</td>\n",
       "      <td>6/9/2020</td>\n",
       "      <td>2020</td>\n",
       "    </tr>\n",
       "    <tr>\n",
       "      <th>76511</th>\n",
       "      <td>0.0</td>\n",
       "      <td>1/2/2020</td>\n",
       "      <td>2020</td>\n",
       "    </tr>\n",
       "    <tr>\n",
       "      <th>76513</th>\n",
       "      <td>0.0</td>\n",
       "      <td>11/19/2020</td>\n",
       "      <td>2020</td>\n",
       "    </tr>\n",
       "    <tr>\n",
       "      <th>76515</th>\n",
       "      <td>0.0</td>\n",
       "      <td>5/4/2020</td>\n",
       "      <td>2020</td>\n",
       "    </tr>\n",
       "    <tr>\n",
       "      <th>76517</th>\n",
       "      <td>0.0</td>\n",
       "      <td>7/14/2020</td>\n",
       "      <td>2020</td>\n",
       "    </tr>\n",
       "    <tr>\n",
       "      <th>76520</th>\n",
       "      <td>0.0</td>\n",
       "      <td>6/23/2020</td>\n",
       "      <td>2020</td>\n",
       "    </tr>\n",
       "    <tr>\n",
       "      <th>76521</th>\n",
       "      <td>0.0</td>\n",
       "      <td>5/4/2020</td>\n",
       "      <td>2020</td>\n",
       "    </tr>\n",
       "    <tr>\n",
       "      <th>76524</th>\n",
       "      <td>0.0</td>\n",
       "      <td>3/6/2020</td>\n",
       "      <td>2020</td>\n",
       "    </tr>\n",
       "    <tr>\n",
       "      <th>76552</th>\n",
       "      <td>0.0</td>\n",
       "      <td>5/6/2020</td>\n",
       "      <td>2020</td>\n",
       "    </tr>\n",
       "    <tr>\n",
       "      <th>76555</th>\n",
       "      <td>0.0</td>\n",
       "      <td>8/1/2020</td>\n",
       "      <td>2020</td>\n",
       "    </tr>\n",
       "    <tr>\n",
       "      <th>76571</th>\n",
       "      <td>0.0</td>\n",
       "      <td>8/3/2020</td>\n",
       "      <td>2020</td>\n",
       "    </tr>\n",
       "    <tr>\n",
       "      <th>76572</th>\n",
       "      <td>0.0</td>\n",
       "      <td>12/19/2020</td>\n",
       "      <td>2020</td>\n",
       "    </tr>\n",
       "    <tr>\n",
       "      <th>76574</th>\n",
       "      <td>0.0</td>\n",
       "      <td>5/10/2020</td>\n",
       "      <td>2020</td>\n",
       "    </tr>\n",
       "    <tr>\n",
       "      <th>76579</th>\n",
       "      <td>0.0</td>\n",
       "      <td>3/9/2020</td>\n",
       "      <td>2020</td>\n",
       "    </tr>\n",
       "    <tr>\n",
       "      <th>76581</th>\n",
       "      <td>0.0</td>\n",
       "      <td>9/28/2020</td>\n",
       "      <td>2020</td>\n",
       "    </tr>\n",
       "    <tr>\n",
       "      <th>76583</th>\n",
       "      <td>0.0</td>\n",
       "      <td>8/11/2020</td>\n",
       "      <td>2020</td>\n",
       "    </tr>\n",
       "    <tr>\n",
       "      <th>76589</th>\n",
       "      <td>0.0</td>\n",
       "      <td>1/9/2020</td>\n",
       "      <td>2020</td>\n",
       "    </tr>\n",
       "    <tr>\n",
       "      <th>76592</th>\n",
       "      <td>0.0</td>\n",
       "      <td>6/15/2020</td>\n",
       "      <td>2020</td>\n",
       "    </tr>\n",
       "    <tr>\n",
       "      <th>76596</th>\n",
       "      <td>0.0</td>\n",
       "      <td>12/1/2020</td>\n",
       "      <td>2020</td>\n",
       "    </tr>\n",
       "    <tr>\n",
       "      <th>76598</th>\n",
       "      <td>0.0</td>\n",
       "      <td>2/7/2020</td>\n",
       "      <td>2020</td>\n",
       "    </tr>\n",
       "    <tr>\n",
       "      <th>76599</th>\n",
       "      <td>0.0</td>\n",
       "      <td>2/7/2020</td>\n",
       "      <td>2020</td>\n",
       "    </tr>\n",
       "    <tr>\n",
       "      <th>76600</th>\n",
       "      <td>0.0</td>\n",
       "      <td>7/13/2020</td>\n",
       "      <td>2020</td>\n",
       "    </tr>\n",
       "    <tr>\n",
       "      <th>76605</th>\n",
       "      <td>0.0</td>\n",
       "      <td>8/7/2020</td>\n",
       "      <td>2020</td>\n",
       "    </tr>\n",
       "    <tr>\n",
       "      <th>76606</th>\n",
       "      <td>0.0</td>\n",
       "      <td>8/3/2020</td>\n",
       "      <td>2020</td>\n",
       "    </tr>\n",
       "    <tr>\n",
       "      <th>76607</th>\n",
       "      <td>0.0</td>\n",
       "      <td>7/20/2020</td>\n",
       "      <td>2020</td>\n",
       "    </tr>\n",
       "    <tr>\n",
       "      <th>76609</th>\n",
       "      <td>0.0</td>\n",
       "      <td>10/15/2020</td>\n",
       "      <td>2020</td>\n",
       "    </tr>\n",
       "    <tr>\n",
       "      <th>76618</th>\n",
       "      <td>0.0</td>\n",
       "      <td>6/10/2020</td>\n",
       "      <td>2020</td>\n",
       "    </tr>\n",
       "  </tbody>\n",
       "</table>\n",
       "<p>11127 rows × 3 columns</p>\n",
       "</div>"
      ],
      "text/plain": [
       "       SALE PRICE   SALE DATE  SALE YEAR\n",
       "0             0.0    8/6/2016       2016\n",
       "4             0.0   9/20/2016       2016\n",
       "5             0.0   3/22/2016       2016\n",
       "7             0.0   3/17/2016       2016\n",
       "8             0.0   1/19/2016       2016\n",
       "11            0.0  10/24/2016       2016\n",
       "14            0.0   12/5/2016       2016\n",
       "17            0.0   6/30/2016       2016\n",
       "21            0.0   4/13/2016       2016\n",
       "24            0.0   3/22/2016       2016\n",
       "29            0.0    9/2/2016       2016\n",
       "30            0.0   6/30/2016       2016\n",
       "32            0.0  12/29/2016       2016\n",
       "34            0.0   8/25/2016       2016\n",
       "37            0.0  10/12/2016       2016\n",
       "39            0.0    9/1/2016       2016\n",
       "40            0.0    9/1/2016       2016\n",
       "42            0.0    9/1/2016       2016\n",
       "43            0.0   7/13/2016       2016\n",
       "45            0.0   2/22/2016       2016\n",
       "46            0.0   2/22/2016       2016\n",
       "53            0.0   5/31/2016       2016\n",
       "56            0.0   6/30/2016       2016\n",
       "60            0.0    4/6/2016       2016\n",
       "61            0.0    4/6/2016       2016\n",
       "62            0.0   8/24/2016       2016\n",
       "66            0.0    7/6/2016       2016\n",
       "67            0.0    7/6/2016       2016\n",
       "68            0.0  11/21/2016       2016\n",
       "70            0.0    8/2/2016       2016\n",
       "...           ...         ...        ...\n",
       "76499         0.0   8/12/2020       2020\n",
       "76501         0.0  12/14/2020       2020\n",
       "76509         0.0    2/7/2020       2020\n",
       "76510         0.0    6/9/2020       2020\n",
       "76511         0.0    1/2/2020       2020\n",
       "76513         0.0  11/19/2020       2020\n",
       "76515         0.0    5/4/2020       2020\n",
       "76517         0.0   7/14/2020       2020\n",
       "76520         0.0   6/23/2020       2020\n",
       "76521         0.0    5/4/2020       2020\n",
       "76524         0.0    3/6/2020       2020\n",
       "76552         0.0    5/6/2020       2020\n",
       "76555         0.0    8/1/2020       2020\n",
       "76571         0.0    8/3/2020       2020\n",
       "76572         0.0  12/19/2020       2020\n",
       "76574         0.0   5/10/2020       2020\n",
       "76579         0.0    3/9/2020       2020\n",
       "76581         0.0   9/28/2020       2020\n",
       "76583         0.0   8/11/2020       2020\n",
       "76589         0.0    1/9/2020       2020\n",
       "76592         0.0   6/15/2020       2020\n",
       "76596         0.0   12/1/2020       2020\n",
       "76598         0.0    2/7/2020       2020\n",
       "76599         0.0    2/7/2020       2020\n",
       "76600         0.0   7/13/2020       2020\n",
       "76605         0.0    8/7/2020       2020\n",
       "76606         0.0    8/3/2020       2020\n",
       "76607         0.0   7/20/2020       2020\n",
       "76609         0.0  10/15/2020       2020\n",
       "76618         0.0   6/10/2020       2020\n",
       "\n",
       "[11127 rows x 3 columns]"
      ]
     },
     "execution_count": 64,
     "metadata": {},
     "output_type": "execute_result"
    }
   ],
   "source": [
    "bronxmerge[bronxmerge['SALE PRICE']== bronxmerge['SALE PRICE'].min()]"
   ]
  },
  {
   "cell_type": "code",
   "execution_count": 67,
   "metadata": {},
   "outputs": [],
   "source": [
    "bronxmerge = bronxmerge[bronxmerge['SALE PRICE'] != 0.0]"
   ]
  },
  {
   "cell_type": "code",
   "execution_count": 69,
   "metadata": {},
   "outputs": [],
   "source": [
    "bronxmerge = bronxmerge[bronxmerge['SALE PRICE'] != 1.0]"
   ]
  },
  {
   "cell_type": "code",
   "execution_count": 71,
   "metadata": {},
   "outputs": [],
   "source": [
    "bronxmerge = bronxmerge[bronxmerge['SALE PRICE'] != 2.0]"
   ]
  },
  {
   "cell_type": "code",
   "execution_count": 73,
   "metadata": {},
   "outputs": [],
   "source": [
    "bronxmerge = bronxmerge[bronxmerge['SALE PRICE'] != 3.0]"
   ]
  },
  {
   "cell_type": "code",
   "execution_count": 76,
   "metadata": {},
   "outputs": [
    {
     "data": {
      "text/plain": [
       "SALE PRICE    4416\n",
       "SALE DATE     4416\n",
       "SALE YEAR     4416\n",
       "dtype: int64"
      ]
     },
     "execution_count": 76,
     "metadata": {},
     "output_type": "execute_result"
    }
   ],
   "source": [
    "bronxmerge[bronxmerge['SALE YEAR']== 2020].count()"
   ]
  },
  {
   "cell_type": "code",
   "execution_count": 77,
   "metadata": {},
   "outputs": [],
   "source": [
    "bronxmerge['SALE PRICE'] = bronxmerge['SALE PRICE'].astype(float).div(1000000)\n",
    "df = bronxmerge.groupby(['SALE YEAR']).sum().reset_index()"
   ]
  },
  {
   "cell_type": "code",
   "execution_count": 80,
   "metadata": {},
   "outputs": [
    {
     "ename": "AttributeError",
     "evalue": "'Series' object has no attribute 'avg'",
     "output_type": "error",
     "traceback": [
      "\u001b[1;31m---------------------------------------------------------------------------\u001b[0m",
      "\u001b[1;31mAttributeError\u001b[0m                            Traceback (most recent call last)",
      "\u001b[1;32m<ipython-input-80-108b0e8c522f>\u001b[0m in \u001b[0;36m<module>\u001b[1;34m\u001b[0m\n\u001b[1;32m----> 1\u001b[1;33m \u001b[0mbronxmerge\u001b[0m\u001b[1;33m[\u001b[0m\u001b[0mbronxmerge\u001b[0m\u001b[1;33m[\u001b[0m\u001b[1;34m'SALE PRICE'\u001b[0m\u001b[1;33m]\u001b[0m\u001b[1;33m==\u001b[0m \u001b[0mbronxmerge\u001b[0m\u001b[1;33m[\u001b[0m\u001b[1;34m'SALE PRICE'\u001b[0m\u001b[1;33m]\u001b[0m\u001b[1;33m.\u001b[0m\u001b[0mavg\u001b[0m\u001b[1;33m(\u001b[0m\u001b[1;33m)\u001b[0m\u001b[1;33m]\u001b[0m\u001b[1;33m\u001b[0m\u001b[1;33m\u001b[0m\u001b[0m\n\u001b[0m",
      "\u001b[1;32m~\\Anaconda3\\lib\\site-packages\\pandas\\core\\generic.py\u001b[0m in \u001b[0;36m__getattr__\u001b[1;34m(self, name)\u001b[0m\n\u001b[0;32m   5065\u001b[0m             \u001b[1;32mif\u001b[0m \u001b[0mself\u001b[0m\u001b[1;33m.\u001b[0m\u001b[0m_info_axis\u001b[0m\u001b[1;33m.\u001b[0m\u001b[0m_can_hold_identifiers_and_holds_name\u001b[0m\u001b[1;33m(\u001b[0m\u001b[0mname\u001b[0m\u001b[1;33m)\u001b[0m\u001b[1;33m:\u001b[0m\u001b[1;33m\u001b[0m\u001b[1;33m\u001b[0m\u001b[0m\n\u001b[0;32m   5066\u001b[0m                 \u001b[1;32mreturn\u001b[0m \u001b[0mself\u001b[0m\u001b[1;33m[\u001b[0m\u001b[0mname\u001b[0m\u001b[1;33m]\u001b[0m\u001b[1;33m\u001b[0m\u001b[1;33m\u001b[0m\u001b[0m\n\u001b[1;32m-> 5067\u001b[1;33m             \u001b[1;32mreturn\u001b[0m \u001b[0mobject\u001b[0m\u001b[1;33m.\u001b[0m\u001b[0m__getattribute__\u001b[0m\u001b[1;33m(\u001b[0m\u001b[0mself\u001b[0m\u001b[1;33m,\u001b[0m \u001b[0mname\u001b[0m\u001b[1;33m)\u001b[0m\u001b[1;33m\u001b[0m\u001b[1;33m\u001b[0m\u001b[0m\n\u001b[0m\u001b[0;32m   5068\u001b[0m \u001b[1;33m\u001b[0m\u001b[0m\n\u001b[0;32m   5069\u001b[0m     \u001b[1;32mdef\u001b[0m \u001b[0m__setattr__\u001b[0m\u001b[1;33m(\u001b[0m\u001b[0mself\u001b[0m\u001b[1;33m,\u001b[0m \u001b[0mname\u001b[0m\u001b[1;33m,\u001b[0m \u001b[0mvalue\u001b[0m\u001b[1;33m)\u001b[0m\u001b[1;33m:\u001b[0m\u001b[1;33m\u001b[0m\u001b[1;33m\u001b[0m\u001b[0m\n",
      "\u001b[1;31mAttributeError\u001b[0m: 'Series' object has no attribute 'avg'"
     ]
    }
   ],
   "source": [
    "bronxmerge[bronxmerge['SALE PRICE']== bronxmerge['SALE PRICE'].avg()]"
   ]
  },
  {
   "cell_type": "code",
   "execution_count": 79,
   "metadata": {},
   "outputs": [
    {
     "data": {
      "image/png": "[encoded data removed]",
      "text/plain": [
       "<Figure size 504x504 with 1 Axes>"
      ]
     },
     "metadata": {
      "needs_background": "light"
     },
     "output_type": "display_data"
    }
   ],
   "source": [
    "plt.figure(figsize=(7,7))\n",
    "plt.title('How Prices Have Changed in Bronx from 2016-2020')\n",
    "plt.xlabel('YEAR')\n",
    "plt.ylabel('Prices in Millions')\n",
    "plt.bar(df['SALE YEAR'],df['SALE PRICE'], color = 'g')\n",
    "plt.xticks(rotation=0)\n",
    "plt.savefig('Bronx',bbox_inches='tight')\n",
    "plt.show()"
   ]
  },
  {
   "cell_type": "code",
   "execution_count": null,
   "metadata": {},
   "outputs": [],
   "source": []
  }
 ],
 "metadata": {
  "kernelspec": {
   "display_name": "Python 3",
   "language": "python",
   "name": "python3"
  },
  "language_info": {
   "codemirror_mode": {
    "name": "ipython",
    "version": 3
   },
   "file_extension": ".py",
   "mimetype": "text/x-python",
   "name": "python",
   "nbconvert_exporter": "python",
   "pygments_lexer": "ipython3",
   "version": "3.7.3"
  }
 },
 "nbformat": 4,
 "nbformat_minor": 2
}
