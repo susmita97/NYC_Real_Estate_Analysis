{
 "cells": [
  {
   "cell_type": "code",
   "execution_count": 26,
   "metadata": {},
   "outputs": [],
   "source": [
    "import numpy as np\n",
    "import pandas as pd\n",
    "\n",
    "import matplotlib.pyplot as plt\n",
    "%matplotlib inline"
   ]
  },
  {
   "cell_type": "code",
   "execution_count": 27,
   "metadata": {},
   "outputs": [],
   "source": [
    "brooklyn2020 = pd.read_csv('2020/2020_brooklyn.csv')\n",
    "brooklyn2019 = pd.read_csv('2019/2019_brooklyn.csv')\n",
    "brooklyn2018 = pd.read_csv('2018/2018_brooklyn.csv')\n",
    "brooklyn2017 = pd.read_csv('2017/2017_brooklyn.csv')\n",
    "brooklyn2016 = pd.read_csv('2016/2016_brooklyn.csv')"
   ]
  },
  {
   "cell_type": "code",
   "execution_count": 28,
   "metadata": {},
   "outputs": [],
   "source": [
    "brooklyn2020.columns = ['BOROUGH', 'NEIGHBORHOOD', 'BUILDING CLASS CATEGORY',\n",
    "       'TAX CLASS AT PRESENT', 'BLOCK', 'LOT', 'EASE-MENT',\n",
    "       'BUILDING CLASS AT PRESENT', 'ADDRESS', 'APARTMENT NUMBER',\n",
    "       'ZIP CODE', 'RESIDENTIAL UNITS', 'COMMERCIAL UNITS',\n",
    "       'TOTAL UNITS', 'LAND SQUARE FEET', 'GROSS SQUARE FEET',\n",
    "       'YEAR BUILT', 'TAX CLASS AT TIME OF SALE',\n",
    "       'BUILDING CLASS AT TIME OF SALE', 'SALE PRICE', 'SALE DATE']"
   ]
  },
  {
   "cell_type": "code",
   "execution_count": 29,
   "metadata": {},
   "outputs": [],
   "source": [
    "brooklyn2016.columns = brooklyn2020.columns\n",
    "brooklyn2017.columns = brooklyn2020.columns\n",
    "brooklyn2018.columns = brooklyn2020.columns\n",
    "brooklyn2019.columns = brooklyn2020.columns"
   ]
  },
  {
   "cell_type": "code",
   "execution_count": 30,
   "metadata": {},
   "outputs": [],
   "source": [
    "brooklyn2018 = brooklyn2018.drop(['BOROUGH','NEIGHBORHOOD','BUILDING CLASS CATEGORY',\n",
    "       'TAX CLASS AT PRESENT', 'BLOCK', 'LOT', 'EASE-MENT',\n",
    "       'BUILDING CLASS AT PRESENT', 'ADDRESS', 'APARTMENT NUMBER',\n",
    "       'ZIP CODE', 'RESIDENTIAL UNITS', 'COMMERCIAL UNITS',\n",
    "       'TOTAL UNITS', 'LAND SQUARE FEET', 'GROSS SQUARE FEET',\n",
    "       'YEAR BUILT', 'TAX CLASS AT TIME OF SALE',\n",
    "       'BUILDING CLASS AT TIME OF SALE'], axis = 1)"
   ]
  },
  {
   "cell_type": "code",
   "execution_count": 31,
   "metadata": {},
   "outputs": [],
   "source": [
    "brooklyn2019 = brooklyn2019.drop(['BOROUGH','NEIGHBORHOOD','BUILDING CLASS CATEGORY',\n",
    "       'TAX CLASS AT PRESENT', 'BLOCK', 'LOT', 'EASE-MENT',\n",
    "       'BUILDING CLASS AT PRESENT', 'ADDRESS', 'APARTMENT NUMBER',\n",
    "       'ZIP CODE', 'RESIDENTIAL UNITS', 'COMMERCIAL UNITS',\n",
    "       'TOTAL UNITS', 'LAND SQUARE FEET', 'GROSS SQUARE FEET',\n",
    "       'YEAR BUILT', 'TAX CLASS AT TIME OF SALE',\n",
    "       'BUILDING CLASS AT TIME OF SALE'], axis = 1)\n",
    "\n",
    "brooklyn2017 = brooklyn2017.drop(['BOROUGH','NEIGHBORHOOD','BUILDING CLASS CATEGORY',\n",
    "       'TAX CLASS AT PRESENT', 'BLOCK', 'LOT', 'EASE-MENT',\n",
    "       'BUILDING CLASS AT PRESENT', 'ADDRESS', 'APARTMENT NUMBER',\n",
    "       'ZIP CODE', 'RESIDENTIAL UNITS', 'COMMERCIAL UNITS',\n",
    "       'TOTAL UNITS', 'LAND SQUARE FEET', 'GROSS SQUARE FEET',\n",
    "       'YEAR BUILT', 'TAX CLASS AT TIME OF SALE',\n",
    "       'BUILDING CLASS AT TIME OF SALE'], axis = 1)\n",
    "\n",
    "brooklyn2016 = brooklyn2016.drop(['BOROUGH','NEIGHBORHOOD','BUILDING CLASS CATEGORY',\n",
    "       'TAX CLASS AT PRESENT', 'BLOCK', 'LOT', 'EASE-MENT',\n",
    "       'BUILDING CLASS AT PRESENT', 'ADDRESS', 'APARTMENT NUMBER',\n",
    "       'ZIP CODE', 'RESIDENTIAL UNITS', 'COMMERCIAL UNITS',\n",
    "       'TOTAL UNITS', 'LAND SQUARE FEET', 'GROSS SQUARE FEET',\n",
    "       'YEAR BUILT', 'TAX CLASS AT TIME OF SALE',\n",
    "       'BUILDING CLASS AT TIME OF SALE'], axis = 1)\n",
    "\n",
    "brooklyn2020 = brooklyn2020.drop(['BOROUGH','NEIGHBORHOOD','BUILDING CLASS CATEGORY',\n",
    "       'TAX CLASS AT PRESENT', 'BLOCK', 'LOT', 'EASE-MENT',\n",
    "       'BUILDING CLASS AT PRESENT', 'ADDRESS', 'APARTMENT NUMBER',\n",
    "       'ZIP CODE', 'RESIDENTIAL UNITS', 'COMMERCIAL UNITS',\n",
    "       'TOTAL UNITS', 'LAND SQUARE FEET', 'GROSS SQUARE FEET',\n",
    "       'YEAR BUILT', 'TAX CLASS AT TIME OF SALE',\n",
    "       'BUILDING CLASS AT TIME OF SALE'], axis = 1)"
   ]
  },
  {
   "cell_type": "code",
   "execution_count": 32,
   "metadata": {},
   "outputs": [],
   "source": [
    "brooklyn2018['SALE PRICE'] = brooklyn2018['SALE PRICE'].astype(str)\n",
    "brooklyn2018['SALE PRICE'] = brooklyn2018['SALE PRICE'].apply(lambda x: x.replace(',', ''))\n",
    "brooklyn2018['SALE PRICE'] = brooklyn2018['SALE PRICE'].replace(' -   ', '0')\n",
    "#brooklyn2018['SALE PRICE'] = pd.to_numeric(brooklyn2018['SALE PRICE'], errors = 'coerce')"
   ]
  },
  {
   "cell_type": "code",
   "execution_count": 33,
   "metadata": {},
   "outputs": [],
   "source": [
    "brooklyn2018['SALE PRICE'] = brooklyn2018['SALE PRICE'].replace('$', '')"
   ]
  },
  {
   "cell_type": "code",
   "execution_count": 34,
   "metadata": {},
   "outputs": [],
   "source": [
    "brooklyn2018['SALE PRICE'] = pd.to_numeric(brooklyn2018['SALE PRICE'], errors = 'coerce')"
   ]
  },
  {
   "cell_type": "code",
   "execution_count": 35,
   "metadata": {},
   "outputs": [
    {
     "data": {
      "text/plain": [
       "SALE PRICE    0\n",
       "SALE DATE     0\n",
       "dtype: int64"
      ]
     },
     "execution_count": 35,
     "metadata": {},
     "output_type": "execute_result"
    }
   ],
   "source": [
    "brooklyn2018.isnull().sum()"
   ]
  },
  {
   "cell_type": "code",
   "execution_count": 36,
   "metadata": {},
   "outputs": [],
   "source": [
    "brooklyn2019['SALE PRICE'] = brooklyn2019['SALE PRICE'].astype(str)\n",
    "brooklyn2019['SALE PRICE'] = brooklyn2019['SALE PRICE'].apply(lambda x: x.replace(',', ''))\n",
    "brooklyn2019['SALE PRICE'] = brooklyn2019['SALE PRICE'].replace(' -   ', '0')"
   ]
  },
  {
   "cell_type": "code",
   "execution_count": 37,
   "metadata": {},
   "outputs": [],
   "source": [
    "brooklyn2019['SALE PRICE'] = pd.to_numeric(brooklyn2019['SALE PRICE'], errors = 'coerce')"
   ]
  },
  {
   "cell_type": "code",
   "execution_count": 38,
   "metadata": {},
   "outputs": [],
   "source": [
    "brooklyn2020['SALE PRICE'] = brooklyn2020['SALE PRICE'].astype(str)\n",
    "brooklyn2020['SALE PRICE'] = brooklyn2020['SALE PRICE'].apply(lambda x: x.replace(',', ''))\n",
    "brooklyn2020['SALE PRICE'] = brooklyn2020['SALE PRICE'].replace(' -   ', '0')"
   ]
  },
  {
   "cell_type": "code",
   "execution_count": 39,
   "metadata": {},
   "outputs": [],
   "source": [
    "brooklyn2020['SALE PRICE'] = pd.to_numeric(brooklyn2020['SALE PRICE'], errors = 'coerce')"
   ]
  },
  {
   "cell_type": "code",
   "execution_count": 40,
   "metadata": {},
   "outputs": [],
   "source": [
    "brooklyn2017['SALE PRICE'] = brooklyn2017['SALE PRICE'].astype(str)\n",
    "brooklyn2017['SALE PRICE'] = brooklyn2017['SALE PRICE'].apply(lambda x: x.replace(',', ''))\n",
    "brooklyn2017['SALE PRICE'] = brooklyn2017['SALE PRICE'].replace(' -   ', '0')"
   ]
  },
  {
   "cell_type": "code",
   "execution_count": 41,
   "metadata": {},
   "outputs": [],
   "source": [
    "brooklyn2017['SALE PRICE'] = pd.to_numeric(brooklyn2017['SALE PRICE'], errors = 'coerce')"
   ]
  },
  {
   "cell_type": "code",
   "execution_count": 42,
   "metadata": {},
   "outputs": [],
   "source": [
    "brooklyn2016['SALE PRICE'] = brooklyn2016['SALE PRICE'].astype(str)\n",
    "brooklyn2016['SALE PRICE'] = brooklyn2016['SALE PRICE'].apply(lambda x: x.replace(',', ''))\n",
    "brooklyn2016['SALE PRICE'] = brooklyn2016['SALE PRICE'].replace(' -   ', '0')"
   ]
  },
  {
   "cell_type": "code",
   "execution_count": 43,
   "metadata": {},
   "outputs": [],
   "source": [
    "brooklyn2016['SALE PRICE'] = pd.to_numeric(brooklyn2016['SALE PRICE'], errors = 'coerce')"
   ]
  },
  {
   "cell_type": "code",
   "execution_count": 44,
   "metadata": {},
   "outputs": [],
   "source": [
    "brooklynframes = [brooklyn2016,brooklyn2017,brooklyn2018,brooklyn2019,brooklyn2020]"
   ]
  },
  {
   "cell_type": "code",
   "execution_count": 45,
   "metadata": {},
   "outputs": [],
   "source": [
    "brooklynmerge = pd.concat(brooklynframes,ignore_index=True)"
   ]
  },
  {
   "cell_type": "code",
   "execution_count": 46,
   "metadata": {},
   "outputs": [
    {
     "data": {
      "text/plain": [
       "SALE PRICE    2201\n",
       "SALE DATE     2201\n",
       "dtype: int64"
      ]
     },
     "execution_count": 46,
     "metadata": {},
     "output_type": "execute_result"
    }
   ],
   "source": [
    "brooklynmerge.isnull().sum()"
   ]
  },
  {
   "cell_type": "code",
   "execution_count": 47,
   "metadata": {},
   "outputs": [],
   "source": [
    "brooklynmerge.dropna(inplace=True)"
   ]
  },
  {
   "cell_type": "code",
   "execution_count": 48,
   "metadata": {},
   "outputs": [
    {
     "data": {
      "text/plain": [
       "array(['5/25/2016', '4/5/2016', '10/6/2016', ..., '9/13/2020',\n",
       "       '10/17/2020', '7/18/2020'], dtype=object)"
      ]
     },
     "execution_count": 48,
     "metadata": {},
     "output_type": "execute_result"
    }
   ],
   "source": [
    "brooklynmerge['SALE DATE'].unique()"
   ]
  },
  {
   "cell_type": "code",
   "execution_count": 49,
   "metadata": {},
   "outputs": [],
   "source": [
    "from datetime import datetime\n",
    "brooklynmerge['SALE YEAR'] = pd.to_datetime(brooklynmerge['SALE DATE']).dt.year "
   ]
  },
  {
   "cell_type": "code",
   "execution_count": 50,
   "metadata": {},
   "outputs": [
    {
     "data": {
      "text/plain": [
       "array([2016, 2017, 2018, 2019, 2020], dtype=int64)"
      ]
     },
     "execution_count": 50,
     "metadata": {},
     "output_type": "execute_result"
    }
   ],
   "source": [
    "brooklynmerge['SALE YEAR'].unique()"
   ]
  },
  {
   "cell_type": "code",
   "execution_count": 51,
   "metadata": {},
   "outputs": [],
   "source": [
    "brooklynmerge['SALE PRICE'] = brooklynmerge['SALE PRICE'].astype(float).div(1000000)\n",
    "df = brooklynmerge.groupby(['SALE YEAR']).sum().reset_index()"
   ]
  },
  {
   "cell_type": "code",
   "execution_count": 54,
   "metadata": {},
   "outputs": [
    {
     "data": {
      "image/png": "[encoded data removed]",
      "text/plain": [
       "<Figure size 504x504 with 1 Axes>"
      ]
     },
     "metadata": {
      "needs_background": "light"
     },
     "output_type": "display_data"
    }
   ],
   "source": [
    "plt.figure(figsize=(7,7))\n",
    "plt.title('How Prices Have Changed in Brooklyn from 2016-2020')\n",
    "plt.xlabel('YEAR')\n",
    "plt.ylabel('Prices in Millions')\n",
    "plt.bar(df['SALE YEAR'],df['SALE PRICE'], color = 'b')\n",
    "plt.xticks(rotation=0)\n",
    "plt.savefig('Brooklyn',bbox_inches='tight')\n",
    "plt.show()"
   ]
  },
  {
   "cell_type": "code",
   "execution_count": null,
   "metadata": {},
   "outputs": [],
   "source": []
  }
 ],
 "metadata": {
  "kernelspec": {
   "display_name": "Python 3",
   "language": "python",
   "name": "python3"
  },
  "language_info": {
   "codemirror_mode": {
    "name": "ipython",
    "version": 3
   },
   "file_extension": ".py",
   "mimetype": "text/x-python",
   "name": "python",
   "nbconvert_exporter": "python",
   "pygments_lexer": "ipython3",
   "version": "3.7.3"
  }
 },
 "nbformat": 4,
 "nbformat_minor": 2
}
