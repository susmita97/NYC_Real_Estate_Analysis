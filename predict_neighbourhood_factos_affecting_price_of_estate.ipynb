{
 "cells": [
  {
   "cell_type": "code",
   "execution_count": 1,
   "metadata": {
    "id": "e1e647c5"
   },
   "outputs": [],
   "source": [
    "import pandas as pd\n",
    "from datetime import datetime\n",
    "import numpy as np\n",
    "import matplotlib.pyplot as plt\n"
   ]
  },
  {
   "cell_type": "code",
   "execution_count": 2,
   "metadata": {
    "colab": {
     "base_uri": "https://localhost:8080/",
     "height": 226
    },
    "id": "7190ab02",
    "outputId": "53cc930a-df35-4773-d9e4-5117539d2e61"
   },
   "outputs": [
    {
     "data": {
      "text/html": [
       "<div>\n",
       "<style scoped>\n",
       "    .dataframe tbody tr th:only-of-type {\n",
       "        vertical-align: middle;\n",
       "    }\n",
       "\n",
       "    .dataframe tbody tr th {\n",
       "        vertical-align: top;\n",
       "    }\n",
       "\n",
       "    .dataframe thead th {\n",
       "        text-align: right;\n",
       "    }\n",
       "</style>\n",
       "<table border=\"1\" class=\"dataframe\">\n",
       "  <thead>\n",
       "    <tr style=\"text-align: right;\">\n",
       "      <th></th>\n",
       "      <th>tx_price</th>\n",
       "      <th>beds</th>\n",
       "      <th>baths</th>\n",
       "      <th>sqft</th>\n",
       "      <th>year_built</th>\n",
       "      <th>lot_size</th>\n",
       "      <th>basement</th>\n",
       "      <th>restaurants</th>\n",
       "      <th>groceries</th>\n",
       "      <th>nightlife</th>\n",
       "      <th>...</th>\n",
       "      <th>active_life</th>\n",
       "      <th>median_age</th>\n",
       "      <th>married</th>\n",
       "      <th>college_grad</th>\n",
       "      <th>property_tax</th>\n",
       "      <th>insurance</th>\n",
       "      <th>median_school</th>\n",
       "      <th>num_schools</th>\n",
       "      <th>tx_year</th>\n",
       "      <th>age</th>\n",
       "    </tr>\n",
       "  </thead>\n",
       "  <tbody>\n",
       "    <tr>\n",
       "      <th>0</th>\n",
       "      <td>295850</td>\n",
       "      <td>1</td>\n",
       "      <td>1</td>\n",
       "      <td>584</td>\n",
       "      <td>2013</td>\n",
       "      <td>0</td>\n",
       "      <td>0.0</td>\n",
       "      <td>107</td>\n",
       "      <td>9</td>\n",
       "      <td>30</td>\n",
       "      <td>...</td>\n",
       "      <td>58</td>\n",
       "      <td>33.0</td>\n",
       "      <td>65.0</td>\n",
       "      <td>84.0</td>\n",
       "      <td>234.0</td>\n",
       "      <td>81.0</td>\n",
       "      <td>9.0</td>\n",
       "      <td>3.0</td>\n",
       "      <td>2013</td>\n",
       "      <td>0</td>\n",
       "    </tr>\n",
       "    <tr>\n",
       "      <th>1</th>\n",
       "      <td>216500</td>\n",
       "      <td>1</td>\n",
       "      <td>1</td>\n",
       "      <td>612</td>\n",
       "      <td>1965</td>\n",
       "      <td>0</td>\n",
       "      <td>1.0</td>\n",
       "      <td>105</td>\n",
       "      <td>15</td>\n",
       "      <td>6</td>\n",
       "      <td>...</td>\n",
       "      <td>14</td>\n",
       "      <td>39.0</td>\n",
       "      <td>73.0</td>\n",
       "      <td>69.0</td>\n",
       "      <td>169.0</td>\n",
       "      <td>51.0</td>\n",
       "      <td>3.0</td>\n",
       "      <td>3.0</td>\n",
       "      <td>2006</td>\n",
       "      <td>41</td>\n",
       "    </tr>\n",
       "    <tr>\n",
       "      <th>2</th>\n",
       "      <td>279900</td>\n",
       "      <td>1</td>\n",
       "      <td>1</td>\n",
       "      <td>615</td>\n",
       "      <td>1963</td>\n",
       "      <td>0</td>\n",
       "      <td>0.0</td>\n",
       "      <td>183</td>\n",
       "      <td>13</td>\n",
       "      <td>31</td>\n",
       "      <td>...</td>\n",
       "      <td>62</td>\n",
       "      <td>28.0</td>\n",
       "      <td>15.0</td>\n",
       "      <td>86.0</td>\n",
       "      <td>216.0</td>\n",
       "      <td>74.0</td>\n",
       "      <td>8.0</td>\n",
       "      <td>3.0</td>\n",
       "      <td>2012</td>\n",
       "      <td>49</td>\n",
       "    </tr>\n",
       "    <tr>\n",
       "      <th>3</th>\n",
       "      <td>379900</td>\n",
       "      <td>1</td>\n",
       "      <td>1</td>\n",
       "      <td>618</td>\n",
       "      <td>2000</td>\n",
       "      <td>33541</td>\n",
       "      <td>0.0</td>\n",
       "      <td>198</td>\n",
       "      <td>9</td>\n",
       "      <td>38</td>\n",
       "      <td>...</td>\n",
       "      <td>83</td>\n",
       "      <td>36.0</td>\n",
       "      <td>25.0</td>\n",
       "      <td>91.0</td>\n",
       "      <td>265.0</td>\n",
       "      <td>92.0</td>\n",
       "      <td>9.0</td>\n",
       "      <td>3.0</td>\n",
       "      <td>2005</td>\n",
       "      <td>5</td>\n",
       "    </tr>\n",
       "    <tr>\n",
       "      <th>4</th>\n",
       "      <td>340000</td>\n",
       "      <td>1</td>\n",
       "      <td>1</td>\n",
       "      <td>634</td>\n",
       "      <td>1992</td>\n",
       "      <td>0</td>\n",
       "      <td>0.0</td>\n",
       "      <td>149</td>\n",
       "      <td>7</td>\n",
       "      <td>22</td>\n",
       "      <td>...</td>\n",
       "      <td>73</td>\n",
       "      <td>37.0</td>\n",
       "      <td>20.0</td>\n",
       "      <td>75.0</td>\n",
       "      <td>88.0</td>\n",
       "      <td>30.0</td>\n",
       "      <td>9.0</td>\n",
       "      <td>3.0</td>\n",
       "      <td>2002</td>\n",
       "      <td>10</td>\n",
       "    </tr>\n",
       "  </tbody>\n",
       "</table>\n",
       "<p>5 rows × 24 columns</p>\n",
       "</div>"
      ],
      "text/plain": [
       "   tx_price  beds  baths  sqft  year_built  lot_size  basement  restaurants  \\\n",
       "0    295850     1      1   584        2013         0       0.0          107   \n",
       "1    216500     1      1   612        1965         0       1.0          105   \n",
       "2    279900     1      1   615        1963         0       0.0          183   \n",
       "3    379900     1      1   618        2000     33541       0.0          198   \n",
       "4    340000     1      1   634        1992         0       0.0          149   \n",
       "\n",
       "   groceries  nightlife  ...  active_life  median_age  married  college_grad  \\\n",
       "0          9         30  ...           58        33.0     65.0          84.0   \n",
       "1         15          6  ...           14        39.0     73.0          69.0   \n",
       "2         13         31  ...           62        28.0     15.0          86.0   \n",
       "3          9         38  ...           83        36.0     25.0          91.0   \n",
       "4          7         22  ...           73        37.0     20.0          75.0   \n",
       "\n",
       "   property_tax  insurance  median_school  num_schools  tx_year  age  \n",
       "0         234.0       81.0            9.0          3.0     2013    0  \n",
       "1         169.0       51.0            3.0          3.0     2006   41  \n",
       "2         216.0       74.0            8.0          3.0     2012   49  \n",
       "3         265.0       92.0            9.0          3.0     2005    5  \n",
       "4          88.0       30.0            9.0          3.0     2002   10  \n",
       "\n",
       "[5 rows x 24 columns]"
      ]
     },
     "execution_count": 2,
     "metadata": {},
     "output_type": "execute_result"
    }
   ],
   "source": [
    "df = pd.read_csv('data_cooked.csv')\n",
    "df.head()"
   ]
  },
  {
   "cell_type": "code",
   "execution_count": 3,
   "metadata": {
    "id": "e57d6aa2"
   },
   "outputs": [],
   "source": [
    "df = df.drop(columns=['insurance'])"
   ]
  },
  {
   "cell_type": "markdown",
   "metadata": {
    "id": "90c218b0"
   },
   "source": [
    "**Random Forest**"
   ]
  },
  {
   "cell_type": "code",
   "execution_count": 4,
   "metadata": {
    "id": "2bb7a479"
   },
   "outputs": [],
   "source": [
    "from sklearn.ensemble import RandomForestRegressor\n",
    "from sklearn.metrics import mean_absolute_error\n",
    "from sklearn.model_selection import train_test_split\n"
   ]
  },
  {
   "cell_type": "code",
   "execution_count": 5,
   "metadata": {
    "id": "d89f4bce"
   },
   "outputs": [],
   "source": [
    "train_X, test_X, train_y, test_y = train_test_split(df.drop('tx_price',1), df.tx_price, random_state=99,\n",
    "                                                   test_size=0.3, )"
   ]
  },
  {
   "cell_type": "code",
   "execution_count": 6,
   "metadata": {
    "id": "1f6294e4"
   },
   "outputs": [],
   "source": [
    "rf_model = RandomForestRegressor(n_estimators=100)\n",
    "rf_model = rf_model.fit(train_X, train_y)"
   ]
  },
  {
   "cell_type": "code",
   "execution_count": 7,
   "metadata": {
    "colab": {
     "base_uri": "https://localhost:8080/"
    },
    "id": "31577335",
    "outputId": "751f0454-5e2c-489c-8085-959e7e7b0e11"
   },
   "outputs": [
    {
     "data": {
      "text/plain": [
       "51109.98159292035"
      ]
     },
     "execution_count": 7,
     "metadata": {},
     "output_type": "execute_result"
    }
   ],
   "source": [
    "y_optimum = rf_model.predict(test_X)\n",
    "mean_absolute_error(test_y, y_optimum)"
   ]
  },
  {
   "cell_type": "markdown",
   "metadata": {
    "id": "nZvW3sWoEVdT"
   },
   "source": [
    "\n",
    "\n",
    "Tuning number of estimators via gridsearch:\n"
   ]
  },
  {
   "cell_type": "code",
   "execution_count": 8,
   "metadata": {
    "id": "660ef839"
   },
   "outputs": [],
   "source": [
    "def get_mae_rf(num_est, train_X, predictors_val, train_y, test_y):\n",
    "\n",
    "    # fitting model with input max_leaf_nodes\n",
    "    model = RandomForestRegressor(n_estimators=num_est, random_state=0)\n",
    "\n",
    "    # fitting the model with training dataset\n",
    "    model.fit(train_X, train_y)\n",
    "\n",
    "    # making prediction with the test dataset\n",
    "    preds_val = model.predict(test_X)\n",
    "\n",
    "    # calculate and return the MAE\n",
    "    mae = mean_absolute_error(test_y, preds_val)\n",
    "    return(mae)"
   ]
  },
  {
   "cell_type": "code",
   "execution_count": 9,
   "metadata": {
    "colab": {
     "base_uri": "https://localhost:8080/"
    },
    "id": "0b47067f",
    "outputId": "7b871dad-0ac9-4b77-dc7e-c6f53e064889"
   },
   "outputs": [
    {
     "name": "stdout",
     "output_type": "stream",
     "text": [
      "Number of estimators : 2 \t\t Mean Absolute Error:  61324\n",
      "Number of estimators : 3 \t\t Mean Absolute Error:  56454\n",
      "Number of estimators : 4 \t\t Mean Absolute Error:  54423\n",
      "Number of estimators : 5 \t\t Mean Absolute Error:  53184\n",
      "Number of estimators : 6 \t\t Mean Absolute Error:  52553\n",
      "Number of estimators : 7 \t\t Mean Absolute Error:  52722\n",
      "Number of estimators : 8 \t\t Mean Absolute Error:  52374\n",
      "Number of estimators : 9 \t\t Mean Absolute Error:  52054\n",
      "Number of estimators : 10 \t\t Mean Absolute Error:  51834\n",
      "Number of estimators : 11 \t\t Mean Absolute Error:  52292\n",
      "Number of estimators : 12 \t\t Mean Absolute Error:  52281\n",
      "Number of estimators : 13 \t\t Mean Absolute Error:  51570\n",
      "Number of estimators : 14 \t\t Mean Absolute Error:  51497\n",
      "Number of estimators : 15 \t\t Mean Absolute Error:  51662\n",
      "Number of estimators : 16 \t\t Mean Absolute Error:  51718\n",
      "Number of estimators : 17 \t\t Mean Absolute Error:  51566\n",
      "Number of estimators : 18 \t\t Mean Absolute Error:  51370\n",
      "Number of estimators : 19 \t\t Mean Absolute Error:  51101\n",
      "Number of estimators : 20 \t\t Mean Absolute Error:  51305\n",
      "Number of estimators : 21 \t\t Mean Absolute Error:  51378\n",
      "Number of estimators : 22 \t\t Mean Absolute Error:  51320\n",
      "Number of estimators : 23 \t\t Mean Absolute Error:  51543\n",
      "Number of estimators : 24 \t\t Mean Absolute Error:  51682\n",
      "Number of estimators : 25 \t\t Mean Absolute Error:  51705\n",
      "Number of estimators : 26 \t\t Mean Absolute Error:  51778\n",
      "Number of estimators : 27 \t\t Mean Absolute Error:  51717\n",
      "Number of estimators : 28 \t\t Mean Absolute Error:  51654\n",
      "Number of estimators : 29 \t\t Mean Absolute Error:  51619\n",
      "Number of estimators : 30 \t\t Mean Absolute Error:  51545\n",
      "Number of estimators : 31 \t\t Mean Absolute Error:  51639\n",
      "Number of estimators : 32 \t\t Mean Absolute Error:  51425\n",
      "Number of estimators : 33 \t\t Mean Absolute Error:  51394\n",
      "Number of estimators : 34 \t\t Mean Absolute Error:  51353\n",
      "Number of estimators : 35 \t\t Mean Absolute Error:  51375\n",
      "Number of estimators : 36 \t\t Mean Absolute Error:  51219\n",
      "Number of estimators : 37 \t\t Mean Absolute Error:  51131\n",
      "Number of estimators : 38 \t\t Mean Absolute Error:  51104\n",
      "Number of estimators : 39 \t\t Mean Absolute Error:  51049\n",
      "Number of estimators : 40 \t\t Mean Absolute Error:  51134\n",
      "Number of estimators : 41 \t\t Mean Absolute Error:  51044\n",
      "Number of estimators : 42 \t\t Mean Absolute Error:  51214\n",
      "Number of estimators : 43 \t\t Mean Absolute Error:  51214\n",
      "Number of estimators : 44 \t\t Mean Absolute Error:  51021\n",
      "Number of estimators : 45 \t\t Mean Absolute Error:  51062\n",
      "Number of estimators : 46 \t\t Mean Absolute Error:  51156\n",
      "Number of estimators : 47 \t\t Mean Absolute Error:  51088\n",
      "Number of estimators : 48 \t\t Mean Absolute Error:  51023\n",
      "Number of estimators : 49 \t\t Mean Absolute Error:  50941\n",
      "Number of estimators : 50 \t\t Mean Absolute Error:  50893\n",
      "Number of estimators : 51 \t\t Mean Absolute Error:  50853\n",
      "Number of estimators : 52 \t\t Mean Absolute Error:  50855\n",
      "Number of estimators : 53 \t\t Mean Absolute Error:  50835\n",
      "Number of estimators : 54 \t\t Mean Absolute Error:  50778\n",
      "Number of estimators : 55 \t\t Mean Absolute Error:  50863\n",
      "Number of estimators : 56 \t\t Mean Absolute Error:  50794\n",
      "Number of estimators : 57 \t\t Mean Absolute Error:  50743\n",
      "Number of estimators : 58 \t\t Mean Absolute Error:  50687\n",
      "Number of estimators : 59 \t\t Mean Absolute Error:  50716\n",
      "Number of estimators : 60 \t\t Mean Absolute Error:  50708\n",
      "Number of estimators : 61 \t\t Mean Absolute Error:  50705\n",
      "Number of estimators : 62 \t\t Mean Absolute Error:  50745\n",
      "Number of estimators : 63 \t\t Mean Absolute Error:  50769\n",
      "Number of estimators : 64 \t\t Mean Absolute Error:  50859\n",
      "Number of estimators : 65 \t\t Mean Absolute Error:  50832\n",
      "Number of estimators : 66 \t\t Mean Absolute Error:  50838\n",
      "Number of estimators : 67 \t\t Mean Absolute Error:  50900\n",
      "Number of estimators : 68 \t\t Mean Absolute Error:  50946\n",
      "Number of estimators : 69 \t\t Mean Absolute Error:  50942\n",
      "Number of estimators : 70 \t\t Mean Absolute Error:  50921\n",
      "Number of estimators : 71 \t\t Mean Absolute Error:  50915\n",
      "Number of estimators : 72 \t\t Mean Absolute Error:  50871\n",
      "Number of estimators : 73 \t\t Mean Absolute Error:  50876\n",
      "Number of estimators : 74 \t\t Mean Absolute Error:  50796\n",
      "Number of estimators : 75 \t\t Mean Absolute Error:  50764\n",
      "Number of estimators : 76 \t\t Mean Absolute Error:  50895\n",
      "Number of estimators : 77 \t\t Mean Absolute Error:  50949\n",
      "Number of estimators : 78 \t\t Mean Absolute Error:  51014\n",
      "Number of estimators : 79 \t\t Mean Absolute Error:  51018\n",
      "Number of estimators : 80 \t\t Mean Absolute Error:  51037\n",
      "Number of estimators : 81 \t\t Mean Absolute Error:  51118\n",
      "Number of estimators : 82 \t\t Mean Absolute Error:  51157\n",
      "Number of estimators : 83 \t\t Mean Absolute Error:  51196\n",
      "Number of estimators : 84 \t\t Mean Absolute Error:  51223\n",
      "Number of estimators : 85 \t\t Mean Absolute Error:  51263\n",
      "Number of estimators : 86 \t\t Mean Absolute Error:  51214\n",
      "Number of estimators : 87 \t\t Mean Absolute Error:  51220\n",
      "Number of estimators : 88 \t\t Mean Absolute Error:  51204\n",
      "Number of estimators : 89 \t\t Mean Absolute Error:  51199\n",
      "Number of estimators : 90 \t\t Mean Absolute Error:  51135\n",
      "Number of estimators : 91 \t\t Mean Absolute Error:  51072\n",
      "Number of estimators : 92 \t\t Mean Absolute Error:  51064\n",
      "Number of estimators : 93 \t\t Mean Absolute Error:  51038\n",
      "Number of estimators : 94 \t\t Mean Absolute Error:  51024\n",
      "Number of estimators : 95 \t\t Mean Absolute Error:  51016\n",
      "Number of estimators : 96 \t\t Mean Absolute Error:  51050\n",
      "Number of estimators : 97 \t\t Mean Absolute Error:  51074\n",
      "Number of estimators : 98 \t\t Mean Absolute Error:  51012\n",
      "Number of estimators : 99 \t\t Mean Absolute Error:  51009\n",
      "Time taken = 566650 ms\n"
     ]
    }
   ],
   "source": [
    "start = datetime.now()\n",
    "\n",
    "plot_mae = []\n",
    "estimator = range(2,100)\n",
    "\n",
    "for num_est in range(2,100):\n",
    "    my_mae = get_mae_rf(num_est,train_X,test_X,train_y,test_y)\n",
    "    print(\"Number of estimators : %d \\t\\t Mean Absolute Error:  %d\" %(num_est,my_mae))\n",
    "    plot_mae.append(my_mae)\n",
    "\n",
    "print (\"Time taken = {} ms\".format((datetime.now() - start).microseconds))\n"
   ]
  },
  {
   "cell_type": "code",
   "execution_count": 10,
   "metadata": {
    "colab": {
     "base_uri": "https://localhost:8080/"
    },
    "id": "03bd8fdd",
    "outputId": "d24aac2c-76b4-425a-c4be-a241c12bb2fb"
   },
   "outputs": [
    {
     "name": "stdout",
     "output_type": "stream",
     "text": [
      "num_est : 340 \t\t Mean Absolute Error:  50695\n",
      "num_est : 341 \t\t Mean Absolute Error:  50699\n",
      "num_est : 342 \t\t Mean Absolute Error:  50704\n",
      "num_est : 343 \t\t Mean Absolute Error:  50707\n",
      "num_est : 344 \t\t Mean Absolute Error:  50712\n",
      "num_est : 345 \t\t Mean Absolute Error:  50701\n",
      "num_est : 346 \t\t Mean Absolute Error:  50718\n",
      "num_est : 347 \t\t Mean Absolute Error:  50721\n",
      "num_est : 348 \t\t Mean Absolute Error:  50741\n",
      "num_est : 349 \t\t Mean Absolute Error:  50732\n",
      "Time taken = 43 s\n"
     ]
    }
   ],
   "source": [
    "start = datetime.now()\n",
    "\n",
    "plot_mae = []\n",
    "estimator = range(2,100)\n",
    "\n",
    "for num_est in range(340,350):\n",
    "    my_mae = get_mae_rf(num_est,train_X,test_X,train_y,test_y)\n",
    "    print(\"num_est : %d \\t\\t Mean Absolute Error:  %d\" %(num_est,my_mae))\n",
    "    plot_mae.append(my_mae)\n",
    "\n",
    "print (\"Time taken = {} s\".format((datetime.now() - start).seconds))\n",
    "\n"
   ]
  },
  {
   "cell_type": "markdown",
   "metadata": {
    "id": "j3tP9e1aEdfF"
   },
   "source": [
    "Even if we are increasing the number of estimators, it seems that it is not getting any better then the first trial."
   ]
  },
  {
   "cell_type": "markdown",
   "metadata": {
    "id": "OIN40YHfEgqI"
   },
   "source": [
    "At aounrd 350 round, it starts to get better results."
   ]
  },
  {
   "cell_type": "code",
   "execution_count": 11,
   "metadata": {
    "colab": {
     "base_uri": "https://localhost:8080/",
     "height": 621
    },
    "id": "efd7c5cc",
    "outputId": "3a8d54bd-59b3-4c3c-cb0d-d6a0cf154af5"
   },
   "outputs": [
    {
     "data": {
      "image/png": "[encoded data removed]",
      "text/plain": [
       "<Figure size 936x720 with 1 Axes>"
      ]
     },
     "metadata": {
      "needs_background": "light"
     },
     "output_type": "display_data"
    }
   ],
   "source": [
    "# %matplotlib inline\n",
    "features = train_X.columns\n",
    "importances = rf_model.feature_importances_\n",
    "indices = np.argsort(importances)\n",
    "\n",
    "\n",
    "plt.figure(figsize=(13,10))\n",
    "plt.title('Feature Importances - Random Forest')\n",
    "plt.barh(range(len(indices)), importances[indices], color='blue', align='center')\n",
    "plt.yticks(range(len(indices)), features[indices])\n",
    "plt.xlabel('Relative Importance')\n",
    "plt.savefig('FeatureImportance-RandomForest.png')\n",
    "plt.show()\n"
   ]
  },
  {
   "cell_type": "markdown",
   "metadata": {
    "id": "24e6dd10"
   },
   "source": [
    "### Light GBM"
   ]
  },
  {
   "cell_type": "code",
   "execution_count": 12,
   "metadata": {
    "id": "d9ff982d"
   },
   "outputs": [
    {
     "name": "stderr",
     "output_type": "stream",
     "text": [
      "C:\\Users\\USER\\Anaconda3\\lib\\site-packages\\dask\\config.py:168: YAMLLoadWarning: calling yaml.load() without Loader=... is deprecated, as the default Loader is unsafe. Please read https://msg.pyyaml.org/load for full details.\n",
      "  data = yaml.load(f.read()) or {}\n",
      "C:\\Users\\USER\\Anaconda3\\lib\\site-packages\\distributed\\config.py:20: YAMLLoadWarning: calling yaml.load() without Loader=... is deprecated, as the default Loader is unsafe. Please read https://msg.pyyaml.org/load for full details.\n",
      "  defaults = yaml.load(f)\n"
     ]
    }
   ],
   "source": [
    "import lightgbm as lgb"
   ]
  },
  {
   "cell_type": "code",
   "execution_count": 13,
   "metadata": {
    "colab": {
     "base_uri": "https://localhost:8080/"
    },
    "id": "a971ef5c",
    "outputId": "5596a53a-8c54-47ac-cf47-51eb5511615e"
   },
   "outputs": [
    {
     "name": "stdout",
     "output_type": "stream",
     "text": [
      "[1]\tvalid_0's l2: 2.08311e+10\n",
      "[2]\tvalid_0's l2: 1.79562e+10\n",
      "[3]\tvalid_0's l2: 1.5681e+10\n",
      "[4]\tvalid_0's l2: 1.37485e+10\n",
      "[5]\tvalid_0's l2: 1.21321e+10\n",
      "[6]\tvalid_0's l2: 1.08704e+10\n",
      "[7]\tvalid_0's l2: 9.76529e+09\n",
      "[8]\tvalid_0's l2: 8.95937e+09\n",
      "[9]\tvalid_0's l2: 8.24278e+09\n",
      "[10]\tvalid_0's l2: 7.64986e+09\n",
      "[11]\tvalid_0's l2: 7.17254e+09\n",
      "[12]\tvalid_0's l2: 6.79275e+09\n",
      "[13]\tvalid_0's l2: 6.46307e+09\n",
      "[14]\tvalid_0's l2: 6.18124e+09\n",
      "[15]\tvalid_0's l2: 5.93396e+09\n",
      "[16]\tvalid_0's l2: 5.71355e+09\n",
      "[17]\tvalid_0's l2: 5.5681e+09\n",
      "[18]\tvalid_0's l2: 5.41947e+09\n",
      "[19]\tvalid_0's l2: 5.33162e+09\n",
      "[20]\tvalid_0's l2: 5.20561e+09\n",
      "[21]\tvalid_0's l2: 5.10816e+09\n",
      "[22]\tvalid_0's l2: 5.01241e+09\n",
      "[23]\tvalid_0's l2: 4.96633e+09\n",
      "[24]\tvalid_0's l2: 4.91433e+09\n",
      "[25]\tvalid_0's l2: 4.88163e+09\n",
      "[26]\tvalid_0's l2: 4.84754e+09\n",
      "[27]\tvalid_0's l2: 4.83395e+09\n",
      "[28]\tvalid_0's l2: 4.80827e+09\n",
      "[29]\tvalid_0's l2: 4.75577e+09\n",
      "[30]\tvalid_0's l2: 4.71809e+09\n",
      "[31]\tvalid_0's l2: 4.69e+09\n",
      "[32]\tvalid_0's l2: 4.68609e+09\n",
      "[33]\tvalid_0's l2: 4.67803e+09\n",
      "[34]\tvalid_0's l2: 4.64329e+09\n",
      "[35]\tvalid_0's l2: 4.63056e+09\n",
      "[36]\tvalid_0's l2: 4.6077e+09\n",
      "[37]\tvalid_0's l2: 4.61308e+09\n",
      "[38]\tvalid_0's l2: 4.60935e+09\n",
      "[39]\tvalid_0's l2: 4.59594e+09\n",
      "[40]\tvalid_0's l2: 4.5838e+09\n",
      "[41]\tvalid_0's l2: 4.57611e+09\n",
      "[42]\tvalid_0's l2: 4.56244e+09\n",
      "[43]\tvalid_0's l2: 4.54531e+09\n",
      "[44]\tvalid_0's l2: 4.55032e+09\n",
      "[45]\tvalid_0's l2: 4.54468e+09\n",
      "[46]\tvalid_0's l2: 4.54017e+09\n",
      "[47]\tvalid_0's l2: 4.53871e+09\n",
      "[48]\tvalid_0's l2: 4.52649e+09\n",
      "[49]\tvalid_0's l2: 4.53941e+09\n",
      "[50]\tvalid_0's l2: 4.52533e+09\n",
      "[51]\tvalid_0's l2: 4.54407e+09\n",
      "[52]\tvalid_0's l2: 4.54997e+09\n",
      "[53]\tvalid_0's l2: 4.55484e+09\n",
      "[54]\tvalid_0's l2: 4.54384e+09\n",
      "[55]\tvalid_0's l2: 4.54825e+09\n",
      "[56]\tvalid_0's l2: 4.55438e+09\n",
      "[57]\tvalid_0's l2: 4.56754e+09\n",
      "[58]\tvalid_0's l2: 4.56275e+09\n",
      "[59]\tvalid_0's l2: 4.56217e+09\n",
      "[60]\tvalid_0's l2: 4.57412e+09\n",
      "[61]\tvalid_0's l2: 4.58311e+09\n",
      "[62]\tvalid_0's l2: 4.60228e+09\n",
      "[63]\tvalid_0's l2: 4.60648e+09\n",
      "[64]\tvalid_0's l2: 4.60526e+09\n",
      "[65]\tvalid_0's l2: 4.6176e+09\n",
      "[66]\tvalid_0's l2: 4.61948e+09\n",
      "[67]\tvalid_0's l2: 4.62957e+09\n",
      "[68]\tvalid_0's l2: 4.63684e+09\n",
      "[69]\tvalid_0's l2: 4.63094e+09\n",
      "[70]\tvalid_0's l2: 4.63507e+09\n",
      "[71]\tvalid_0's l2: 4.64653e+09\n",
      "[72]\tvalid_0's l2: 4.64827e+09\n",
      "[73]\tvalid_0's l2: 4.64533e+09\n",
      "[74]\tvalid_0's l2: 4.64799e+09\n",
      "[75]\tvalid_0's l2: 4.65634e+09\n",
      "[76]\tvalid_0's l2: 4.64832e+09\n",
      "[77]\tvalid_0's l2: 4.64331e+09\n",
      "[78]\tvalid_0's l2: 4.6413e+09\n",
      "[79]\tvalid_0's l2: 4.6408e+09\n",
      "[80]\tvalid_0's l2: 4.65302e+09\n",
      "[81]\tvalid_0's l2: 4.65155e+09\n",
      "[82]\tvalid_0's l2: 4.65132e+09\n",
      "[83]\tvalid_0's l2: 4.66571e+09\n",
      "[84]\tvalid_0's l2: 4.66378e+09\n",
      "[85]\tvalid_0's l2: 4.65762e+09\n",
      "[86]\tvalid_0's l2: 4.66481e+09\n",
      "[87]\tvalid_0's l2: 4.65974e+09\n",
      "[88]\tvalid_0's l2: 4.65235e+09\n",
      "[89]\tvalid_0's l2: 4.66004e+09\n",
      "[90]\tvalid_0's l2: 4.66481e+09\n",
      "[91]\tvalid_0's l2: 4.65546e+09\n",
      "[92]\tvalid_0's l2: 4.65181e+09\n",
      "[93]\tvalid_0's l2: 4.6545e+09\n",
      "[94]\tvalid_0's l2: 4.65432e+09\n",
      "[95]\tvalid_0's l2: 4.65746e+09\n",
      "[96]\tvalid_0's l2: 4.65171e+09\n",
      "[97]\tvalid_0's l2: 4.64803e+09\n",
      "[98]\tvalid_0's l2: 4.65238e+09\n",
      "[99]\tvalid_0's l2: 4.65413e+09\n",
      "[100]\tvalid_0's l2: 4.66135e+09\n"
     ]
    },
    {
     "data": {
      "text/plain": [
       "LGBMRegressor(boosting_type='gbdt', class_weight=None, colsample_bytree=1.0,\n",
       "       importance_type='split', learning_rate=0.1, max_depth=-1,\n",
       "       min_child_samples=20, min_child_weight=0.001, min_split_gain=0.0,\n",
       "       n_estimators=100, n_jobs=-1, num_leaves=31, objective=None,\n",
       "       random_state=None, reg_alpha=0.0, reg_lambda=0.0, silent='warn',\n",
       "       subsample=1.0, subsample_for_bin=200000, subsample_freq=0)"
      ]
     },
     "execution_count": 13,
     "metadata": {},
     "output_type": "execute_result"
    }
   ],
   "source": [
    "lgr = lgb.LGBMRegressor()\n",
    "lgr.fit(train_X, train_y, eval_set=(test_X, test_y))\n"
   ]
  },
  {
   "cell_type": "code",
   "execution_count": 14,
   "metadata": {
    "colab": {
     "base_uri": "https://localhost:8080/"
    },
    "id": "AilNrJTs-dec",
    "outputId": "df99dca3-9b6d-4e53-8666-fa674db73ddc"
   },
   "outputs": [
    {
     "data": {
      "text/plain": [
       "49864.64752943325"
      ]
     },
     "execution_count": 14,
     "metadata": {},
     "output_type": "execute_result"
    }
   ],
   "source": [
    "y_optimum_lgr = lgr.predict(test_X)\n",
    "mean_absolute_error(test_y, y_optimum_lgr)"
   ]
  },
  {
   "cell_type": "markdown",
   "metadata": {
    "id": "bq2DSHcFFpUO"
   },
   "source": [
    "The MAE is too high. So we need to tune the model by changing no of estimators."
   ]
  },
  {
   "cell_type": "code",
   "execution_count": 15,
   "metadata": {
    "colab": {
     "base_uri": "https://localhost:8080/"
    },
    "id": "wsCcs-1m-gKI",
    "outputId": "cdbe9a17-2f6c-4c31-b0b1-d47969cdc7b0"
   },
   "outputs": [
    {
     "name": "stderr",
     "output_type": "stream",
     "text": [
      "C:\\Users\\USER\\Anaconda3\\lib\\site-packages\\lightgbm\\sklearn.py:736: UserWarning: 'verbose' argument is deprecated and will be removed in a future release of LightGBM. Pass 'log_evaluation()' callback via 'callbacks' argument instead.\n",
      "  _log_warning(\"'verbose' argument is deprecated and will be removed in a future release of LightGBM. \"\n"
     ]
    },
    {
     "data": {
      "text/plain": [
       "LGBMRegressor(boosting_type='gbdt', class_weight=None, colsample_bytree=1.0,\n",
       "       importance_type='split', learning_rate=0.1, max_depth=-1,\n",
       "       min_child_samples=20, min_child_weight=0.001, min_split_gain=0.0,\n",
       "       n_estimators=10000, n_jobs=-1, num_leaves=31, objective=None,\n",
       "       random_state=None, reg_alpha=0.0, reg_lambda=0.0, silent='warn',\n",
       "       subsample=1.0, subsample_for_bin=200000, subsample_freq=0)"
      ]
     },
     "execution_count": 15,
     "metadata": {},
     "output_type": "execute_result"
    }
   ],
   "source": [
    "lgr = lgb.LGBMRegressor(n_estimators=10000)\n",
    "lgr.fit(train_X, train_y, eval_set=(test_X, test_y), verbose=False)\n"
   ]
  },
  {
   "cell_type": "code",
   "execution_count": 16,
   "metadata": {
    "colab": {
     "base_uri": "https://localhost:8080/"
    },
    "id": "5ytyCWCL-iAF",
    "outputId": "6a291d33-d0da-41e8-f872-9c51e0410fcf"
   },
   "outputs": [
    {
     "data": {
      "text/plain": [
       "49917.75191175215"
      ]
     },
     "execution_count": 16,
     "metadata": {},
     "output_type": "execute_result"
    }
   ],
   "source": [
    "\n",
    "\n",
    "y_optimum_lgr = lgr.predict(test_X)\n",
    "mean_absolute_error(test_y, y_optimum_lgr)\n",
    "\n"
   ]
  },
  {
   "cell_type": "code",
   "execution_count": 17,
   "metadata": {
    "colab": {
     "base_uri": "https://localhost:8080/",
     "height": 621
    },
    "id": "5P5Ca7cF-kQP",
    "outputId": "e83f66fd-3e6c-4007-e41c-0b363a8022ec"
   },
   "outputs": [
    {
     "data": {
      "image/png": "[encoded data removed]",
      "text/plain": [
       "<Figure size 936x720 with 1 Axes>"
      ]
     },
     "metadata": {
      "needs_background": "light"
     },
     "output_type": "display_data"
    }
   ],
   "source": [
    "\n",
    "plt.figure(figsize=(13,10))\n",
    "for y,x in sorted(zip(lgr.feature_importances_, train_X.columns), reverse=False):\n",
    "    plt.barh(x,y, color='g')\n",
    "    plt.title('Feature Importances - Lightgbm')\n",
    "    plt.xlabel('Relative Importance')\n",
    "    plt.savefig('FeatureImportance-LightGBM.png')"
   ]
  },
  {
   "cell_type": "code",
   "execution_count": null,
   "metadata": {},
   "outputs": [],
   "source": []
  }
 ],
 "metadata": {
  "colab": {
   "name": "predict_neighbourhood_factos_affecting_price_of_estate.ipynb",
   "provenance": []
  },
  "kernelspec": {
   "display_name": "Python 3",
   "language": "python",
   "name": "python3"
  },
  "language_info": {
   "codemirror_mode": {
    "name": "ipython",
    "version": 3
   },
   "file_extension": ".py",
   "mimetype": "text/x-python",
   "name": "python",
   "nbconvert_exporter": "python",
   "pygments_lexer": "ipython3",
   "version": "3.7.3"
  }
 },
 "nbformat": 4,
 "nbformat_minor": 5
}
