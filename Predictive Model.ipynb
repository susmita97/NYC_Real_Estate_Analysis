{
 "cells": [
  {
   "cell_type": "code",
   "execution_count": 1,
   "metadata": {},
   "outputs": [
    {
     "name": "stderr",
     "output_type": "stream",
     "text": [
      "C:\\Users\\USER\\Anaconda3\\lib\\site-packages\\distributed\\config.py:20: YAMLLoadWarning: calling yaml.load() without Loader=... is deprecated, as the default Loader is unsafe. Please read https://msg.pyyaml.org/load for full details.\n",
      "  defaults = yaml.load(f)\n"
     ]
    }
   ],
   "source": [
    "import numpy as np\n",
    "import pandas as pd\n",
    "\n",
    "import matplotlib.pyplot as plt\n",
    "from sklearn.model_selection import train_test_split\n",
    "\n",
    "from sklearn import linear_model\n",
    "from sklearn.ensemble import RandomForestRegressor\n",
    "from sklearn.metrics import mean_absolute_error\n",
    "\n",
    "import lightgbm as lgb\n",
    "\n",
    "%matplotlib inline\n"
   ]
  },
  {
   "cell_type": "code",
   "execution_count": 2,
   "metadata": {},
   "outputs": [],
   "source": [
    "#mandf_2020 = pd.read_csv('2020/2020_manhattan.csv',header=None)"
   ]
  },
  {
   "cell_type": "code",
   "execution_count": 3,
   "metadata": {},
   "outputs": [],
   "source": [
    "#mandf_2020.head()"
   ]
  },
  {
   "cell_type": "code",
   "execution_count": 4,
   "metadata": {},
   "outputs": [],
   "source": [
    "#2020\n",
    "manhattan2020 = pd.read_csv('2020/2020_manhattan.csv')\n",
    "brooklyn2020 = pd.read_csv('2020/2020_brooklyn.csv')\n",
    "bronx2020 = pd.read_csv('2020/2020_bronx.csv')\n",
    "queens2020 = pd.read_csv('2020/2020_queens.csv')\n",
    "staten_island2020 = pd.read_csv('2020/2020_staten_island.csv')"
   ]
  },
  {
   "cell_type": "code",
   "execution_count": 5,
   "metadata": {},
   "outputs": [],
   "source": [
    "#2019\n",
    "manhattan2019 = pd.read_csv('2019/2019_manhattan.csv')\n",
    "brooklyn2019 = pd.read_csv('2019/2019_brooklyn.csv')\n",
    "bronx2019 = pd.read_csv('2019/2019_bronx.csv')\n",
    "queens2019 = pd.read_csv('2019/2019_queens.csv')\n",
    "staten_island2019 = pd.read_csv('2019/2019_statenisland.csv')"
   ]
  },
  {
   "cell_type": "code",
   "execution_count": 6,
   "metadata": {},
   "outputs": [],
   "source": [
    "#2018\n",
    "manhattan2018 = pd.read_csv('2018/2018_manhattan.csv')\n",
    "brooklyn2018 = pd.read_csv('2018/2018_brooklyn.csv')\n",
    "bronx2018 = pd.read_csv('2018/2018_bronx.csv')\n",
    "queens2018 = pd.read_csv('2018/2018_queens.csv')\n",
    "staten_island2018 = pd.read_csv('2018/2018_statenisland.csv')"
   ]
  },
  {
   "cell_type": "code",
   "execution_count": 7,
   "metadata": {},
   "outputs": [],
   "source": [
    "#2017\n",
    "manhattan2017 = pd.read_csv('2017/2017_manhattan.csv')\n",
    "brooklyn2017 = pd.read_csv('2017/2017_brooklyn.csv')\n",
    "bronx2017 = pd.read_csv('2017/2017_bronx.csv')\n",
    "queens2017 = pd.read_csv('2017/2017_queens.csv')\n",
    "staten_island2017 = pd.read_csv('2017/2017_statenisland.csv')"
   ]
  },
  {
   "cell_type": "code",
   "execution_count": 8,
   "metadata": {},
   "outputs": [],
   "source": [
    "#2016\n",
    "manhattan2016 = pd.read_csv('2016/2016_manhattan.csv')\n",
    "brooklyn2016 = pd.read_csv('2016/2016_brooklyn.csv')\n",
    "bronx2016 = pd.read_csv('2016/2016_bronx.csv')\n",
    "queens2016 = pd.read_csv('2016/2016_queens.csv')\n",
    "staten_island2016 = pd.read_csv('2016/2016_statenisland.csv')"
   ]
  },
  {
   "cell_type": "code",
   "execution_count": 9,
   "metadata": {},
   "outputs": [],
   "source": [
    "data_frames2016 = [manhattan2016,brooklyn2016,bronx2016,queens2016,staten_island2016]\n",
    "data_frames2017 = [manhattan2017,brooklyn2017,bronx2017,queens2017,staten_island2017]\n",
    "data_frames2018 = [manhattan2018,brooklyn2018,bronx2018,queens2018,staten_island2018]\n",
    "data_frames2019 = [manhattan2019,brooklyn2019,bronx2019,queens2019,staten_island2019]\n",
    "data_frames2020 = [manhattan2020,brooklyn2020,bronx2020,queens2020,staten_island2020]"
   ]
  },
  {
   "cell_type": "code",
   "execution_count": 10,
   "metadata": {},
   "outputs": [],
   "source": [
    "df_merged2016 = pd.concat(data_frames2016,ignore_index=True)"
   ]
  },
  {
   "cell_type": "code",
   "execution_count": 11,
   "metadata": {},
   "outputs": [],
   "source": [
    "df_merged2016.to_csv('df_merged.csv')"
   ]
  },
  {
   "cell_type": "code",
   "execution_count": 12,
   "metadata": {},
   "outputs": [],
   "source": [
    "df_merged2017 = pd.concat(data_frames2017,ignore_index=True)"
   ]
  },
  {
   "cell_type": "code",
   "execution_count": 13,
   "metadata": {},
   "outputs": [],
   "source": [
    "df_merged2018 = pd.concat(data_frames2018,ignore_index=True)"
   ]
  },
  {
   "cell_type": "code",
   "execution_count": 14,
   "metadata": {},
   "outputs": [],
   "source": [
    "df_merged2019 = pd.concat(data_frames2019,ignore_index=True)"
   ]
  },
  {
   "cell_type": "code",
   "execution_count": 15,
   "metadata": {},
   "outputs": [],
   "source": [
    "df_merged2020 = pd.concat(data_frames2020,ignore_index=True)"
   ]
  },
  {
   "cell_type": "code",
   "execution_count": 16,
   "metadata": {},
   "outputs": [],
   "source": [
    "data_frames = [df_merged2016, df_merged2017, df_merged2018, df_merged2019, df_merged2020]"
   ]
  },
  {
   "cell_type": "code",
   "execution_count": 17,
   "metadata": {},
   "outputs": [],
   "source": [
    "#df_merged2016.columns"
   ]
  },
  {
   "cell_type": "code",
   "execution_count": 18,
   "metadata": {},
   "outputs": [],
   "source": [
    "#df_merged2017.columns"
   ]
  },
  {
   "cell_type": "code",
   "execution_count": 19,
   "metadata": {},
   "outputs": [],
   "source": [
    "df_merged2017.rename(columns={'TAX CLASS AS OF FINAL ROLL 17/18':'TAX CLASS AT PRESENT'}, inplace=True)"
   ]
  },
  {
   "cell_type": "code",
   "execution_count": 20,
   "metadata": {},
   "outputs": [],
   "source": [
    "df_merged2017.rename(columns={'BUILDING CLASS AS OF FINAL ROLL 17/18':'BUILDING CLASS AT PRESENT'}, inplace=True)"
   ]
  },
  {
   "cell_type": "code",
   "execution_count": 21,
   "metadata": {},
   "outputs": [],
   "source": [
    "#df_merged2017 = df_merged2017.columns['BOROUGH','NEIGHBORHOOD','BUILDING CLASS CATEGORY','TAX CLASS AT PRESENT','BLOCK','LOT','EASE-MENT','BUILDING CLASS AT PRESENT','ADDRESS','APARTMENT NUMBER','ZIP CODE','RESIDENTIAL UNITS','COMMERCIAL UNITS','TOTAL UNITS','LAND SQUARE FEET','GROSS SQUARE FEET','YEAR BUILT','TAX CLASS AT TIME OF SALE','BUILDING CLASS AT TIME OF SALE','SALE PRICE','SALE DATE']"
   ]
  },
  {
   "cell_type": "code",
   "execution_count": 22,
   "metadata": {},
   "outputs": [],
   "source": [
    "#df_merged2017.head()"
   ]
  },
  {
   "cell_type": "code",
   "execution_count": 23,
   "metadata": {},
   "outputs": [],
   "source": [
    "df_merged2017.columns = df_merged2016.columns"
   ]
  },
  {
   "cell_type": "code",
   "execution_count": 24,
   "metadata": {},
   "outputs": [
    {
     "data": {
      "text/plain": [
       "Index(['BOROUGH\\n', 'NEIGHBORHOOD\\n', 'BUILDING CLASS CATEGORY\\n',\n",
       "       'TAX CLASS AT PRESENT\\n', 'BLOCK\\n', 'LOT\\n', 'EASE-MENT\\n',\n",
       "       'BUILDING CLASS AT PRESENT\\n', 'ADDRESS\\n', 'APARTMENT NUMBER\\n',\n",
       "       'ZIP CODE\\n', 'RESIDENTIAL UNITS\\n', 'COMMERCIAL UNITS\\n',\n",
       "       'TOTAL UNITS\\n', 'LAND SQUARE FEET\\n', 'GROSS SQUARE FEET\\n',\n",
       "       'YEAR BUILT\\n', 'TAX CLASS AT TIME OF SALE\\n',\n",
       "       'BUILDING CLASS AT TIME OF SALE\\n', 'SALE PRICE\\n', 'SALE DATE\\n'],\n",
       "      dtype='object')"
      ]
     },
     "execution_count": 24,
     "metadata": {},
     "output_type": "execute_result"
    }
   ],
   "source": [
    "df_merged2017.columns"
   ]
  },
  {
   "cell_type": "code",
   "execution_count": 25,
   "metadata": {},
   "outputs": [
    {
     "data": {
      "text/plain": [
       "Index(['BOROUGH\\n', 'NEIGHBORHOOD\\n', 'BUILDING CLASS CATEGORY\\n',\n",
       "       'TAX CLASS AS OF FINAL ROLL 18/19', 'BLOCK\\n', 'LOT\\n', 'EASE-MENT\\n',\n",
       "       'BUILDING CLASS AS OF FINAL ROLL 18/19', 'ADDRESS\\n',\n",
       "       'APARTMENT NUMBER\\n', 'ZIP CODE\\n', 'RESIDENTIAL UNITS\\n',\n",
       "       'COMMERCIAL UNITS\\n', 'TOTAL UNITS\\n', 'LAND SQUARE FEET\\n',\n",
       "       'GROSS SQUARE FEET\\n', 'YEAR BUILT\\n', 'TAX CLASS AT TIME OF SALE\\n',\n",
       "       'BUILDING CLASS AT TIME OF SALE\\n', 'SALE PRICE\\n', 'SALE DATE\\n'],\n",
       "      dtype='object')"
      ]
     },
     "execution_count": 25,
     "metadata": {},
     "output_type": "execute_result"
    }
   ],
   "source": [
    "df_merged2018.columns"
   ]
  },
  {
   "cell_type": "code",
   "execution_count": 26,
   "metadata": {},
   "outputs": [],
   "source": [
    "df_merged2018.rename(columns={'TAX CLASS AS OF FINAL ROLL 18/19':'TAX CLASS AT PRESENT'}, inplace=True)\n",
    "df_merged2018.rename(columns={'BUILDING CLASS AS OF FINAL ROLL 18/19':'BUILDING CLASS AT PRESENT'}, inplace=True)"
   ]
  },
  {
   "cell_type": "code",
   "execution_count": 27,
   "metadata": {},
   "outputs": [],
   "source": [
    "df_merged2018.columns = df_merged2017.columns"
   ]
  },
  {
   "cell_type": "code",
   "execution_count": 28,
   "metadata": {},
   "outputs": [
    {
     "data": {
      "text/plain": [
       "Index(['BOROUGH\\n', 'NEIGHBORHOOD\\n', 'BUILDING CLASS CATEGORY\\n',\n",
       "       'TAX CLASS AS OF FINAL ROLL 18/19', 'BLOCK\\n', 'LOT\\n', 'EASE-MENT\\n',\n",
       "       'BUILDING CLASS AS OF FINAL ROLL 18/19', 'ADDRESS\\n',\n",
       "       'APARTMENT NUMBER\\n', 'ZIP CODE\\n', 'RESIDENTIAL UNITS\\n',\n",
       "       'COMMERCIAL UNITS\\n', 'TOTAL UNITS\\n', 'LAND SQUARE FEET\\n',\n",
       "       'GROSS SQUARE FEET\\n', 'YEAR BUILT\\n', 'TAX CLASS AT TIME OF SALE\\n',\n",
       "       'BUILDING CLASS AT TIME OF SALE\\n', 'SALE PRICE\\n', 'SALE DATE\\n'],\n",
       "      dtype='object')"
      ]
     },
     "execution_count": 28,
     "metadata": {},
     "output_type": "execute_result"
    }
   ],
   "source": [
    "df_merged2019.columns"
   ]
  },
  {
   "cell_type": "code",
   "execution_count": 29,
   "metadata": {},
   "outputs": [],
   "source": [
    "df_merged2019.rename(columns={'TAX CLASS AS OF FINAL ROLL 18/19':'TAX CLASS AT PRESENT'}, inplace=True)\n",
    "df_merged2019.rename(columns={'BUILDING CLASS AS OF FINAL ROLL 18/19':'BUILDING CLASS AT PRESENT'}, inplace=True)"
   ]
  },
  {
   "cell_type": "code",
   "execution_count": 30,
   "metadata": {},
   "outputs": [],
   "source": [
    "df_merged2019.columns = df_merged2018.columns"
   ]
  },
  {
   "cell_type": "code",
   "execution_count": 31,
   "metadata": {},
   "outputs": [],
   "source": [
    "df_merged2020.columns = df_merged2019.columns"
   ]
  },
  {
   "cell_type": "code",
   "execution_count": 32,
   "metadata": {},
   "outputs": [],
   "source": [
    "data_frames =[df_merged2016, df_merged2017, df_merged2018, df_merged2019, df_merged2020]\n",
    "\n",
    "df_merged17 = pd.concat(data_frames,ignore_index=True)"
   ]
  },
  {
   "cell_type": "code",
   "execution_count": 33,
   "metadata": {},
   "outputs": [
    {
     "data": {
      "text/plain": [
       "BOROUGH\\n                           414852\n",
       "NEIGHBORHOOD\\n                      414852\n",
       "BUILDING CLASS CATEGORY\\n           414852\n",
       "TAX CLASS AT PRESENT\\n              414568\n",
       "BLOCK\\n                             414852\n",
       "LOT\\n                               414852\n",
       "EASE-MENT\\n                         178466\n",
       "BUILDING CLASS AT PRESENT\\n         414568\n",
       "ADDRESS\\n                           414852\n",
       "APARTMENT NUMBER\\n                  230293\n",
       "ZIP CODE\\n                          414825\n",
       "RESIDENTIAL UNITS\\n                 384751\n",
       "COMMERCIAL UNITS\\n                  384751\n",
       "TOTAL UNITS\\n                       384751\n",
       "LAND SQUARE FEET\\n                  384750\n",
       "GROSS SQUARE FEET\\n                 384751\n",
       "YEAR BUILT\\n                        403978\n",
       "TAX CLASS AT TIME OF SALE\\n         414852\n",
       "BUILDING CLASS AT TIME OF SALE\\n    414852\n",
       "SALE PRICE\\n                        414852\n",
       "SALE DATE\\n                         414852\n",
       "dtype: int64"
      ]
     },
     "execution_count": 33,
     "metadata": {},
     "output_type": "execute_result"
    }
   ],
   "source": [
    "df_merged17.count()"
   ]
  },
  {
   "cell_type": "code",
   "execution_count": 34,
   "metadata": {},
   "outputs": [],
   "source": [
    "df_merged17.to_csv('df_merge17.csv')"
   ]
  },
  {
   "cell_type": "code",
   "execution_count": 35,
   "metadata": {},
   "outputs": [
    {
     "data": {
      "text/plain": [
       "Index(['BOROUGH\\n', 'NEIGHBORHOOD\\n', 'BUILDING CLASS CATEGORY\\n',\n",
       "       'TAX CLASS AT PRESENT\\n', 'BLOCK\\n', 'LOT\\n', 'EASE-MENT\\n',\n",
       "       'BUILDING CLASS AT PRESENT\\n', 'ADDRESS\\n', 'APARTMENT NUMBER\\n',\n",
       "       'ZIP CODE\\n', 'RESIDENTIAL UNITS\\n', 'COMMERCIAL UNITS\\n',\n",
       "       'TOTAL UNITS\\n', 'LAND SQUARE FEET\\n', 'GROSS SQUARE FEET\\n',\n",
       "       'YEAR BUILT\\n', 'TAX CLASS AT TIME OF SALE\\n',\n",
       "       'BUILDING CLASS AT TIME OF SALE\\n', 'SALE PRICE\\n', 'SALE DATE\\n'],\n",
       "      dtype='object')"
      ]
     },
     "execution_count": 35,
     "metadata": {},
     "output_type": "execute_result"
    }
   ],
   "source": [
    "df_merged17.columns"
   ]
  },
  {
   "cell_type": "code",
   "execution_count": 36,
   "metadata": {},
   "outputs": [
    {
     "data": {
      "text/html": [
       "<div>\n",
       "<style scoped>\n",
       "    .dataframe tbody tr th:only-of-type {\n",
       "        vertical-align: middle;\n",
       "    }\n",
       "\n",
       "    .dataframe tbody tr th {\n",
       "        vertical-align: top;\n",
       "    }\n",
       "\n",
       "    .dataframe thead th {\n",
       "        text-align: right;\n",
       "    }\n",
       "</style>\n",
       "<table border=\"1\" class=\"dataframe\">\n",
       "  <thead>\n",
       "    <tr style=\"text-align: right;\">\n",
       "      <th></th>\n",
       "      <th>BOROUGH</th>\n",
       "      <th>NEIGHBORHOOD</th>\n",
       "      <th>BUILDING CLASS CATEGORY</th>\n",
       "      <th>TAX CLASS AT PRESENT</th>\n",
       "      <th>BLOCK</th>\n",
       "      <th>LOT</th>\n",
       "      <th>EASE-MENT</th>\n",
       "      <th>BUILDING CLASS AT PRESENT</th>\n",
       "      <th>ADDRESS</th>\n",
       "      <th>APARTMENT NUMBER</th>\n",
       "      <th>...</th>\n",
       "      <th>RESIDENTIAL UNITS</th>\n",
       "      <th>COMMERCIAL UNITS</th>\n",
       "      <th>TOTAL UNITS</th>\n",
       "      <th>LAND SQUARE FEET</th>\n",
       "      <th>GROSS SQUARE FEET</th>\n",
       "      <th>YEAR BUILT</th>\n",
       "      <th>TAX CLASS AT TIME OF SALE</th>\n",
       "      <th>BUILDING CLASS AT TIME OF SALE</th>\n",
       "      <th>SALE PRICE</th>\n",
       "      <th>SALE DATE</th>\n",
       "    </tr>\n",
       "  </thead>\n",
       "  <tbody>\n",
       "    <tr>\n",
       "      <th>0</th>\n",
       "      <td>1.0</td>\n",
       "      <td>ALPHABET CITY</td>\n",
       "      <td>03  THREE FAMILY DWELLINGS</td>\n",
       "      <td>1</td>\n",
       "      <td>376.0</td>\n",
       "      <td>24.0</td>\n",
       "      <td></td>\n",
       "      <td>C0</td>\n",
       "      <td>264 EAST 7TH   STREET</td>\n",
       "      <td></td>\n",
       "      <td>...</td>\n",
       "      <td>3</td>\n",
       "      <td>-</td>\n",
       "      <td>3</td>\n",
       "      <td>2,059</td>\n",
       "      <td>3,696</td>\n",
       "      <td>1900.0</td>\n",
       "      <td>1.0</td>\n",
       "      <td>C0</td>\n",
       "      <td>7,738,700</td>\n",
       "      <td>12/22/2016</td>\n",
       "    </tr>\n",
       "    <tr>\n",
       "      <th>1</th>\n",
       "      <td>1.0</td>\n",
       "      <td>ALPHABET CITY</td>\n",
       "      <td>07  RENTALS - WALKUP APARTMENTS</td>\n",
       "      <td>2</td>\n",
       "      <td>385.0</td>\n",
       "      <td>2.0</td>\n",
       "      <td></td>\n",
       "      <td>C7</td>\n",
       "      <td>21 AVENUE B</td>\n",
       "      <td></td>\n",
       "      <td>...</td>\n",
       "      <td>12</td>\n",
       "      <td>4</td>\n",
       "      <td>16</td>\n",
       "      <td>4,186</td>\n",
       "      <td>10,588</td>\n",
       "      <td>1900.0</td>\n",
       "      <td>2.0</td>\n",
       "      <td>C7</td>\n",
       "      <td>-</td>\n",
       "      <td>3/10/2016</td>\n",
       "    </tr>\n",
       "    <tr>\n",
       "      <th>2</th>\n",
       "      <td>1.0</td>\n",
       "      <td>ALPHABET CITY</td>\n",
       "      <td>07  RENTALS - WALKUP APARTMENTS</td>\n",
       "      <td>2B</td>\n",
       "      <td>389.0</td>\n",
       "      <td>53.0</td>\n",
       "      <td></td>\n",
       "      <td>C1</td>\n",
       "      <td>615 EAST 6TH   STREET</td>\n",
       "      <td></td>\n",
       "      <td>...</td>\n",
       "      <td>10</td>\n",
       "      <td>-</td>\n",
       "      <td>10</td>\n",
       "      <td>2,271</td>\n",
       "      <td>7,860</td>\n",
       "      <td>1939.0</td>\n",
       "      <td>2.0</td>\n",
       "      <td>C1</td>\n",
       "      <td>6,350,000</td>\n",
       "      <td>4/20/2016</td>\n",
       "    </tr>\n",
       "    <tr>\n",
       "      <th>3</th>\n",
       "      <td>1.0</td>\n",
       "      <td>ALPHABET CITY</td>\n",
       "      <td>07  RENTALS - WALKUP APARTMENTS</td>\n",
       "      <td>2</td>\n",
       "      <td>399.0</td>\n",
       "      <td>26.0</td>\n",
       "      <td></td>\n",
       "      <td>C7</td>\n",
       "      <td>234 EAST 4TH   STREET</td>\n",
       "      <td></td>\n",
       "      <td>...</td>\n",
       "      <td>28</td>\n",
       "      <td>3</td>\n",
       "      <td>31</td>\n",
       "      <td>4,616</td>\n",
       "      <td>18,690</td>\n",
       "      <td>1900.0</td>\n",
       "      <td>2.0</td>\n",
       "      <td>C7</td>\n",
       "      <td>-</td>\n",
       "      <td>12/14/2016</td>\n",
       "    </tr>\n",
       "    <tr>\n",
       "      <th>4</th>\n",
       "      <td>1.0</td>\n",
       "      <td>ALPHABET CITY</td>\n",
       "      <td>07  RENTALS - WALKUP APARTMENTS</td>\n",
       "      <td>2</td>\n",
       "      <td>399.0</td>\n",
       "      <td>39.0</td>\n",
       "      <td></td>\n",
       "      <td>C7</td>\n",
       "      <td>197 EAST 3RD   STREET</td>\n",
       "      <td></td>\n",
       "      <td>...</td>\n",
       "      <td>16</td>\n",
       "      <td>1</td>\n",
       "      <td>17</td>\n",
       "      <td>2,212</td>\n",
       "      <td>7,803</td>\n",
       "      <td>1900.0</td>\n",
       "      <td>2.0</td>\n",
       "      <td>C7</td>\n",
       "      <td>-</td>\n",
       "      <td>12/9/2016</td>\n",
       "    </tr>\n",
       "  </tbody>\n",
       "</table>\n",
       "<p>5 rows × 21 columns</p>\n",
       "</div>"
      ],
      "text/plain": [
       "   BOROUGH\\n             NEIGHBORHOOD\\n  \\\n",
       "0        1.0  ALPHABET CITY               \n",
       "1        1.0  ALPHABET CITY               \n",
       "2        1.0  ALPHABET CITY               \n",
       "3        1.0  ALPHABET CITY               \n",
       "4        1.0  ALPHABET CITY               \n",
       "\n",
       "                      BUILDING CLASS CATEGORY\\n TAX CLASS AT PRESENT\\n  \\\n",
       "0  03  THREE FAMILY DWELLINGS                                        1   \n",
       "1  07  RENTALS - WALKUP APARTMENTS                                   2   \n",
       "2  07  RENTALS - WALKUP APARTMENTS                                  2B   \n",
       "3  07  RENTALS - WALKUP APARTMENTS                                   2   \n",
       "4  07  RENTALS - WALKUP APARTMENTS                                   2   \n",
       "\n",
       "   BLOCK\\n  LOT\\n EASE-MENT\\n BUILDING CLASS AT PRESENT\\n  \\\n",
       "0    376.0   24.0                                      C0   \n",
       "1    385.0    2.0                                      C7   \n",
       "2    389.0   53.0                                      C1   \n",
       "3    399.0   26.0                                      C7   \n",
       "4    399.0   39.0                                      C7   \n",
       "\n",
       "                                   ADDRESS\\n APARTMENT NUMBER\\n  ...  \\\n",
       "0  264 EAST 7TH   STREET                                         ...   \n",
       "1  21 AVENUE B                                                   ...   \n",
       "2  615 EAST 6TH   STREET                                         ...   \n",
       "3  234 EAST 4TH   STREET                                         ...   \n",
       "4  197 EAST 3RD   STREET                                         ...   \n",
       "\n",
       "   RESIDENTIAL UNITS\\n COMMERCIAL UNITS\\n TOTAL UNITS\\n LAND SQUARE FEET\\n  \\\n",
       "0                   3                -               3              2,059    \n",
       "1                  12                  4            16              4,186    \n",
       "2                  10                -              10              2,271    \n",
       "3                  28                  3            31              4,616    \n",
       "4                  16                  1            17              2,212    \n",
       "\n",
       "  GROSS SQUARE FEET\\n YEAR BUILT\\n  TAX CLASS AT TIME OF SALE\\n  \\\n",
       "0              3,696        1900.0                          1.0   \n",
       "1             10,588        1900.0                          2.0   \n",
       "2              7,860        1939.0                          2.0   \n",
       "3             18,690        1900.0                          2.0   \n",
       "4              7,803        1900.0                          2.0   \n",
       "\n",
       "   BUILDING CLASS AT TIME OF SALE\\n SALE PRICE\\n SALE DATE\\n  \n",
       "0                                C0   7,738,700   12/22/2016  \n",
       "1                                C7         -      3/10/2016  \n",
       "2                                C1   6,350,000    4/20/2016  \n",
       "3                                C7         -     12/14/2016  \n",
       "4                                C7         -      12/9/2016  \n",
       "\n",
       "[5 rows x 21 columns]"
      ]
     },
     "execution_count": 36,
     "metadata": {},
     "output_type": "execute_result"
    }
   ],
   "source": [
    "df_merged17.head()"
   ]
  },
  {
   "cell_type": "code",
   "execution_count": 37,
   "metadata": {},
   "outputs": [],
   "source": [
    "#df_merged17.drop('BLOCK\\n',axis =1)"
   ]
  },
  {
   "cell_type": "code",
   "execution_count": 38,
   "metadata": {},
   "outputs": [],
   "source": [
    "#df_merged17 = df_merged17.drop(['TAX CLASS AT PRESENT','BLOCK','LOT','EASE-MENT','BUILDING CLASS AT PRESENT','ADDRESS','APARTMENT NUMBER','BUILDING CLASS AT TIME OF SALE'])"
   ]
  },
  {
   "cell_type": "code",
   "execution_count": 39,
   "metadata": {},
   "outputs": [
    {
     "data": {
      "text/plain": [
       "BOROUGH\\n                           float64\n",
       "NEIGHBORHOOD\\n                       object\n",
       "BUILDING CLASS CATEGORY\\n            object\n",
       "TAX CLASS AT PRESENT\\n               object\n",
       "BLOCK\\n                             float64\n",
       "LOT\\n                               float64\n",
       "EASE-MENT\\n                          object\n",
       "BUILDING CLASS AT PRESENT\\n          object\n",
       "ADDRESS\\n                            object\n",
       "APARTMENT NUMBER\\n                   object\n",
       "ZIP CODE\\n                          float64\n",
       "RESIDENTIAL UNITS\\n                  object\n",
       "COMMERCIAL UNITS\\n                   object\n",
       "TOTAL UNITS\\n                        object\n",
       "LAND SQUARE FEET\\n                   object\n",
       "GROSS SQUARE FEET\\n                  object\n",
       "YEAR BUILT\\n                        float64\n",
       "TAX CLASS AT TIME OF SALE\\n         float64\n",
       "BUILDING CLASS AT TIME OF SALE\\n     object\n",
       "SALE PRICE\\n                         object\n",
       "SALE DATE\\n                          object\n",
       "dtype: object"
      ]
     },
     "execution_count": 39,
     "metadata": {},
     "output_type": "execute_result"
    }
   ],
   "source": [
    "df_merged17.dtypes"
   ]
  },
  {
   "cell_type": "code",
   "execution_count": 40,
   "metadata": {},
   "outputs": [],
   "source": [
    "df_merged17= df_merged17.replace(r'\\n','', regex=True)"
   ]
  },
  {
   "cell_type": "code",
   "execution_count": 41,
   "metadata": {},
   "outputs": [],
   "source": [
    "df_merged17.columns = ['BOROUGH', 'NEIGHBORHOOD', 'BUILDING CLASS CATEGORY',\n",
    "       'TAX CLASS AT PRESENT', 'BLOCK', 'LOT', 'EASE-MENT',\n",
    "       'BUILDING CLASS AT PRESENT', 'ADDRESS', 'APARTMENT NUMBER',\n",
    "       'ZIP CODE', 'RESIDENTIAL UNITS', 'COMMERCIAL UNITS',\n",
    "       'TOTAL UNITS', 'LAND SQUARE FEET', 'GROSS SQUARE FEET',\n",
    "       'YEAR BUILT', 'TAX CLASS AT TIME OF SALE',\n",
    "       'BUILDING CLASS AT TIME OF SALE', 'SALE PRICE', 'SALE DATE']"
   ]
  },
  {
   "cell_type": "code",
   "execution_count": 42,
   "metadata": {},
   "outputs": [
    {
     "data": {
      "text/plain": [
       "Index(['BOROUGH', 'NEIGHBORHOOD', 'BUILDING CLASS CATEGORY',\n",
       "       'TAX CLASS AT PRESENT', 'BLOCK', 'LOT', 'EASE-MENT',\n",
       "       'BUILDING CLASS AT PRESENT', 'ADDRESS', 'APARTMENT NUMBER', 'ZIP CODE',\n",
       "       'RESIDENTIAL UNITS', 'COMMERCIAL UNITS', 'TOTAL UNITS',\n",
       "       'LAND SQUARE FEET', 'GROSS SQUARE FEET', 'YEAR BUILT',\n",
       "       'TAX CLASS AT TIME OF SALE', 'BUILDING CLASS AT TIME OF SALE',\n",
       "       'SALE PRICE', 'SALE DATE'],\n",
       "      dtype='object')"
      ]
     },
     "execution_count": 42,
     "metadata": {},
     "output_type": "execute_result"
    }
   ],
   "source": [
    "df_merged17.columns"
   ]
  },
  {
   "cell_type": "code",
   "execution_count": 43,
   "metadata": {},
   "outputs": [
    {
     "data": {
      "text/plain": [
       "0         03  THREE FAMILY DWELLINGS                  \n",
       "1         07  RENTALS - WALKUP APARTMENTS             \n",
       "2         07  RENTALS - WALKUP APARTMENTS             \n",
       "3         07  RENTALS - WALKUP APARTMENTS             \n",
       "4         07  RENTALS - WALKUP APARTMENTS             \n",
       "5         07  RENTALS - WALKUP APARTMENTS             \n",
       "6         07  RENTALS - WALKUP APARTMENTS             \n",
       "7         07  RENTALS - WALKUP APARTMENTS             \n",
       "8         07  RENTALS - WALKUP APARTMENTS             \n",
       "9         07  RENTALS - WALKUP APARTMENTS             \n",
       "10        07  RENTALS - WALKUP APARTMENTS             \n",
       "11        07  RENTALS - WALKUP APARTMENTS             \n",
       "12        07  RENTALS - WALKUP APARTMENTS             \n",
       "13        07  RENTALS - WALKUP APARTMENTS             \n",
       "14        07  RENTALS - WALKUP APARTMENTS             \n",
       "15        08  RENTALS - ELEVATOR APARTMENTS           \n",
       "16        08  RENTALS - ELEVATOR APARTMENTS           \n",
       "17        09  COOPS - WALKUP APARTMENTS               \n",
       "18        09  COOPS - WALKUP APARTMENTS               \n",
       "19        09  COOPS - WALKUP APARTMENTS               \n",
       "20        09  COOPS - WALKUP APARTMENTS               \n",
       "21        09  COOPS - WALKUP APARTMENTS               \n",
       "22        09  COOPS - WALKUP APARTMENTS               \n",
       "23        09  COOPS - WALKUP APARTMENTS               \n",
       "24        09  COOPS - WALKUP APARTMENTS               \n",
       "25        09  COOPS - WALKUP APARTMENTS               \n",
       "26        09  COOPS - WALKUP APARTMENTS               \n",
       "27        09  COOPS - WALKUP APARTMENTS               \n",
       "28        09  COOPS - WALKUP APARTMENTS               \n",
       "29        09  COOPS - WALKUP APARTMENTS               \n",
       "                              ...                     \n",
       "547804                                             NaN\n",
       "547805                                             NaN\n",
       "547806                                             NaN\n",
       "547807                                             NaN\n",
       "547808                                             NaN\n",
       "547809                                             NaN\n",
       "547810                                             NaN\n",
       "547811                                             NaN\n",
       "547812                                             NaN\n",
       "547813                                             NaN\n",
       "547814                                             NaN\n",
       "547815                                             NaN\n",
       "547816                                             NaN\n",
       "547817                                             NaN\n",
       "547818                                             NaN\n",
       "547819                                             NaN\n",
       "547820                                             NaN\n",
       "547821                                             NaN\n",
       "547822                                             NaN\n",
       "547823                                             NaN\n",
       "547824                                             NaN\n",
       "547825                                             NaN\n",
       "547826                                             NaN\n",
       "547827                                             NaN\n",
       "547828                                             NaN\n",
       "547829                                             NaN\n",
       "547830                                             NaN\n",
       "547831                                             NaN\n",
       "547832                                             NaN\n",
       "547833                                             NaN\n",
       "Name: BUILDING CLASS CATEGORY, Length: 547834, dtype: object"
      ]
     },
     "execution_count": 43,
     "metadata": {},
     "output_type": "execute_result"
    }
   ],
   "source": [
    "df_merged17['BUILDING CLASS CATEGORY']"
   ]
  },
  {
   "cell_type": "code",
   "execution_count": 44,
   "metadata": {},
   "outputs": [
    {
     "data": {
      "text/plain": [
       "132982"
      ]
     },
     "execution_count": 44,
     "metadata": {},
     "output_type": "execute_result"
    }
   ],
   "source": [
    "df_merged17['BOROUGH'].isna().sum()"
   ]
  },
  {
   "cell_type": "code",
   "execution_count": 45,
   "metadata": {},
   "outputs": [
    {
     "data": {
      "text/plain": [
       "BOROUGH                           132982\n",
       "NEIGHBORHOOD                      132982\n",
       "BUILDING CLASS CATEGORY           132982\n",
       "TAX CLASS AT PRESENT              133266\n",
       "BLOCK                             132982\n",
       "LOT                               132982\n",
       "EASE-MENT                         369368\n",
       "BUILDING CLASS AT PRESENT         133266\n",
       "ADDRESS                           132982\n",
       "APARTMENT NUMBER                  317541\n",
       "ZIP CODE                          133009\n",
       "RESIDENTIAL UNITS                 163083\n",
       "COMMERCIAL UNITS                  163083\n",
       "TOTAL UNITS                       163083\n",
       "LAND SQUARE FEET                  163084\n",
       "GROSS SQUARE FEET                 163083\n",
       "YEAR BUILT                        143856\n",
       "TAX CLASS AT TIME OF SALE         132982\n",
       "BUILDING CLASS AT TIME OF SALE    132982\n",
       "SALE PRICE                        132982\n",
       "SALE DATE                         132982\n",
       "dtype: int64"
      ]
     },
     "execution_count": 45,
     "metadata": {},
     "output_type": "execute_result"
    }
   ],
   "source": [
    "df_merged17.isna().sum()"
   ]
  },
  {
   "cell_type": "code",
   "execution_count": 46,
   "metadata": {},
   "outputs": [],
   "source": [
    "df_merged17 = df_merged17.drop(['TAX CLASS AT PRESENT','BLOCK','LOT','EASE-MENT','BUILDING CLASS AT PRESENT','ADDRESS','APARTMENT NUMBER','BUILDING CLASS AT TIME OF SALE'], axis =1)"
   ]
  },
  {
   "cell_type": "code",
   "execution_count": 47,
   "metadata": {},
   "outputs": [
    {
     "data": {
      "text/plain": [
       "Index(['BOROUGH', 'NEIGHBORHOOD', 'BUILDING CLASS CATEGORY', 'ZIP CODE',\n",
       "       'RESIDENTIAL UNITS', 'COMMERCIAL UNITS', 'TOTAL UNITS',\n",
       "       'LAND SQUARE FEET', 'GROSS SQUARE FEET', 'YEAR BUILT',\n",
       "       'TAX CLASS AT TIME OF SALE', 'SALE PRICE', 'SALE DATE'],\n",
       "      dtype='object')"
      ]
     },
     "execution_count": 47,
     "metadata": {},
     "output_type": "execute_result"
    }
   ],
   "source": [
    "df_merged17.columns"
   ]
  },
  {
   "cell_type": "code",
   "execution_count": 48,
   "metadata": {},
   "outputs": [],
   "source": [
    "df_merged17.dropna(inplace=True)"
   ]
  },
  {
   "cell_type": "code",
   "execution_count": 49,
   "metadata": {},
   "outputs": [
    {
     "data": {
      "text/plain": [
       "BOROUGH                      0\n",
       "NEIGHBORHOOD                 0\n",
       "BUILDING CLASS CATEGORY      0\n",
       "ZIP CODE                     0\n",
       "RESIDENTIAL UNITS            0\n",
       "COMMERCIAL UNITS             0\n",
       "TOTAL UNITS                  0\n",
       "LAND SQUARE FEET             0\n",
       "GROSS SQUARE FEET            0\n",
       "YEAR BUILT                   0\n",
       "TAX CLASS AT TIME OF SALE    0\n",
       "SALE PRICE                   0\n",
       "SALE DATE                    0\n",
       "dtype: int64"
      ]
     },
     "execution_count": 49,
     "metadata": {},
     "output_type": "execute_result"
    }
   ],
   "source": [
    "df_merged17.isna().sum()"
   ]
  },
  {
   "cell_type": "code",
   "execution_count": 50,
   "metadata": {},
   "outputs": [
    {
     "data": {
      "text/plain": [
       "BOROUGH                      374359\n",
       "NEIGHBORHOOD                 374359\n",
       "BUILDING CLASS CATEGORY      374359\n",
       "ZIP CODE                     374359\n",
       "RESIDENTIAL UNITS            374359\n",
       "COMMERCIAL UNITS             374359\n",
       "TOTAL UNITS                  374359\n",
       "LAND SQUARE FEET             374359\n",
       "GROSS SQUARE FEET            374359\n",
       "YEAR BUILT                   374359\n",
       "TAX CLASS AT TIME OF SALE    374359\n",
       "SALE PRICE                   374359\n",
       "SALE DATE                    374359\n",
       "dtype: int64"
      ]
     },
     "execution_count": 50,
     "metadata": {},
     "output_type": "execute_result"
    }
   ],
   "source": [
    "df_merged17.count()"
   ]
  },
  {
   "cell_type": "code",
   "execution_count": 51,
   "metadata": {},
   "outputs": [
    {
     "data": {
      "text/plain": [
       "BOROUGH                      float64\n",
       "NEIGHBORHOOD                  object\n",
       "BUILDING CLASS CATEGORY       object\n",
       "ZIP CODE                     float64\n",
       "RESIDENTIAL UNITS             object\n",
       "COMMERCIAL UNITS              object\n",
       "TOTAL UNITS                   object\n",
       "LAND SQUARE FEET              object\n",
       "GROSS SQUARE FEET             object\n",
       "YEAR BUILT                   float64\n",
       "TAX CLASS AT TIME OF SALE    float64\n",
       "SALE PRICE                    object\n",
       "SALE DATE                     object\n",
       "dtype: object"
      ]
     },
     "execution_count": 51,
     "metadata": {},
     "output_type": "execute_result"
    }
   ],
   "source": [
    "df_merged17.dtypes"
   ]
  },
  {
   "cell_type": "code",
   "execution_count": 52,
   "metadata": {},
   "outputs": [],
   "source": [
    "df_m = pd.DataFrame(df_merged17['BUILDING CLASS CATEGORY'].str.split(' ',1).tolist(),\n",
    "                                 columns = ['BUILDING CLASS CATEGORY NUMBER','BUILDING CLASS CATEGORY'])"
   ]
  },
  {
   "cell_type": "code",
   "execution_count": 53,
   "metadata": {},
   "outputs": [
    {
     "data": {
      "text/html": [
       "<div>\n",
       "<style scoped>\n",
       "    .dataframe tbody tr th:only-of-type {\n",
       "        vertical-align: middle;\n",
       "    }\n",
       "\n",
       "    .dataframe tbody tr th {\n",
       "        vertical-align: top;\n",
       "    }\n",
       "\n",
       "    .dataframe thead th {\n",
       "        text-align: right;\n",
       "    }\n",
       "</style>\n",
       "<table border=\"1\" class=\"dataframe\">\n",
       "  <thead>\n",
       "    <tr style=\"text-align: right;\">\n",
       "      <th></th>\n",
       "      <th>BUILDING CLASS CATEGORY NUMBER</th>\n",
       "      <th>BUILDING CLASS CATEGORY</th>\n",
       "    </tr>\n",
       "  </thead>\n",
       "  <tbody>\n",
       "    <tr>\n",
       "      <th>0</th>\n",
       "      <td>03</td>\n",
       "      <td>THREE FAMILY DWELLINGS</td>\n",
       "    </tr>\n",
       "    <tr>\n",
       "      <th>1</th>\n",
       "      <td>07</td>\n",
       "      <td>RENTALS - WALKUP APARTMENTS</td>\n",
       "    </tr>\n",
       "    <tr>\n",
       "      <th>2</th>\n",
       "      <td>07</td>\n",
       "      <td>RENTALS - WALKUP APARTMENTS</td>\n",
       "    </tr>\n",
       "    <tr>\n",
       "      <th>3</th>\n",
       "      <td>07</td>\n",
       "      <td>RENTALS - WALKUP APARTMENTS</td>\n",
       "    </tr>\n",
       "    <tr>\n",
       "      <th>4</th>\n",
       "      <td>07</td>\n",
       "      <td>RENTALS - WALKUP APARTMENTS</td>\n",
       "    </tr>\n",
       "    <tr>\n",
       "      <th>5</th>\n",
       "      <td>07</td>\n",
       "      <td>RENTALS - WALKUP APARTMENTS</td>\n",
       "    </tr>\n",
       "    <tr>\n",
       "      <th>6</th>\n",
       "      <td>07</td>\n",
       "      <td>RENTALS - WALKUP APARTMENTS</td>\n",
       "    </tr>\n",
       "    <tr>\n",
       "      <th>7</th>\n",
       "      <td>07</td>\n",
       "      <td>RENTALS - WALKUP APARTMENTS</td>\n",
       "    </tr>\n",
       "    <tr>\n",
       "      <th>8</th>\n",
       "      <td>07</td>\n",
       "      <td>RENTALS - WALKUP APARTMENTS</td>\n",
       "    </tr>\n",
       "    <tr>\n",
       "      <th>9</th>\n",
       "      <td>07</td>\n",
       "      <td>RENTALS - WALKUP APARTMENTS</td>\n",
       "    </tr>\n",
       "    <tr>\n",
       "      <th>10</th>\n",
       "      <td>07</td>\n",
       "      <td>RENTALS - WALKUP APARTMENTS</td>\n",
       "    </tr>\n",
       "    <tr>\n",
       "      <th>11</th>\n",
       "      <td>07</td>\n",
       "      <td>RENTALS - WALKUP APARTMENTS</td>\n",
       "    </tr>\n",
       "    <tr>\n",
       "      <th>12</th>\n",
       "      <td>07</td>\n",
       "      <td>RENTALS - WALKUP APARTMENTS</td>\n",
       "    </tr>\n",
       "    <tr>\n",
       "      <th>13</th>\n",
       "      <td>07</td>\n",
       "      <td>RENTALS - WALKUP APARTMENTS</td>\n",
       "    </tr>\n",
       "    <tr>\n",
       "      <th>14</th>\n",
       "      <td>07</td>\n",
       "      <td>RENTALS - WALKUP APARTMENTS</td>\n",
       "    </tr>\n",
       "    <tr>\n",
       "      <th>15</th>\n",
       "      <td>08</td>\n",
       "      <td>RENTALS - ELEVATOR APARTMENTS</td>\n",
       "    </tr>\n",
       "    <tr>\n",
       "      <th>16</th>\n",
       "      <td>08</td>\n",
       "      <td>RENTALS - ELEVATOR APARTMENTS</td>\n",
       "    </tr>\n",
       "    <tr>\n",
       "      <th>17</th>\n",
       "      <td>09</td>\n",
       "      <td>COOPS - WALKUP APARTMENTS</td>\n",
       "    </tr>\n",
       "    <tr>\n",
       "      <th>18</th>\n",
       "      <td>09</td>\n",
       "      <td>COOPS - WALKUP APARTMENTS</td>\n",
       "    </tr>\n",
       "    <tr>\n",
       "      <th>19</th>\n",
       "      <td>09</td>\n",
       "      <td>COOPS - WALKUP APARTMENTS</td>\n",
       "    </tr>\n",
       "    <tr>\n",
       "      <th>20</th>\n",
       "      <td>09</td>\n",
       "      <td>COOPS - WALKUP APARTMENTS</td>\n",
       "    </tr>\n",
       "    <tr>\n",
       "      <th>21</th>\n",
       "      <td>09</td>\n",
       "      <td>COOPS - WALKUP APARTMENTS</td>\n",
       "    </tr>\n",
       "    <tr>\n",
       "      <th>22</th>\n",
       "      <td>09</td>\n",
       "      <td>COOPS - WALKUP APARTMENTS</td>\n",
       "    </tr>\n",
       "    <tr>\n",
       "      <th>23</th>\n",
       "      <td>09</td>\n",
       "      <td>COOPS - WALKUP APARTMENTS</td>\n",
       "    </tr>\n",
       "    <tr>\n",
       "      <th>24</th>\n",
       "      <td>09</td>\n",
       "      <td>COOPS - WALKUP APARTMENTS</td>\n",
       "    </tr>\n",
       "    <tr>\n",
       "      <th>25</th>\n",
       "      <td>09</td>\n",
       "      <td>COOPS - WALKUP APARTMENTS</td>\n",
       "    </tr>\n",
       "    <tr>\n",
       "      <th>26</th>\n",
       "      <td>09</td>\n",
       "      <td>COOPS - WALKUP APARTMENTS</td>\n",
       "    </tr>\n",
       "    <tr>\n",
       "      <th>27</th>\n",
       "      <td>09</td>\n",
       "      <td>COOPS - WALKUP APARTMENTS</td>\n",
       "    </tr>\n",
       "    <tr>\n",
       "      <th>28</th>\n",
       "      <td>09</td>\n",
       "      <td>COOPS - WALKUP APARTMENTS</td>\n",
       "    </tr>\n",
       "    <tr>\n",
       "      <th>29</th>\n",
       "      <td>09</td>\n",
       "      <td>COOPS - WALKUP APARTMENTS</td>\n",
       "    </tr>\n",
       "    <tr>\n",
       "      <th>...</th>\n",
       "      <td>...</td>\n",
       "      <td>...</td>\n",
       "    </tr>\n",
       "    <tr>\n",
       "      <th>374329</th>\n",
       "      <td>02</td>\n",
       "      <td>TWO FAMILY DWELLINGS</td>\n",
       "    </tr>\n",
       "    <tr>\n",
       "      <th>374330</th>\n",
       "      <td>02</td>\n",
       "      <td>TWO FAMILY DWELLINGS</td>\n",
       "    </tr>\n",
       "    <tr>\n",
       "      <th>374331</th>\n",
       "      <td>02</td>\n",
       "      <td>TWO FAMILY DWELLINGS</td>\n",
       "    </tr>\n",
       "    <tr>\n",
       "      <th>374332</th>\n",
       "      <td>02</td>\n",
       "      <td>TWO FAMILY DWELLINGS</td>\n",
       "    </tr>\n",
       "    <tr>\n",
       "      <th>374333</th>\n",
       "      <td>02</td>\n",
       "      <td>TWO FAMILY DWELLINGS</td>\n",
       "    </tr>\n",
       "    <tr>\n",
       "      <th>374334</th>\n",
       "      <td>02</td>\n",
       "      <td>TWO FAMILY DWELLINGS</td>\n",
       "    </tr>\n",
       "    <tr>\n",
       "      <th>374335</th>\n",
       "      <td>02</td>\n",
       "      <td>TWO FAMILY DWELLINGS</td>\n",
       "    </tr>\n",
       "    <tr>\n",
       "      <th>374336</th>\n",
       "      <td>02</td>\n",
       "      <td>TWO FAMILY DWELLINGS</td>\n",
       "    </tr>\n",
       "    <tr>\n",
       "      <th>374337</th>\n",
       "      <td>02</td>\n",
       "      <td>TWO FAMILY DWELLINGS</td>\n",
       "    </tr>\n",
       "    <tr>\n",
       "      <th>374338</th>\n",
       "      <td>02</td>\n",
       "      <td>TWO FAMILY DWELLINGS</td>\n",
       "    </tr>\n",
       "    <tr>\n",
       "      <th>374339</th>\n",
       "      <td>02</td>\n",
       "      <td>TWO FAMILY DWELLINGS</td>\n",
       "    </tr>\n",
       "    <tr>\n",
       "      <th>374340</th>\n",
       "      <td>02</td>\n",
       "      <td>TWO FAMILY DWELLINGS</td>\n",
       "    </tr>\n",
       "    <tr>\n",
       "      <th>374341</th>\n",
       "      <td>02</td>\n",
       "      <td>TWO FAMILY DWELLINGS</td>\n",
       "    </tr>\n",
       "    <tr>\n",
       "      <th>374342</th>\n",
       "      <td>02</td>\n",
       "      <td>TWO FAMILY DWELLINGS</td>\n",
       "    </tr>\n",
       "    <tr>\n",
       "      <th>374343</th>\n",
       "      <td>02</td>\n",
       "      <td>TWO FAMILY DWELLINGS</td>\n",
       "    </tr>\n",
       "    <tr>\n",
       "      <th>374344</th>\n",
       "      <td>02</td>\n",
       "      <td>TWO FAMILY DWELLINGS</td>\n",
       "    </tr>\n",
       "    <tr>\n",
       "      <th>374345</th>\n",
       "      <td>02</td>\n",
       "      <td>TWO FAMILY DWELLINGS</td>\n",
       "    </tr>\n",
       "    <tr>\n",
       "      <th>374346</th>\n",
       "      <td>02</td>\n",
       "      <td>TWO FAMILY DWELLINGS</td>\n",
       "    </tr>\n",
       "    <tr>\n",
       "      <th>374347</th>\n",
       "      <td>02</td>\n",
       "      <td>TWO FAMILY DWELLINGS</td>\n",
       "    </tr>\n",
       "    <tr>\n",
       "      <th>374348</th>\n",
       "      <td>02</td>\n",
       "      <td>TWO FAMILY DWELLINGS</td>\n",
       "    </tr>\n",
       "    <tr>\n",
       "      <th>374349</th>\n",
       "      <td>02</td>\n",
       "      <td>TWO FAMILY DWELLINGS</td>\n",
       "    </tr>\n",
       "    <tr>\n",
       "      <th>374350</th>\n",
       "      <td>02</td>\n",
       "      <td>TWO FAMILY DWELLINGS</td>\n",
       "    </tr>\n",
       "    <tr>\n",
       "      <th>374351</th>\n",
       "      <td>02</td>\n",
       "      <td>TWO FAMILY DWELLINGS</td>\n",
       "    </tr>\n",
       "    <tr>\n",
       "      <th>374352</th>\n",
       "      <td>02</td>\n",
       "      <td>TWO FAMILY DWELLINGS</td>\n",
       "    </tr>\n",
       "    <tr>\n",
       "      <th>374353</th>\n",
       "      <td>02</td>\n",
       "      <td>TWO FAMILY DWELLINGS</td>\n",
       "    </tr>\n",
       "    <tr>\n",
       "      <th>374354</th>\n",
       "      <td>02</td>\n",
       "      <td>TWO FAMILY DWELLINGS</td>\n",
       "    </tr>\n",
       "    <tr>\n",
       "      <th>374355</th>\n",
       "      <td>02</td>\n",
       "      <td>TWO FAMILY DWELLINGS</td>\n",
       "    </tr>\n",
       "    <tr>\n",
       "      <th>374356</th>\n",
       "      <td>02</td>\n",
       "      <td>TWO FAMILY DWELLINGS</td>\n",
       "    </tr>\n",
       "    <tr>\n",
       "      <th>374357</th>\n",
       "      <td>02</td>\n",
       "      <td>TWO FAMILY DWELLINGS</td>\n",
       "    </tr>\n",
       "    <tr>\n",
       "      <th>374358</th>\n",
       "      <td>02</td>\n",
       "      <td>TWO FAMILY DWELLINGS</td>\n",
       "    </tr>\n",
       "  </tbody>\n",
       "</table>\n",
       "<p>374359 rows × 2 columns</p>\n",
       "</div>"
      ],
      "text/plain": [
       "       BUILDING CLASS CATEGORY NUMBER  \\\n",
       "0                                  03   \n",
       "1                                  07   \n",
       "2                                  07   \n",
       "3                                  07   \n",
       "4                                  07   \n",
       "5                                  07   \n",
       "6                                  07   \n",
       "7                                  07   \n",
       "8                                  07   \n",
       "9                                  07   \n",
       "10                                 07   \n",
       "11                                 07   \n",
       "12                                 07   \n",
       "13                                 07   \n",
       "14                                 07   \n",
       "15                                 08   \n",
       "16                                 08   \n",
       "17                                 09   \n",
       "18                                 09   \n",
       "19                                 09   \n",
       "20                                 09   \n",
       "21                                 09   \n",
       "22                                 09   \n",
       "23                                 09   \n",
       "24                                 09   \n",
       "25                                 09   \n",
       "26                                 09   \n",
       "27                                 09   \n",
       "28                                 09   \n",
       "29                                 09   \n",
       "...                               ...   \n",
       "374329                             02   \n",
       "374330                             02   \n",
       "374331                             02   \n",
       "374332                             02   \n",
       "374333                             02   \n",
       "374334                             02   \n",
       "374335                             02   \n",
       "374336                             02   \n",
       "374337                             02   \n",
       "374338                             02   \n",
       "374339                             02   \n",
       "374340                             02   \n",
       "374341                             02   \n",
       "374342                             02   \n",
       "374343                             02   \n",
       "374344                             02   \n",
       "374345                             02   \n",
       "374346                             02   \n",
       "374347                             02   \n",
       "374348                             02   \n",
       "374349                             02   \n",
       "374350                             02   \n",
       "374351                             02   \n",
       "374352                             02   \n",
       "374353                             02   \n",
       "374354                             02   \n",
       "374355                             02   \n",
       "374356                             02   \n",
       "374357                             02   \n",
       "374358                             02   \n",
       "\n",
       "                          BUILDING CLASS CATEGORY  \n",
       "0        THREE FAMILY DWELLINGS                    \n",
       "1        RENTALS - WALKUP APARTMENTS               \n",
       "2        RENTALS - WALKUP APARTMENTS               \n",
       "3        RENTALS - WALKUP APARTMENTS               \n",
       "4        RENTALS - WALKUP APARTMENTS               \n",
       "5        RENTALS - WALKUP APARTMENTS               \n",
       "6        RENTALS - WALKUP APARTMENTS               \n",
       "7        RENTALS - WALKUP APARTMENTS               \n",
       "8        RENTALS - WALKUP APARTMENTS               \n",
       "9        RENTALS - WALKUP APARTMENTS               \n",
       "10       RENTALS - WALKUP APARTMENTS               \n",
       "11       RENTALS - WALKUP APARTMENTS               \n",
       "12       RENTALS - WALKUP APARTMENTS               \n",
       "13       RENTALS - WALKUP APARTMENTS               \n",
       "14       RENTALS - WALKUP APARTMENTS               \n",
       "15       RENTALS - ELEVATOR APARTMENTS             \n",
       "16       RENTALS - ELEVATOR APARTMENTS             \n",
       "17       COOPS - WALKUP APARTMENTS                 \n",
       "18       COOPS - WALKUP APARTMENTS                 \n",
       "19       COOPS - WALKUP APARTMENTS                 \n",
       "20       COOPS - WALKUP APARTMENTS                 \n",
       "21       COOPS - WALKUP APARTMENTS                 \n",
       "22       COOPS - WALKUP APARTMENTS                 \n",
       "23       COOPS - WALKUP APARTMENTS                 \n",
       "24       COOPS - WALKUP APARTMENTS                 \n",
       "25       COOPS - WALKUP APARTMENTS                 \n",
       "26       COOPS - WALKUP APARTMENTS                 \n",
       "27       COOPS - WALKUP APARTMENTS                 \n",
       "28       COOPS - WALKUP APARTMENTS                 \n",
       "29       COOPS - WALKUP APARTMENTS                 \n",
       "...                                           ...  \n",
       "374329                       TWO FAMILY DWELLINGS  \n",
       "374330                       TWO FAMILY DWELLINGS  \n",
       "374331                       TWO FAMILY DWELLINGS  \n",
       "374332                       TWO FAMILY DWELLINGS  \n",
       "374333                       TWO FAMILY DWELLINGS  \n",
       "374334                       TWO FAMILY DWELLINGS  \n",
       "374335                       TWO FAMILY DWELLINGS  \n",
       "374336                       TWO FAMILY DWELLINGS  \n",
       "374337                       TWO FAMILY DWELLINGS  \n",
       "374338                       TWO FAMILY DWELLINGS  \n",
       "374339                       TWO FAMILY DWELLINGS  \n",
       "374340                       TWO FAMILY DWELLINGS  \n",
       "374341                       TWO FAMILY DWELLINGS  \n",
       "374342                       TWO FAMILY DWELLINGS  \n",
       "374343                       TWO FAMILY DWELLINGS  \n",
       "374344                       TWO FAMILY DWELLINGS  \n",
       "374345                       TWO FAMILY DWELLINGS  \n",
       "374346                       TWO FAMILY DWELLINGS  \n",
       "374347                       TWO FAMILY DWELLINGS  \n",
       "374348                       TWO FAMILY DWELLINGS  \n",
       "374349                       TWO FAMILY DWELLINGS  \n",
       "374350                       TWO FAMILY DWELLINGS  \n",
       "374351                       TWO FAMILY DWELLINGS  \n",
       "374352                       TWO FAMILY DWELLINGS  \n",
       "374353                       TWO FAMILY DWELLINGS  \n",
       "374354                       TWO FAMILY DWELLINGS  \n",
       "374355                       TWO FAMILY DWELLINGS  \n",
       "374356                       TWO FAMILY DWELLINGS  \n",
       "374357                       TWO FAMILY DWELLINGS  \n",
       "374358                       TWO FAMILY DWELLINGS  \n",
       "\n",
       "[374359 rows x 2 columns]"
      ]
     },
     "execution_count": 53,
     "metadata": {},
     "output_type": "execute_result"
    }
   ],
   "source": [
    "df_m"
   ]
  },
  {
   "cell_type": "code",
   "execution_count": 54,
   "metadata": {},
   "outputs": [],
   "source": [
    "df_merged17 = df_merged17.drop(['BUILDING CLASS CATEGORY'],1)"
   ]
  },
  {
   "cell_type": "code",
   "execution_count": 55,
   "metadata": {},
   "outputs": [],
   "source": [
    "df_merged17 = pd.concat([df_merged17, df_m], axis=1, join='inner')"
   ]
  },
  {
   "cell_type": "code",
   "execution_count": 56,
   "metadata": {},
   "outputs": [
    {
     "data": {
      "text/plain": [
       "Index(['BOROUGH', 'NEIGHBORHOOD', 'ZIP CODE', 'RESIDENTIAL UNITS',\n",
       "       'COMMERCIAL UNITS', 'TOTAL UNITS', 'LAND SQUARE FEET',\n",
       "       'GROSS SQUARE FEET', 'YEAR BUILT', 'TAX CLASS AT TIME OF SALE',\n",
       "       'SALE PRICE', 'SALE DATE', 'BUILDING CLASS CATEGORY NUMBER',\n",
       "       'BUILDING CLASS CATEGORY'],\n",
       "      dtype='object')"
      ]
     },
     "execution_count": 56,
     "metadata": {},
     "output_type": "execute_result"
    }
   ],
   "source": [
    "df_merged17.columns"
   ]
  },
  {
   "cell_type": "code",
   "execution_count": 57,
   "metadata": {},
   "outputs": [
    {
     "data": {
      "text/plain": [
       "0"
      ]
     },
     "execution_count": 57,
     "metadata": {},
     "output_type": "execute_result"
    }
   ],
   "source": [
    "df_merged17['YEAR BUILT'].isnull().sum()"
   ]
  },
  {
   "cell_type": "code",
   "execution_count": 58,
   "metadata": {},
   "outputs": [
    {
     "data": {
      "text/plain": [
       "BOROUGH                           float64\n",
       "NEIGHBORHOOD                       object\n",
       "ZIP CODE                          float64\n",
       "RESIDENTIAL UNITS                  object\n",
       "COMMERCIAL UNITS                   object\n",
       "TOTAL UNITS                        object\n",
       "LAND SQUARE FEET                   object\n",
       "GROSS SQUARE FEET                  object\n",
       "YEAR BUILT                        float64\n",
       "TAX CLASS AT TIME OF SALE         float64\n",
       "SALE PRICE                         object\n",
       "SALE DATE                          object\n",
       "BUILDING CLASS CATEGORY NUMBER     object\n",
       "BUILDING CLASS CATEGORY            object\n",
       "dtype: object"
      ]
     },
     "execution_count": 58,
     "metadata": {},
     "output_type": "execute_result"
    }
   ],
   "source": [
    "df_merged17.dtypes"
   ]
  },
  {
   "cell_type": "code",
   "execution_count": 59,
   "metadata": {},
   "outputs": [],
   "source": [
    "df_merged17['BOROUGH'] = df_merged17.BOROUGH.astype(\"category\").cat.codes"
   ]
  },
  {
   "cell_type": "code",
   "execution_count": 60,
   "metadata": {},
   "outputs": [],
   "source": [
    "df_merged17['NEIGHBORHOOD'] = df_merged17.NEIGHBORHOOD.astype(\"category\").cat.codes"
   ]
  },
  {
   "cell_type": "code",
   "execution_count": 61,
   "metadata": {},
   "outputs": [],
   "source": [
    "df_merged17['BUILDING CLASS CATEGORY'] = df_merged17['BUILDING CLASS CATEGORY'].astype(\"category\").cat.codes"
   ]
  },
  {
   "cell_type": "code",
   "execution_count": 62,
   "metadata": {},
   "outputs": [],
   "source": [
    "df_merged17['ZIP CODE'] = df_merged17['ZIP CODE'].astype(\"category\").cat.codes"
   ]
  },
  {
   "cell_type": "code",
   "execution_count": 63,
   "metadata": {},
   "outputs": [],
   "source": [
    "df_merged17['TAX CLASS AT TIME OF SALE'] = df_merged17['TAX CLASS AT TIME OF SALE'].astype(\"category\").cat.codes"
   ]
  },
  {
   "cell_type": "code",
   "execution_count": 64,
   "metadata": {},
   "outputs": [],
   "source": [
    "df_merged17['GROSS SQUARE FEET'] = df_merged17['GROSS SQUARE FEET'].apply(lambda x: x.replace(',', ''))"
   ]
  },
  {
   "cell_type": "code",
   "execution_count": 65,
   "metadata": {},
   "outputs": [],
   "source": [
    "df_merged17['GROSS SQUARE FEET'] = df_merged17['GROSS SQUARE FEET'].replace(' -   ', '0')"
   ]
  },
  {
   "cell_type": "code",
   "execution_count": 66,
   "metadata": {},
   "outputs": [
    {
     "data": {
      "text/plain": [
       "array([' 3696 ', ' 10588 ', ' 7860 ', ..., '6384', '5647', '121680'],\n",
       "      dtype=object)"
      ]
     },
     "execution_count": 66,
     "metadata": {},
     "output_type": "execute_result"
    }
   ],
   "source": [
    "df_merged17['GROSS SQUARE FEET'].unique()"
   ]
  },
  {
   "cell_type": "code",
   "execution_count": 67,
   "metadata": {},
   "outputs": [],
   "source": [
    "df_merged17['GROSS SQUARE FEET'] = df_merged17['GROSS SQUARE FEET'].astype(int)"
   ]
  },
  {
   "cell_type": "code",
   "execution_count": 68,
   "metadata": {},
   "outputs": [
    {
     "data": {
      "text/plain": [
       "dtype('int32')"
      ]
     },
     "execution_count": 68,
     "metadata": {},
     "output_type": "execute_result"
    }
   ],
   "source": [
    "df_merged17['GROSS SQUARE FEET'].dtypes"
   ]
  },
  {
   "cell_type": "code",
   "execution_count": 69,
   "metadata": {},
   "outputs": [],
   "source": [
    "df_merged17['LAND SQUARE FEET'] = df_merged17['LAND SQUARE FEET'].replace(' -   ', '0')"
   ]
  },
  {
   "cell_type": "code",
   "execution_count": 70,
   "metadata": {},
   "outputs": [],
   "source": [
    "df_merged17['LAND SQUARE FEET'] = df_merged17['LAND SQUARE FEET'].apply(lambda x: x.replace(',', ''))"
   ]
  },
  {
   "cell_type": "code",
   "execution_count": 71,
   "metadata": {},
   "outputs": [],
   "source": [
    "df_merged17['LAND SQUARE FEET'] = df_merged17['LAND SQUARE FEET'].astype(int)"
   ]
  },
  {
   "cell_type": "code",
   "execution_count": 72,
   "metadata": {},
   "outputs": [],
   "source": [
    "df_merged17['TOTAL UNITS'] = df_merged17['TOTAL UNITS'].replace(' -   ', '0')"
   ]
  },
  {
   "cell_type": "code",
   "execution_count": 73,
   "metadata": {},
   "outputs": [],
   "source": [
    "df_merged17['TOTAL UNITS'] = df_merged17['TOTAL UNITS'].astype(str)"
   ]
  },
  {
   "cell_type": "code",
   "execution_count": 74,
   "metadata": {},
   "outputs": [
    {
     "data": {
      "text/plain": [
       "array([' 3 ', ' 16 ', ' 10 ', ' 31 ', ' 17 ', ' 8 ', ' 12 ', ' 21 ',\n",
       "       ' 9 ', ' 20 ', ' 6 ', ' 24 ', '0', ' 47 ', ' 1 ', ' 4 ', ' 71 ',\n",
       "       ' 2 ', ' 7 ', ' 15 ', ' 5 ', ' 19 ', ' 18 ', ' 13 ', ' 46 ',\n",
       "       ' 223 ', ' 39 ', ' 32 ', ' 214 ', ' 54 ', ' 313 ', ' 14 ', ' 51 ',\n",
       "       ' 23 ', ' 26 ', ' 29 ', ' 41 ', ' 11 ', ' 22 ', ' 45 ', ' 35 ',\n",
       "       ' 55 ', ' 42 ', ' 58 ', ' 38 ', ' 43 ', ' 27 ', ' 292 ', ' 538 ',\n",
       "       ' 248 ', ' 482 ', ' 323 ', ' 318 ', ' 417 ', ' 67 ', ' 107 ',\n",
       "       ' 89 ', ' 137 ', ' 180 ', ' 34 ', ' 76 ', ' 59 ', ' 30 ', ' 25 ',\n",
       "       ' 28 ', ' 50 ', ' 286 ', ' 259 ', ' 256 ', ' 771 ', ' 257 ',\n",
       "       ' 915 ', ' 206 ', ' 91 ', ' 44 ', ' 209 ', ' 315 ', ' 48 ', ' 56 ',\n",
       "       ' 37 ', ' 36 ', ' 40 ', ' 72 ', ' 237 ', ' 64 ', ' 187 ', ' 60 ',\n",
       "       ' 49 ', ' 61 ', ' 108 ', ' 94 ', ' 902 ', ' 212 ', ' 254 ',\n",
       "       ' 203 ', ' 310 ', ' 144 ', ' 186 ', ' 325 ', ' 87 ', ' 269 ',\n",
       "       ' 233 ', ' 110 ', ' 121 ', ' 234 ', ' 235 ', ' 77 ', ' 84 ',\n",
       "       ' 1,653 ', ' 191 ', ' 145 ', ' 168 ', ' 52 ', ' 68 ', ' 317 ',\n",
       "       ' 155 ', ' 173 ', ' 62 ', ' 75 ', ' 65 ', ' 98 ', ' 63 ', ' 57 ',\n",
       "       ' 80 ', ' 118 ', ' 79 ', ' 104 ', ' 88 ', ' 74 ', ' 53 ', ' 86 ',\n",
       "       ' 224 ', ' 572 ', ' 33 ', ' 135 ', ' 97 ', ' 109 ', ' 271 ',\n",
       "       ' 90 ', ' 106 ', ' 439 ', ' 70 ', ' 93 ', ' 69 ', ' 130 ', ' 202 ',\n",
       "       ' 502 ', ' 100 ', ' 764 ', ' 113 ', ' 78 ', ' 95 ', ' 103 ',\n",
       "       ' 101 ', ' 92 ', ' 736 ', ' 680 ', ' 73 ', ' 328 ', ' 169 ',\n",
       "       ' 291 ', ' 83 ', ' 105 ', ' 222 ', ' 96 ', ' 127 ', ' 82 ',\n",
       "       ' 142 ', ' 484 ', ' 129 ', ' 172 ', ' 167 ', ' 81 ', ' 152 ',\n",
       "       ' 244 ', ' 204 ', ' 190 ', ' 120 ', ' 198 ', ' 162 ', ' 2,261 ',\n",
       "       ' 128 ', ' 176 ', ' 125 ', ' 296 ', ' 270 ', ' 2,000 ', ' 419 ',\n",
       "       ' 446 ', ' 149 ', ' 66 ', ' 143 ', ' 362 ', ' 178 ', '11', '25',\n",
       "       '5', '12', '20', '46', '15', '34', '24', '1', '6', '8', '2', '3',\n",
       "       '4', '10', '7', '9', '13', '16', '211', '32', '36', '138', '118',\n",
       "       '376', '77', '29', '19', '35', '18', '17', '26', '30', '22', '85',\n",
       "       '21', '23', '45', '48', '82', '55', '422', '42', '14', '52', '150',\n",
       "       '229', '31', '28', '269', '37', '96', '76', '33', '27', '47', '90',\n",
       "       '40', '53', '78', '44', '41', '51', '38', '84', '81', '54', '56',\n",
       "       '68', '74', '318', '108', '116', '70', '551', '185', '258', '89',\n",
       "       '361', '181', '59', '49', '102', '57', '151', '62', '73', '111',\n",
       "       '43', '110', '121', '1,653', '192', '87', '100', '113', '99', '92',\n",
       "       '75', '374', '72', '234', '93', '69', '86', '64', '395', '193',\n",
       "       '126', '103', '146', '287', '295', '95', '67', '145', '50', '39',\n",
       "       '71', '66', '889', '159', '83', '122', '120', '63', '61', '164',\n",
       "       '139', '165', '286', '88', '58', '135', '324', '180', '184', '104',\n",
       "       '1.0', '3.0', '2.0', '7.0', '42.0', '22.0', '20.0', '4.0', '13.0',\n",
       "       '12.0', '27.0', '26.0', '10.0', '0.0', '5.0', '47.0', '16.0',\n",
       "       '31.0', '30.0', '11.0', '63.0', '39.0', '8.0', '6.0', '65.0',\n",
       "       '61.0', '24.0', '77.0', '55.0', '14.0', '18.0', '25.0', '21.0',\n",
       "       '17.0', '44.0', '70.0', '74.0', '15.0', '179.0', '52.0', '35.0',\n",
       "       '34.0', '32.0', '71.0', '50.0', '9.0', '200.0', '28.0', '40.0',\n",
       "       '33.0', '53.0', '38.0', '56.0', '100.0', '59.0', '66.0', '49.0',\n",
       "       '41.0', '129.0', '37.0', '146.0', '114.0', '29.0', '78.0', '54.0',\n",
       "       '91.0', '69.0', '58.0', '64.0', '19.0', '67.0', '122.0', '225.0',\n",
       "       '23.0', '48.0', '60.0', '45.0', '68.0', '520.0', '163.0', '62.0',\n",
       "       '103.0', '36.0', '84.0', '127.0', '43.0', '46.0', '51.0', '73.0',\n",
       "       '222.0', '149.0', '99.0', '159.0', '462.0', '955.0', '317.0',\n",
       "       '143.0', '405', '617', '136', '168', '310', '240', '248', '289',\n",
       "       '436', '65', '152', '917', '94', '148', '424', '1,866', '278',\n",
       "       '91', '79', '132', '350', '420', '336', '126.0', '128.0', '83.0',\n",
       "       '120.0', '167.0', '422.0', '380.0', '601.0', '82.0', '339.0',\n",
       "       '133.0', '150.0', '221.0', '95.0', '140.0', '220.0', '180.0',\n",
       "       '90.0', '110.0', '152.0', '124.0', '135.0', '134.0', '181.0',\n",
       "       '131.0', '169.0', '57.0', '465.0', '184.0', '79.0', '93.0', '75.0',\n",
       "       '111.0', '94.0', '116.0', '201.0', '259.0', '117.0', '157.0',\n",
       "       '452.0', '506.0', '196.0', '489.0', '271.0', '427.0', '295.0',\n",
       "       '182.0', '558', '127', '419', '305', '144', '264', '124', '329',\n",
       "       '270', '174', '101', '236', '131', '178', '112', '172', '97',\n",
       "       '107', '166', '368', '365', '299', '1,092', '1,168', '1,164',\n",
       "       '1,463', '2,229', '530', '167', '188', '154.0', '123.0', '168.0',\n",
       "       '72.0', '112.0', '80.0', '88.0', '108.0', '87.0', '109', '80',\n",
       "       '123', '430', '60', '200', '392', '1,132', '106', '105', '1,348',\n",
       "       '194.0', '151.0', '104.0', '155.0', '570.0', '211.0', '273.0',\n",
       "       '137.0', '105.0', '156.0', '344.0', '611.0', '329.0', '262.0',\n",
       "       '212.0', '185.0', '147.0', '125.0', '285.0', '234.0', '235.0',\n",
       "       '233.0', '85.0', '288.0', '286.0', '145.0', '148.0', '107.0',\n",
       "       '321.0', '430.0', '97.0', '197.0', '153.0', '193.0', '833.0',\n",
       "       '106.0', '755.0', '210.0', '92.0', '476.0'], dtype=object)"
      ]
     },
     "execution_count": 74,
     "metadata": {},
     "output_type": "execute_result"
    }
   ],
   "source": [
    "df_merged17['TOTAL UNITS'].unique()"
   ]
  },
  {
   "cell_type": "code",
   "execution_count": 75,
   "metadata": {},
   "outputs": [],
   "source": [
    "df_merged17['TOTAL UNITS'] = df_merged17['TOTAL UNITS'].replace('.0', '')"
   ]
  },
  {
   "cell_type": "code",
   "execution_count": 76,
   "metadata": {},
   "outputs": [],
   "source": [
    "df_merged17['TOTAL UNITS'] = df_merged17['TOTAL UNITS'].apply(lambda x: x.replace(',', ''))"
   ]
  },
  {
   "cell_type": "code",
   "execution_count": 77,
   "metadata": {},
   "outputs": [],
   "source": [
    "df_merged17['TOTAL UNITS'] = df_merged17['TOTAL UNITS'].astype(float)"
   ]
  },
  {
   "cell_type": "code",
   "execution_count": 78,
   "metadata": {},
   "outputs": [],
   "source": [
    "df_merged17['SALE PRICE'] = df_merged17['SALE PRICE'].apply(lambda x: x.replace(',', ''))"
   ]
  },
  {
   "cell_type": "code",
   "execution_count": 79,
   "metadata": {},
   "outputs": [],
   "source": [
    "df_merged17['SALE PRICE'] = df_merged17['SALE PRICE'].replace(' -   ', '0')\n"
   ]
  },
  {
   "cell_type": "code",
   "execution_count": 80,
   "metadata": {},
   "outputs": [],
   "source": [
    "df_merged17['SALE PRICE'] = df_merged17['SALE PRICE'].replace('$0', '0')"
   ]
  },
  {
   "cell_type": "code",
   "execution_count": 81,
   "metadata": {},
   "outputs": [],
   "source": [
    "\n",
    "df_merged17['SALE PRICE'] = df_merged17['SALE PRICE'].replace('$4844809', '4844809')"
   ]
  },
  {
   "cell_type": "code",
   "execution_count": 82,
   "metadata": {},
   "outputs": [],
   "source": [
    "\n",
    "df_merged17['SALE PRICE'] = df_merged17['SALE PRICE'].replace(' ', '0')"
   ]
  },
  {
   "cell_type": "code",
   "execution_count": 83,
   "metadata": {},
   "outputs": [],
   "source": [
    "df_merged17 = df_merged17[df_merged17['SALE PRICE'] != '0']"
   ]
  },
  {
   "cell_type": "code",
   "execution_count": 84,
   "metadata": {},
   "outputs": [],
   "source": [
    "arr = df_merged17['SALE PRICE'].unique()"
   ]
  },
  {
   "cell_type": "code",
   "execution_count": 85,
   "metadata": {},
   "outputs": [
    {
     "data": {
      "text/plain": [
       "array([' 7738700 ', ' 6350000 ', ' 6300000 ', ..., '1466000', '973586',\n",
       "       '28028095'], dtype=object)"
      ]
     },
     "execution_count": 85,
     "metadata": {},
     "output_type": "execute_result"
    }
   ],
   "source": [
    "arr"
   ]
  },
  {
   "cell_type": "code",
   "execution_count": 86,
   "metadata": {},
   "outputs": [],
   "source": [
    "df_merged17['SALE PRICE'] = pd.to_numeric(df_merged17['SALE PRICE'], errors = 'coerce')"
   ]
  },
  {
   "cell_type": "code",
   "execution_count": 87,
   "metadata": {},
   "outputs": [
    {
     "data": {
      "text/plain": [
       "58256"
      ]
     },
     "execution_count": 87,
     "metadata": {},
     "output_type": "execute_result"
    }
   ],
   "source": [
    "df_merged17['SALE PRICE'].isnull().sum()"
   ]
  },
  {
   "cell_type": "code",
   "execution_count": 90,
   "metadata": {},
   "outputs": [
    {
     "data": {
      "text/plain": [
       "BOROUGH                           0\n",
       "NEIGHBORHOOD                      0\n",
       "ZIP CODE                          0\n",
       "RESIDENTIAL UNITS                 0\n",
       "COMMERCIAL UNITS                  0\n",
       "TOTAL UNITS                       0\n",
       "LAND SQUARE FEET                  0\n",
       "GROSS SQUARE FEET                 0\n",
       "YEAR BUILT                        0\n",
       "TAX CLASS AT TIME OF SALE         0\n",
       "SALE PRICE                        0\n",
       "SALE DATE                         0\n",
       "BUILDING CLASS CATEGORY NUMBER    0\n",
       "BUILDING CLASS CATEGORY           0\n",
       "dtype: int64"
      ]
     },
     "execution_count": 90,
     "metadata": {},
     "output_type": "execute_result"
    }
   ],
   "source": [
    "df_merged17.isna().sum()"
   ]
  },
  {
   "cell_type": "code",
   "execution_count": 89,
   "metadata": {},
   "outputs": [],
   "source": [
    "df_merged17.dropna(inplace = True)"
   ]
  },
  {
   "cell_type": "code",
   "execution_count": 91,
   "metadata": {},
   "outputs": [
    {
     "data": {
      "text/plain": [
       "BOROUGH                              int8\n",
       "NEIGHBORHOOD                        int16\n",
       "ZIP CODE                            int16\n",
       "RESIDENTIAL UNITS                  object\n",
       "COMMERCIAL UNITS                   object\n",
       "TOTAL UNITS                       float64\n",
       "LAND SQUARE FEET                    int32\n",
       "GROSS SQUARE FEET                   int32\n",
       "YEAR BUILT                        float64\n",
       "TAX CLASS AT TIME OF SALE            int8\n",
       "SALE PRICE                        float64\n",
       "SALE DATE                          object\n",
       "BUILDING CLASS CATEGORY NUMBER     object\n",
       "BUILDING CLASS CATEGORY             int16\n",
       "dtype: object"
      ]
     },
     "execution_count": 91,
     "metadata": {},
     "output_type": "execute_result"
    }
   ],
   "source": [
    "df_merged17.dtypes"
   ]
  },
  {
   "cell_type": "code",
   "execution_count": 92,
   "metadata": {},
   "outputs": [],
   "source": [
    "df_merged17 = df_merged17.drop(['BUILDING CLASS CATEGORY NUMBER'], axis = 1)"
   ]
  },
  {
   "cell_type": "code",
   "execution_count": 93,
   "metadata": {},
   "outputs": [
    {
     "data": {
      "text/plain": [
       "Index(['BOROUGH', 'NEIGHBORHOOD', 'ZIP CODE', 'RESIDENTIAL UNITS',\n",
       "       'COMMERCIAL UNITS', 'TOTAL UNITS', 'LAND SQUARE FEET',\n",
       "       'GROSS SQUARE FEET', 'YEAR BUILT', 'TAX CLASS AT TIME OF SALE',\n",
       "       'SALE PRICE', 'SALE DATE', 'BUILDING CLASS CATEGORY'],\n",
       "      dtype='object')"
      ]
     },
     "execution_count": 93,
     "metadata": {},
     "output_type": "execute_result"
    }
   ],
   "source": [
    "df_merged17.columns"
   ]
  },
  {
   "cell_type": "code",
   "execution_count": 94,
   "metadata": {},
   "outputs": [
    {
     "data": {
      "text/plain": [
       "array([' 3 ', ' 10 ', ' 16 ', ' 8 ', ' 6 ', ' 24 ', ' -   ', ' 47 ',\n",
       "       ' 1 ', ' 70 ', ' 4 ', ' 2 ', ' 15 ', ' 7 ', ' 5 ', ' 12 ', ' 18 ',\n",
       "       ' 11 ', ' 9 ', ' 39 ', ' 30 ', ' 204 ', ' 54 ', ' 45 ', ' 21 ',\n",
       "       ' 20 ', ' 25 ', ' 13 ', ' 38 ', ' 23 ', ' 19 ', ' 14 ', ' 529 ',\n",
       "       ' 476 ', ' 317 ', ' 416 ', ' 56 ', ' 107 ', ' 89 ', ' 133 ',\n",
       "       ' 34 ', ' 28 ', ' 26 ', ' 22 ', ' 50 ', ' 286 ', ' 259 ', ' 256 ',\n",
       "       ' 771 ', ' 257 ', ' 914 ', ' 91 ', ' 35 ', ' 205 ', ' 311 ',\n",
       "       ' 48 ', ' 55 ', ' 33 ', ' 41 ', ' 31 ', ' 29 ', ' 72 ', ' 232 ',\n",
       "       ' 36 ', ' 64 ', ' 187 ', ' 60 ', ' 37 ', ' 52 ', ' 43 ', ' 17 ',\n",
       "       ' 49 ', ' 44 ', ' 61 ', ' 94 ', ' 894 ', ' 27 ', ' 198 ', ' 299 ',\n",
       "       ' 323 ', ' 120 ', ' 1,641 ', ' 186 ', ' 144 ', ' 165 ', ' 42 ',\n",
       "       ' 77 ', ' 71 ', ' 40 ', ' 66 ', ' 265 ', ' 153 ', ' 172 ', ' 32 ',\n",
       "       ' 51 ', ' 84 ', ' 75 ', ' 65 ', ' 98 ', ' 67 ', ' 63 ', ' 68 ',\n",
       "       ' 80 ', ' 118 ', ' 46 ', ' 104 ', ' 88 ', ' 74 ', ' 53 ', ' 92 ',\n",
       "       ' 86 ', ' 224 ', ' 572 ', ' 58 ', ' 90 ', ' 106 ', ' 438 ', ' 93 ',\n",
       "       ' 85 ', ' 69 ', ' 130 ', ' 108 ', ' 59 ', ' 134 ', ' 95 ', ' 103 ',\n",
       "       ' 101 ', ' 716 ', ' 62 ', ' 73 ', ' 79 ', ' 283 ', ' 76 ', ' 83 ',\n",
       "       ' 105 ', ' 145 ', ' 222 ', ' 142 ', ' 484 ', ' 129 ', ' 164 ',\n",
       "       ' 81 ', ' 152 ', ' 78 ', ' 162 ', ' 96 ', ' 128 ', ' 124 ',\n",
       "       ' 270 ', ' 417 ', ' 446 ', ' 149 ', ' 143 ', ' 361 ', ' 178 ',\n",
       "       '11', '24', '5', '0', '1', '4', '6', '2', '3', '8', '9', '7', '22',\n",
       "       '15', '127', '376', '35', '28', '18', '19', '10', '12', '16', '20',\n",
       "       '48', '55', '42', '31', '36', '260', '33', '25', '74', '21', '90',\n",
       "       '29', '53', '38', '30', '41', '44', '51', '34', '76', '45', '13',\n",
       "       '56', '68', '23', '17', '50', '26', '40', '46', '318', '108',\n",
       "       '115', '67', '184', '256', '83', '69', '78', '14', '181', '59',\n",
       "       '49', '102', '151', '110', '121', '39', '1,641', '70', '32', '369',\n",
       "       '72', '27', '91', '86', '109', '387', '193', '62', '146', '295',\n",
       "       '95', '54', '52', '64', '87', 1, 2, 3, 6, 4, 0, 18, 20, 31, 8, 14,\n",
       "       24, 145, 5, 12, 7, 64, 16, 19, 22, 10, 36, 44, 13, 53, 26, 25, 29,\n",
       "       39, 21, 38, 9, 48, 32, 15, 70, 54, 62, 35, 89, 23, 11, 42, 27, 52,\n",
       "       150, 57, 67, 61, 78, 46, 40, 103, 118, 122, 286, 17, 49, 135, 45,\n",
       "       30, 324, 41, 47.0, 74.0, 179.0, 65.0, 71.0, 200.0, 28.0, 63.0,\n",
       "       33.0, 55.0, 59.0, 34.0, 129.0, 37.0, 66.0, 58.0, 68.0, 498.0, 81.0,\n",
       "       162.0, 56.0, 43.0, 50.0, 222.0, 149.0, 99.0, 159.0, 462.0, 948.0,\n",
       "       317.0, 143.0, '617', '84', '120', '310', '240', '248', '289',\n",
       "       '100', '96', '152', '917', '88', '94', '81', '136', '291', '1,844',\n",
       "       '148', '135', '58', '350', '112', '335', '60', 60.0, 128.0, 151.0,\n",
       "       266.0, 133.0, 105.0, 108.0, 155.0, 341.0, 600.0, 323.0, 261.0,\n",
       "       184.0, 142.0, 285.0, 283.0, 147.0, 180.0, 127.0, 312.0, 430.0,\n",
       "       69.0, 92.0, 72.0, 192.0, 197.0, 153.0, 193.0, 84.0, 77.0, 476.0,\n",
       "       107.0], dtype=object)"
      ]
     },
     "execution_count": 94,
     "metadata": {},
     "output_type": "execute_result"
    }
   ],
   "source": [
    "df_merged17['RESIDENTIAL UNITS'].unique()"
   ]
  },
  {
   "cell_type": "code",
   "execution_count": 95,
   "metadata": {},
   "outputs": [],
   "source": [
    "df_merged17['RESIDENTIAL UNITS'] = df_merged17['RESIDENTIAL UNITS'].astype(str)"
   ]
  },
  {
   "cell_type": "code",
   "execution_count": 96,
   "metadata": {},
   "outputs": [],
   "source": [
    "df_merged17['RESIDENTIAL UNITS'] = df_merged17['RESIDENTIAL UNITS'].apply(lambda x: x.replace(',', ''))"
   ]
  },
  {
   "cell_type": "code",
   "execution_count": 97,
   "metadata": {},
   "outputs": [],
   "source": [
    "df_merged17['RESIDENTIAL UNITS'] = df_merged17['RESIDENTIAL UNITS'].replace(' -   ', '0')"
   ]
  },
  {
   "cell_type": "code",
   "execution_count": 98,
   "metadata": {},
   "outputs": [],
   "source": [
    "df_merged17['RESIDENTIAL UNITS'] = df_merged17['RESIDENTIAL UNITS'].astype(float)"
   ]
  },
  {
   "cell_type": "code",
   "execution_count": 99,
   "metadata": {},
   "outputs": [],
   "source": [
    "df_merged17['COMMERCIAL UNITS'] = df_merged17['COMMERCIAL UNITS'].astype(str)"
   ]
  },
  {
   "cell_type": "code",
   "execution_count": 100,
   "metadata": {},
   "outputs": [],
   "source": [
    "df_merged17['COMMERCIAL UNITS'] = df_merged17['COMMERCIAL UNITS'].replace(' -   ', '0')"
   ]
  },
  {
   "cell_type": "code",
   "execution_count": 101,
   "metadata": {},
   "outputs": [],
   "source": [
    "df_merged17['COMMERCIAL UNITS'] = df_merged17['COMMERCIAL UNITS'].apply(lambda x: x.replace(',', ''))"
   ]
  },
  {
   "cell_type": "code",
   "execution_count": 102,
   "metadata": {},
   "outputs": [],
   "source": [
    "df_merged17['COMMERCIAL UNITS'] = df_merged17['COMMERCIAL UNITS'].astype(float)"
   ]
  },
  {
   "cell_type": "code",
   "execution_count": null,
   "metadata": {},
   "outputs": [],
   "source": []
  },
  {
   "cell_type": "code",
   "execution_count": null,
   "metadata": {},
   "outputs": [],
   "source": []
  },
  {
   "cell_type": "code",
   "execution_count": 103,
   "metadata": {},
   "outputs": [],
   "source": [
    "df_merged17['YEAR BUILT'] = df_merged17['YEAR BUILT'].astype(str)"
   ]
  },
  {
   "cell_type": "code",
   "execution_count": null,
   "metadata": {},
   "outputs": [],
   "source": []
  },
  {
   "cell_type": "code",
   "execution_count": 104,
   "metadata": {},
   "outputs": [],
   "source": [
    "df_merged17['YEAR BUILT'] = df_merged17['YEAR BUILT'].astype(float)"
   ]
  },
  {
   "cell_type": "code",
   "execution_count": 105,
   "metadata": {},
   "outputs": [
    {
     "data": {
      "text/plain": [
       "1900.0"
      ]
     },
     "execution_count": 105,
     "metadata": {},
     "output_type": "execute_result"
    }
   ],
   "source": [
    "df_merged17['YEAR BUILT'][0]"
   ]
  },
  {
   "cell_type": "code",
   "execution_count": 106,
   "metadata": {},
   "outputs": [
    {
     "data": {
      "text/plain": [
       "Timestamp('1900-01-01 00:00:00')"
      ]
     },
     "execution_count": 106,
     "metadata": {},
     "output_type": "execute_result"
    }
   ],
   "source": [
    "pd.to_datetime(df_merged17['YEAR BUILT'][0], format='%Y')"
   ]
  },
  {
   "cell_type": "code",
   "execution_count": 107,
   "metadata": {},
   "outputs": [],
   "source": [
    "df_merged17['YEAR BUILT'] = ([pd.to_datetime(x, format='%Y', errors = 'coerce') for x in df_merged17['YEAR BUILT']])"
   ]
  },
  {
   "cell_type": "code",
   "execution_count": 108,
   "metadata": {},
   "outputs": [
    {
     "data": {
      "text/plain": [
       "10497"
      ]
     },
     "execution_count": 108,
     "metadata": {},
     "output_type": "execute_result"
    }
   ],
   "source": [
    "df_merged17['YEAR BUILT'].isnull().sum()"
   ]
  },
  {
   "cell_type": "code",
   "execution_count": 109,
   "metadata": {},
   "outputs": [],
   "source": [
    "df_merged17.dropna(inplace = True)"
   ]
  },
  {
   "cell_type": "code",
   "execution_count": 110,
   "metadata": {},
   "outputs": [
    {
     "data": {
      "text/plain": [
       "0"
      ]
     },
     "execution_count": 110,
     "metadata": {},
     "output_type": "execute_result"
    }
   ],
   "source": [
    "df_merged17['YEAR BUILT'].isnull().sum()"
   ]
  },
  {
   "cell_type": "code",
   "execution_count": 111,
   "metadata": {},
   "outputs": [
    {
     "data": {
      "text/plain": [
       "dtype('O')"
      ]
     },
     "execution_count": 111,
     "metadata": {},
     "output_type": "execute_result"
    }
   ],
   "source": [
    "df_merged17['SALE DATE'].dtype"
   ]
  },
  {
   "cell_type": "code",
   "execution_count": 112,
   "metadata": {},
   "outputs": [
    {
     "data": {
      "text/plain": [
       "Timestamp('2016-12-22 00:00:00')"
      ]
     },
     "execution_count": 112,
     "metadata": {},
     "output_type": "execute_result"
    }
   ],
   "source": [
    "pd.to_datetime(df_merged17['SALE DATE'][0])"
   ]
  },
  {
   "cell_type": "code",
   "execution_count": 113,
   "metadata": {},
   "outputs": [
    {
     "data": {
      "text/plain": [
       "'12/22/2016'"
      ]
     },
     "execution_count": 113,
     "metadata": {},
     "output_type": "execute_result"
    }
   ],
   "source": [
    "df_merged17['SALE DATE'][0]"
   ]
  },
  {
   "cell_type": "code",
   "execution_count": 114,
   "metadata": {},
   "outputs": [],
   "source": [
    "df_merged17['SALE DATE'] = ([pd.to_datetime(x) for x in df_merged17['SALE DATE']])"
   ]
  },
  {
   "cell_type": "code",
   "execution_count": 115,
   "metadata": {},
   "outputs": [
    {
     "data": {
      "text/plain": [
       "BOROUGH                      0\n",
       "NEIGHBORHOOD                 0\n",
       "ZIP CODE                     0\n",
       "RESIDENTIAL UNITS            0\n",
       "COMMERCIAL UNITS             0\n",
       "TOTAL UNITS                  0\n",
       "LAND SQUARE FEET             0\n",
       "GROSS SQUARE FEET            0\n",
       "YEAR BUILT                   0\n",
       "TAX CLASS AT TIME OF SALE    0\n",
       "SALE PRICE                   0\n",
       "SALE DATE                    0\n",
       "BUILDING CLASS CATEGORY      0\n",
       "dtype: int64"
      ]
     },
     "execution_count": 115,
     "metadata": {},
     "output_type": "execute_result"
    }
   ],
   "source": [
    "df_merged17.isna().sum()"
   ]
  },
  {
   "cell_type": "code",
   "execution_count": 116,
   "metadata": {},
   "outputs": [],
   "source": [
    "df_merged17['PROPERTY AGE'] = round(((pd.to_datetime(df_merged17['SALE DATE']).dt.date - pd.to_datetime(df_merged17['YEAR BUILT']).dt.date).astype('timedelta64[D]'))/365)\n",
    "#str(yearbuilt).replace('days', '')\n"
   ]
  },
  {
   "cell_type": "code",
   "execution_count": 117,
   "metadata": {},
   "outputs": [
    {
     "data": {
      "text/plain": [
       "0     117.0\n",
       "2      77.0\n",
       "5     117.0\n",
       "9     116.0\n",
       "10    104.0\n",
       "Name: PROPERTY AGE, dtype: float64"
      ]
     },
     "execution_count": 117,
     "metadata": {},
     "output_type": "execute_result"
    }
   ],
   "source": [
    "df_merged17['PROPERTY AGE'].head()"
   ]
  },
  {
   "cell_type": "code",
   "execution_count": 118,
   "metadata": {},
   "outputs": [
    {
     "data": {
      "text/plain": [
       "BOROUGH                      0\n",
       "NEIGHBORHOOD                 0\n",
       "ZIP CODE                     0\n",
       "RESIDENTIAL UNITS            0\n",
       "COMMERCIAL UNITS             0\n",
       "TOTAL UNITS                  0\n",
       "LAND SQUARE FEET             0\n",
       "GROSS SQUARE FEET            0\n",
       "YEAR BUILT                   0\n",
       "TAX CLASS AT TIME OF SALE    0\n",
       "SALE PRICE                   0\n",
       "SALE DATE                    0\n",
       "BUILDING CLASS CATEGORY      0\n",
       "PROPERTY AGE                 0\n",
       "dtype: int64"
      ]
     },
     "execution_count": 118,
     "metadata": {},
     "output_type": "execute_result"
    }
   ],
   "source": [
    "df_merged17.isna().sum()"
   ]
  },
  {
   "cell_type": "code",
   "execution_count": 119,
   "metadata": {},
   "outputs": [
    {
     "data": {
      "text/html": [
       "<div>\n",
       "<style scoped>\n",
       "    .dataframe tbody tr th:only-of-type {\n",
       "        vertical-align: middle;\n",
       "    }\n",
       "\n",
       "    .dataframe tbody tr th {\n",
       "        vertical-align: top;\n",
       "    }\n",
       "\n",
       "    .dataframe thead th {\n",
       "        text-align: right;\n",
       "    }\n",
       "</style>\n",
       "<table border=\"1\" class=\"dataframe\">\n",
       "  <thead>\n",
       "    <tr style=\"text-align: right;\">\n",
       "      <th></th>\n",
       "      <th>BOROUGH</th>\n",
       "      <th>NEIGHBORHOOD</th>\n",
       "      <th>ZIP CODE</th>\n",
       "      <th>RESIDENTIAL UNITS</th>\n",
       "      <th>COMMERCIAL UNITS</th>\n",
       "      <th>TOTAL UNITS</th>\n",
       "      <th>LAND SQUARE FEET</th>\n",
       "      <th>GROSS SQUARE FEET</th>\n",
       "      <th>YEAR BUILT</th>\n",
       "      <th>TAX CLASS AT TIME OF SALE</th>\n",
       "      <th>SALE PRICE</th>\n",
       "      <th>SALE DATE</th>\n",
       "      <th>BUILDING CLASS CATEGORY</th>\n",
       "      <th>PROPERTY AGE</th>\n",
       "    </tr>\n",
       "  </thead>\n",
       "  <tbody>\n",
       "    <tr>\n",
       "      <th>0</th>\n",
       "      <td>0</td>\n",
       "      <td>4</td>\n",
       "      <td>8</td>\n",
       "      <td>3.0</td>\n",
       "      <td>0.0</td>\n",
       "      <td>3.0</td>\n",
       "      <td>2059</td>\n",
       "      <td>3696</td>\n",
       "      <td>1900-01-01</td>\n",
       "      <td>0</td>\n",
       "      <td>7738700.0</td>\n",
       "      <td>2016-12-22</td>\n",
       "      <td>41</td>\n",
       "      <td>117.0</td>\n",
       "    </tr>\n",
       "    <tr>\n",
       "      <th>2</th>\n",
       "      <td>0</td>\n",
       "      <td>4</td>\n",
       "      <td>8</td>\n",
       "      <td>10.0</td>\n",
       "      <td>0.0</td>\n",
       "      <td>10.0</td>\n",
       "      <td>2271</td>\n",
       "      <td>7860</td>\n",
       "      <td>1939-01-01</td>\n",
       "      <td>1</td>\n",
       "      <td>6350000.0</td>\n",
       "      <td>2016-04-20</td>\n",
       "      <td>32</td>\n",
       "      <td>77.0</td>\n",
       "    </tr>\n",
       "    <tr>\n",
       "      <th>5</th>\n",
       "      <td>0</td>\n",
       "      <td>4</td>\n",
       "      <td>8</td>\n",
       "      <td>16.0</td>\n",
       "      <td>1.0</td>\n",
       "      <td>17.0</td>\n",
       "      <td>2212</td>\n",
       "      <td>7803</td>\n",
       "      <td>1900-01-01</td>\n",
       "      <td>1</td>\n",
       "      <td>6300000.0</td>\n",
       "      <td>2016-08-04</td>\n",
       "      <td>32</td>\n",
       "      <td>117.0</td>\n",
       "    </tr>\n",
       "    <tr>\n",
       "      <th>9</th>\n",
       "      <td>0</td>\n",
       "      <td>4</td>\n",
       "      <td>8</td>\n",
       "      <td>8.0</td>\n",
       "      <td>1.0</td>\n",
       "      <td>9.0</td>\n",
       "      <td>1896</td>\n",
       "      <td>5876</td>\n",
       "      <td>1900-01-01</td>\n",
       "      <td>1</td>\n",
       "      <td>5650000.0</td>\n",
       "      <td>2016-04-20</td>\n",
       "      <td>32</td>\n",
       "      <td>116.0</td>\n",
       "    </tr>\n",
       "    <tr>\n",
       "      <th>10</th>\n",
       "      <td>0</td>\n",
       "      <td>4</td>\n",
       "      <td>8</td>\n",
       "      <td>10.0</td>\n",
       "      <td>0.0</td>\n",
       "      <td>10.0</td>\n",
       "      <td>2272</td>\n",
       "      <td>6794</td>\n",
       "      <td>1913-01-01</td>\n",
       "      <td>1</td>\n",
       "      <td>3936272.0</td>\n",
       "      <td>2016-09-23</td>\n",
       "      <td>32</td>\n",
       "      <td>104.0</td>\n",
       "    </tr>\n",
       "  </tbody>\n",
       "</table>\n",
       "</div>"
      ],
      "text/plain": [
       "    BOROUGH  NEIGHBORHOOD  ZIP CODE  RESIDENTIAL UNITS  COMMERCIAL UNITS  \\\n",
       "0         0             4         8                3.0               0.0   \n",
       "2         0             4         8               10.0               0.0   \n",
       "5         0             4         8               16.0               1.0   \n",
       "9         0             4         8                8.0               1.0   \n",
       "10        0             4         8               10.0               0.0   \n",
       "\n",
       "    TOTAL UNITS  LAND SQUARE FEET  GROSS SQUARE FEET YEAR BUILT  \\\n",
       "0           3.0              2059               3696 1900-01-01   \n",
       "2          10.0              2271               7860 1939-01-01   \n",
       "5          17.0              2212               7803 1900-01-01   \n",
       "9           9.0              1896               5876 1900-01-01   \n",
       "10         10.0              2272               6794 1913-01-01   \n",
       "\n",
       "    TAX CLASS AT TIME OF SALE  SALE PRICE  SALE DATE  BUILDING CLASS CATEGORY  \\\n",
       "0                           0   7738700.0 2016-12-22                       41   \n",
       "2                           1   6350000.0 2016-04-20                       32   \n",
       "5                           1   6300000.0 2016-08-04                       32   \n",
       "9                           1   5650000.0 2016-04-20                       32   \n",
       "10                          1   3936272.0 2016-09-23                       32   \n",
       "\n",
       "    PROPERTY AGE  \n",
       "0          117.0  \n",
       "2           77.0  \n",
       "5          117.0  \n",
       "9          116.0  \n",
       "10         104.0  "
      ]
     },
     "execution_count": 119,
     "metadata": {},
     "output_type": "execute_result"
    }
   ],
   "source": [
    "df_merged17.head()"
   ]
  },
  {
   "cell_type": "code",
   "execution_count": 120,
   "metadata": {},
   "outputs": [],
   "source": [
    "df_merged17 = df_merged17.drop(['YEAR BUILT'],1)"
   ]
  },
  {
   "cell_type": "code",
   "execution_count": 151,
   "metadata": {},
   "outputs": [],
   "source": [
    "df_merge = df_merged17[['BOROUGH','SALE DATE','SALE PRICE']].copy()"
   ]
  },
  {
   "cell_type": "code",
   "execution_count": 152,
   "metadata": {},
   "outputs": [],
   "source": [
    "df_merge_manhattan = df_merge[df_merge['BOROUGH'] == 0]"
   ]
  },
  {
   "cell_type": "code",
   "execution_count": 153,
   "metadata": {},
   "outputs": [
    {
     "data": {
      "text/plain": [
       "BOROUGH       33603\n",
       "SALE DATE     33603\n",
       "SALE PRICE    33603\n",
       "dtype: int64"
      ]
     },
     "execution_count": 153,
     "metadata": {},
     "output_type": "execute_result"
    }
   ],
   "source": [
    "df_merge_manhattan.count()"
   ]
  },
  {
   "cell_type": "code",
   "execution_count": 154,
   "metadata": {},
   "outputs": [],
   "source": [
    "df_merge_manhattan = df_merge_manhattan.drop('BOROUGH',1)"
   ]
  },
  {
   "cell_type": "code",
   "execution_count": 187,
   "metadata": {},
   "outputs": [],
   "source": [
    "df_merge_manhattan.to_csv('Whatthehell.csv')"
   ]
  },
  {
   "cell_type": "code",
   "execution_count": 182,
   "metadata": {},
   "outputs": [
    {
     "data": {
      "text/html": [
       "<div>\n",
       "<style scoped>\n",
       "    .dataframe tbody tr th:only-of-type {\n",
       "        vertical-align: middle;\n",
       "    }\n",
       "\n",
       "    .dataframe tbody tr th {\n",
       "        vertical-align: top;\n",
       "    }\n",
       "\n",
       "    .dataframe thead th {\n",
       "        text-align: right;\n",
       "    }\n",
       "</style>\n",
       "<table border=\"1\" class=\"dataframe\">\n",
       "  <thead>\n",
       "    <tr style=\"text-align: right;\">\n",
       "      <th></th>\n",
       "      <th>SALE DATE</th>\n",
       "      <th>SALE PRICE</th>\n",
       "    </tr>\n",
       "  </thead>\n",
       "  <tbody>\n",
       "    <tr>\n",
       "      <th>2707</th>\n",
       "      <td>2016-01-01</td>\n",
       "      <td>4027000.0</td>\n",
       "    </tr>\n",
       "    <tr>\n",
       "      <th>11178</th>\n",
       "      <td>2016-01-02</td>\n",
       "      <td>16239.0</td>\n",
       "    </tr>\n",
       "    <tr>\n",
       "      <th>10099</th>\n",
       "      <td>2016-01-04</td>\n",
       "      <td>974983.0</td>\n",
       "    </tr>\n",
       "    <tr>\n",
       "      <th>14166</th>\n",
       "      <td>2016-01-04</td>\n",
       "      <td>10.0</td>\n",
       "    </tr>\n",
       "    <tr>\n",
       "      <th>19383</th>\n",
       "      <td>2016-01-04</td>\n",
       "      <td>615000.0</td>\n",
       "    </tr>\n",
       "    <tr>\n",
       "      <th>5021</th>\n",
       "      <td>2016-01-04</td>\n",
       "      <td>2643951.0</td>\n",
       "    </tr>\n",
       "    <tr>\n",
       "      <th>9665</th>\n",
       "      <td>2016-01-04</td>\n",
       "      <td>543500.0</td>\n",
       "    </tr>\n",
       "    <tr>\n",
       "      <th>246</th>\n",
       "      <td>2016-01-04</td>\n",
       "      <td>1457000.0</td>\n",
       "    </tr>\n",
       "    <tr>\n",
       "      <th>15337</th>\n",
       "      <td>2016-01-04</td>\n",
       "      <td>5850000.0</td>\n",
       "    </tr>\n",
       "    <tr>\n",
       "      <th>8128</th>\n",
       "      <td>2016-01-04</td>\n",
       "      <td>1250000.0</td>\n",
       "    </tr>\n",
       "    <tr>\n",
       "      <th>20512</th>\n",
       "      <td>2016-01-04</td>\n",
       "      <td>965000.0</td>\n",
       "    </tr>\n",
       "    <tr>\n",
       "      <th>16329</th>\n",
       "      <td>2016-01-04</td>\n",
       "      <td>379000.0</td>\n",
       "    </tr>\n",
       "    <tr>\n",
       "      <th>16810</th>\n",
       "      <td>2016-01-04</td>\n",
       "      <td>575000.0</td>\n",
       "    </tr>\n",
       "    <tr>\n",
       "      <th>21003</th>\n",
       "      <td>2016-01-04</td>\n",
       "      <td>350000.0</td>\n",
       "    </tr>\n",
       "    <tr>\n",
       "      <th>7022</th>\n",
       "      <td>2016-01-04</td>\n",
       "      <td>597942.0</td>\n",
       "    </tr>\n",
       "    <tr>\n",
       "      <th>15216</th>\n",
       "      <td>2016-01-04</td>\n",
       "      <td>600000.0</td>\n",
       "    </tr>\n",
       "    <tr>\n",
       "      <th>14165</th>\n",
       "      <td>2016-01-04</td>\n",
       "      <td>10.0</td>\n",
       "    </tr>\n",
       "    <tr>\n",
       "      <th>394</th>\n",
       "      <td>2016-01-04</td>\n",
       "      <td>109843.0</td>\n",
       "    </tr>\n",
       "    <tr>\n",
       "      <th>19867</th>\n",
       "      <td>2016-01-04</td>\n",
       "      <td>1055000.0</td>\n",
       "    </tr>\n",
       "    <tr>\n",
       "      <th>19599</th>\n",
       "      <td>2016-01-04</td>\n",
       "      <td>835000.0</td>\n",
       "    </tr>\n",
       "    <tr>\n",
       "      <th>18514</th>\n",
       "      <td>2016-01-04</td>\n",
       "      <td>1665000.0</td>\n",
       "    </tr>\n",
       "    <tr>\n",
       "      <th>10143</th>\n",
       "      <td>2016-01-04</td>\n",
       "      <td>1661128.0</td>\n",
       "    </tr>\n",
       "    <tr>\n",
       "      <th>4513</th>\n",
       "      <td>2016-01-04</td>\n",
       "      <td>78000000.0</td>\n",
       "    </tr>\n",
       "    <tr>\n",
       "      <th>6202</th>\n",
       "      <td>2016-01-04</td>\n",
       "      <td>7000000.0</td>\n",
       "    </tr>\n",
       "    <tr>\n",
       "      <th>14164</th>\n",
       "      <td>2016-01-04</td>\n",
       "      <td>10.0</td>\n",
       "    </tr>\n",
       "    <tr>\n",
       "      <th>14840</th>\n",
       "      <td>2016-01-04</td>\n",
       "      <td>529000.0</td>\n",
       "    </tr>\n",
       "    <tr>\n",
       "      <th>163</th>\n",
       "      <td>2016-01-04</td>\n",
       "      <td>842619.0</td>\n",
       "    </tr>\n",
       "    <tr>\n",
       "      <th>224</th>\n",
       "      <td>2016-01-05</td>\n",
       "      <td>4250000.0</td>\n",
       "    </tr>\n",
       "    <tr>\n",
       "      <th>17455</th>\n",
       "      <td>2016-01-05</td>\n",
       "      <td>1731100.0</td>\n",
       "    </tr>\n",
       "    <tr>\n",
       "      <th>17415</th>\n",
       "      <td>2016-01-05</td>\n",
       "      <td>1200599.0</td>\n",
       "    </tr>\n",
       "    <tr>\n",
       "      <th>...</th>\n",
       "      <td>...</td>\n",
       "      <td>...</td>\n",
       "    </tr>\n",
       "    <tr>\n",
       "      <th>352816</th>\n",
       "      <td>2019-12-30</td>\n",
       "      <td>1730000.0</td>\n",
       "    </tr>\n",
       "    <tr>\n",
       "      <th>352843</th>\n",
       "      <td>2019-12-30</td>\n",
       "      <td>1350000.0</td>\n",
       "    </tr>\n",
       "    <tr>\n",
       "      <th>352023</th>\n",
       "      <td>2019-12-30</td>\n",
       "      <td>894890.0</td>\n",
       "    </tr>\n",
       "    <tr>\n",
       "      <th>342537</th>\n",
       "      <td>2019-12-30</td>\n",
       "      <td>1209000.0</td>\n",
       "    </tr>\n",
       "    <tr>\n",
       "      <th>346877</th>\n",
       "      <td>2019-12-30</td>\n",
       "      <td>608755.0</td>\n",
       "    </tr>\n",
       "    <tr>\n",
       "      <th>341996</th>\n",
       "      <td>2019-12-30</td>\n",
       "      <td>1268975.0</td>\n",
       "    </tr>\n",
       "    <tr>\n",
       "      <th>350863</th>\n",
       "      <td>2019-12-30</td>\n",
       "      <td>1044796.0</td>\n",
       "    </tr>\n",
       "    <tr>\n",
       "      <th>351791</th>\n",
       "      <td>2019-12-30</td>\n",
       "      <td>894890.0</td>\n",
       "    </tr>\n",
       "    <tr>\n",
       "      <th>342433</th>\n",
       "      <td>2019-12-30</td>\n",
       "      <td>4200000.0</td>\n",
       "    </tr>\n",
       "    <tr>\n",
       "      <th>348764</th>\n",
       "      <td>2019-12-30</td>\n",
       "      <td>1215000.0</td>\n",
       "    </tr>\n",
       "    <tr>\n",
       "      <th>350831</th>\n",
       "      <td>2019-12-30</td>\n",
       "      <td>999000.0</td>\n",
       "    </tr>\n",
       "    <tr>\n",
       "      <th>346589</th>\n",
       "      <td>2019-12-30</td>\n",
       "      <td>17375000.0</td>\n",
       "    </tr>\n",
       "    <tr>\n",
       "      <th>343434</th>\n",
       "      <td>2019-12-30</td>\n",
       "      <td>725000.0</td>\n",
       "    </tr>\n",
       "    <tr>\n",
       "      <th>346588</th>\n",
       "      <td>2019-12-30</td>\n",
       "      <td>17375000.0</td>\n",
       "    </tr>\n",
       "    <tr>\n",
       "      <th>344394</th>\n",
       "      <td>2019-12-31</td>\n",
       "      <td>312500.0</td>\n",
       "    </tr>\n",
       "    <tr>\n",
       "      <th>343422</th>\n",
       "      <td>2019-12-31</td>\n",
       "      <td>1550000.0</td>\n",
       "    </tr>\n",
       "    <tr>\n",
       "      <th>347302</th>\n",
       "      <td>2019-12-31</td>\n",
       "      <td>360000.0</td>\n",
       "    </tr>\n",
       "    <tr>\n",
       "      <th>351800</th>\n",
       "      <td>2019-12-31</td>\n",
       "      <td>2075000.0</td>\n",
       "    </tr>\n",
       "    <tr>\n",
       "      <th>358895</th>\n",
       "      <td>2019-12-31</td>\n",
       "      <td>2200000.0</td>\n",
       "    </tr>\n",
       "    <tr>\n",
       "      <th>343973</th>\n",
       "      <td>2019-12-31</td>\n",
       "      <td>1095000.0</td>\n",
       "    </tr>\n",
       "    <tr>\n",
       "      <th>346812</th>\n",
       "      <td>2019-12-31</td>\n",
       "      <td>656771.0</td>\n",
       "    </tr>\n",
       "    <tr>\n",
       "      <th>343050</th>\n",
       "      <td>2019-12-31</td>\n",
       "      <td>1100000.0</td>\n",
       "    </tr>\n",
       "    <tr>\n",
       "      <th>343916</th>\n",
       "      <td>2019-12-31</td>\n",
       "      <td>1990000.0</td>\n",
       "    </tr>\n",
       "    <tr>\n",
       "      <th>352846</th>\n",
       "      <td>2019-12-31</td>\n",
       "      <td>1255000.0</td>\n",
       "    </tr>\n",
       "    <tr>\n",
       "      <th>342367</th>\n",
       "      <td>2019-12-31</td>\n",
       "      <td>900000.0</td>\n",
       "    </tr>\n",
       "    <tr>\n",
       "      <th>354763</th>\n",
       "      <td>2019-12-31</td>\n",
       "      <td>10192849.0</td>\n",
       "    </tr>\n",
       "    <tr>\n",
       "      <th>357274</th>\n",
       "      <td>2019-12-31</td>\n",
       "      <td>1995000.0</td>\n",
       "    </tr>\n",
       "    <tr>\n",
       "      <th>354108</th>\n",
       "      <td>2019-12-31</td>\n",
       "      <td>1650000.0</td>\n",
       "    </tr>\n",
       "    <tr>\n",
       "      <th>346811</th>\n",
       "      <td>2019-12-31</td>\n",
       "      <td>967338.0</td>\n",
       "    </tr>\n",
       "    <tr>\n",
       "      <th>359453</th>\n",
       "      <td>2019-12-31</td>\n",
       "      <td>11700929.0</td>\n",
       "    </tr>\n",
       "  </tbody>\n",
       "</table>\n",
       "<p>33603 rows × 2 columns</p>\n",
       "</div>"
      ],
      "text/plain": [
       "        SALE DATE  SALE PRICE\n",
       "2707   2016-01-01   4027000.0\n",
       "11178  2016-01-02     16239.0\n",
       "10099  2016-01-04    974983.0\n",
       "14166  2016-01-04        10.0\n",
       "19383  2016-01-04    615000.0\n",
       "5021   2016-01-04   2643951.0\n",
       "9665   2016-01-04    543500.0\n",
       "246    2016-01-04   1457000.0\n",
       "15337  2016-01-04   5850000.0\n",
       "8128   2016-01-04   1250000.0\n",
       "20512  2016-01-04    965000.0\n",
       "16329  2016-01-04    379000.0\n",
       "16810  2016-01-04    575000.0\n",
       "21003  2016-01-04    350000.0\n",
       "7022   2016-01-04    597942.0\n",
       "15216  2016-01-04    600000.0\n",
       "14165  2016-01-04        10.0\n",
       "394    2016-01-04    109843.0\n",
       "19867  2016-01-04   1055000.0\n",
       "19599  2016-01-04    835000.0\n",
       "18514  2016-01-04   1665000.0\n",
       "10143  2016-01-04   1661128.0\n",
       "4513   2016-01-04  78000000.0\n",
       "6202   2016-01-04   7000000.0\n",
       "14164  2016-01-04        10.0\n",
       "14840  2016-01-04    529000.0\n",
       "163    2016-01-04    842619.0\n",
       "224    2016-01-05   4250000.0\n",
       "17455  2016-01-05   1731100.0\n",
       "17415  2016-01-05   1200599.0\n",
       "...           ...         ...\n",
       "352816 2019-12-30   1730000.0\n",
       "352843 2019-12-30   1350000.0\n",
       "352023 2019-12-30    894890.0\n",
       "342537 2019-12-30   1209000.0\n",
       "346877 2019-12-30    608755.0\n",
       "341996 2019-12-30   1268975.0\n",
       "350863 2019-12-30   1044796.0\n",
       "351791 2019-12-30    894890.0\n",
       "342433 2019-12-30   4200000.0\n",
       "348764 2019-12-30   1215000.0\n",
       "350831 2019-12-30    999000.0\n",
       "346589 2019-12-30  17375000.0\n",
       "343434 2019-12-30    725000.0\n",
       "346588 2019-12-30  17375000.0\n",
       "344394 2019-12-31    312500.0\n",
       "343422 2019-12-31   1550000.0\n",
       "347302 2019-12-31    360000.0\n",
       "351800 2019-12-31   2075000.0\n",
       "358895 2019-12-31   2200000.0\n",
       "343973 2019-12-31   1095000.0\n",
       "346812 2019-12-31    656771.0\n",
       "343050 2019-12-31   1100000.0\n",
       "343916 2019-12-31   1990000.0\n",
       "352846 2019-12-31   1255000.0\n",
       "342367 2019-12-31    900000.0\n",
       "354763 2019-12-31  10192849.0\n",
       "357274 2019-12-31   1995000.0\n",
       "354108 2019-12-31   1650000.0\n",
       "346811 2019-12-31    967338.0\n",
       "359453 2019-12-31  11700929.0\n",
       "\n",
       "[33603 rows x 2 columns]"
      ]
     },
     "execution_count": 182,
     "metadata": {},
     "output_type": "execute_result"
    }
   ],
   "source": [
    "df_merge_manhattan.sort_values('SALE DATE')"
   ]
  },
  {
   "cell_type": "code",
   "execution_count": 186,
   "metadata": {},
   "outputs": [
    {
     "data": {
      "text/html": [
       "<div>\n",
       "<style scoped>\n",
       "    .dataframe tbody tr th:only-of-type {\n",
       "        vertical-align: middle;\n",
       "    }\n",
       "\n",
       "    .dataframe tbody tr th {\n",
       "        vertical-align: top;\n",
       "    }\n",
       "\n",
       "    .dataframe thead th {\n",
       "        text-align: right;\n",
       "    }\n",
       "</style>\n",
       "<table border=\"1\" class=\"dataframe\">\n",
       "  <thead>\n",
       "    <tr style=\"text-align: right;\">\n",
       "      <th></th>\n",
       "      <th>SALE DATE</th>\n",
       "      <th>SALE PRICE</th>\n",
       "    </tr>\n",
       "    <tr>\n",
       "      <th>SALE DATE</th>\n",
       "      <th></th>\n",
       "      <th></th>\n",
       "    </tr>\n",
       "  </thead>\n",
       "  <tbody>\n",
       "    <tr>\n",
       "      <th>2016</th>\n",
       "      <td>2016-12-31</td>\n",
       "      <td>1.932900e+09</td>\n",
       "    </tr>\n",
       "    <tr>\n",
       "      <th>2017</th>\n",
       "      <td>2017-12-31</td>\n",
       "      <td>2.210000e+09</td>\n",
       "    </tr>\n",
       "    <tr>\n",
       "      <th>2018</th>\n",
       "      <td>2018-05-22</td>\n",
       "      <td>4.844809e+06</td>\n",
       "    </tr>\n",
       "    <tr>\n",
       "      <th>2019</th>\n",
       "      <td>2019-12-31</td>\n",
       "      <td>2.155000e+09</td>\n",
       "    </tr>\n",
       "  </tbody>\n",
       "</table>\n",
       "</div>"
      ],
      "text/plain": [
       "           SALE DATE    SALE PRICE\n",
       "SALE DATE                         \n",
       "2016      2016-12-31  1.932900e+09\n",
       "2017      2017-12-31  2.210000e+09\n",
       "2018      2018-05-22  4.844809e+06\n",
       "2019      2019-12-31  2.155000e+09"
      ]
     },
     "execution_count": 186,
     "metadata": {},
     "output_type": "execute_result"
    }
   ],
   "source": [
    "manhattan_mean = df_merge_manhattan.groupby(pd.to_datetime(df_merge_manhattan['SALE DATE']).dt.year).max()\n",
    "manhattan_mean"
   ]
  },
  {
   "cell_type": "code",
   "execution_count": 158,
   "metadata": {},
   "outputs": [
    {
     "data": {
      "text/plain": [
       "33603"
      ]
     },
     "execution_count": 158,
     "metadata": {},
     "output_type": "execute_result"
    }
   ],
   "source": [
    "df_merge_manhattan['SALE PRICE'].count()"
   ]
  },
  {
   "cell_type": "code",
   "execution_count": null,
   "metadata": {},
   "outputs": [],
   "source": []
  },
  {
   "cell_type": "code",
   "execution_count": 163,
   "metadata": {},
   "outputs": [],
   "source": [
    "df_merged17 = df_merged17.drop(['SALE DATE'],1)"
   ]
  },
  {
   "cell_type": "code",
   "execution_count": 164,
   "metadata": {},
   "outputs": [
    {
     "data": {
      "text/html": [
       "<div>\n",
       "<style scoped>\n",
       "    .dataframe tbody tr th:only-of-type {\n",
       "        vertical-align: middle;\n",
       "    }\n",
       "\n",
       "    .dataframe tbody tr th {\n",
       "        vertical-align: top;\n",
       "    }\n",
       "\n",
       "    .dataframe thead th {\n",
       "        text-align: right;\n",
       "    }\n",
       "</style>\n",
       "<table border=\"1\" class=\"dataframe\">\n",
       "  <thead>\n",
       "    <tr style=\"text-align: right;\">\n",
       "      <th></th>\n",
       "      <th>BOROUGH</th>\n",
       "      <th>NEIGHBORHOOD</th>\n",
       "      <th>ZIP CODE</th>\n",
       "      <th>RESIDENTIAL UNITS</th>\n",
       "      <th>COMMERCIAL UNITS</th>\n",
       "      <th>TOTAL UNITS</th>\n",
       "      <th>LAND SQUARE FEET</th>\n",
       "      <th>GROSS SQUARE FEET</th>\n",
       "      <th>TAX CLASS AT TIME OF SALE</th>\n",
       "      <th>SALE PRICE</th>\n",
       "      <th>BUILDING CLASS CATEGORY</th>\n",
       "      <th>PROPERTY AGE</th>\n",
       "    </tr>\n",
       "  </thead>\n",
       "  <tbody>\n",
       "    <tr>\n",
       "      <th>0</th>\n",
       "      <td>0</td>\n",
       "      <td>4</td>\n",
       "      <td>8</td>\n",
       "      <td>3.0</td>\n",
       "      <td>0.0</td>\n",
       "      <td>3.0</td>\n",
       "      <td>2059</td>\n",
       "      <td>3696</td>\n",
       "      <td>0</td>\n",
       "      <td>7738700.0</td>\n",
       "      <td>41</td>\n",
       "      <td>117.0</td>\n",
       "    </tr>\n",
       "    <tr>\n",
       "      <th>2</th>\n",
       "      <td>0</td>\n",
       "      <td>4</td>\n",
       "      <td>8</td>\n",
       "      <td>10.0</td>\n",
       "      <td>0.0</td>\n",
       "      <td>10.0</td>\n",
       "      <td>2271</td>\n",
       "      <td>7860</td>\n",
       "      <td>1</td>\n",
       "      <td>6350000.0</td>\n",
       "      <td>32</td>\n",
       "      <td>77.0</td>\n",
       "    </tr>\n",
       "    <tr>\n",
       "      <th>5</th>\n",
       "      <td>0</td>\n",
       "      <td>4</td>\n",
       "      <td>8</td>\n",
       "      <td>16.0</td>\n",
       "      <td>1.0</td>\n",
       "      <td>17.0</td>\n",
       "      <td>2212</td>\n",
       "      <td>7803</td>\n",
       "      <td>1</td>\n",
       "      <td>6300000.0</td>\n",
       "      <td>32</td>\n",
       "      <td>117.0</td>\n",
       "    </tr>\n",
       "    <tr>\n",
       "      <th>9</th>\n",
       "      <td>0</td>\n",
       "      <td>4</td>\n",
       "      <td>8</td>\n",
       "      <td>8.0</td>\n",
       "      <td>1.0</td>\n",
       "      <td>9.0</td>\n",
       "      <td>1896</td>\n",
       "      <td>5876</td>\n",
       "      <td>1</td>\n",
       "      <td>5650000.0</td>\n",
       "      <td>32</td>\n",
       "      <td>116.0</td>\n",
       "    </tr>\n",
       "    <tr>\n",
       "      <th>10</th>\n",
       "      <td>0</td>\n",
       "      <td>4</td>\n",
       "      <td>8</td>\n",
       "      <td>10.0</td>\n",
       "      <td>0.0</td>\n",
       "      <td>10.0</td>\n",
       "      <td>2272</td>\n",
       "      <td>6794</td>\n",
       "      <td>1</td>\n",
       "      <td>3936272.0</td>\n",
       "      <td>32</td>\n",
       "      <td>104.0</td>\n",
       "    </tr>\n",
       "  </tbody>\n",
       "</table>\n",
       "</div>"
      ],
      "text/plain": [
       "    BOROUGH  NEIGHBORHOOD  ZIP CODE  RESIDENTIAL UNITS  COMMERCIAL UNITS  \\\n",
       "0         0             4         8                3.0               0.0   \n",
       "2         0             4         8               10.0               0.0   \n",
       "5         0             4         8               16.0               1.0   \n",
       "9         0             4         8                8.0               1.0   \n",
       "10        0             4         8               10.0               0.0   \n",
       "\n",
       "    TOTAL UNITS  LAND SQUARE FEET  GROSS SQUARE FEET  \\\n",
       "0           3.0              2059               3696   \n",
       "2          10.0              2271               7860   \n",
       "5          17.0              2212               7803   \n",
       "9           9.0              1896               5876   \n",
       "10         10.0              2272               6794   \n",
       "\n",
       "    TAX CLASS AT TIME OF SALE  SALE PRICE  BUILDING CLASS CATEGORY  \\\n",
       "0                           0   7738700.0                       41   \n",
       "2                           1   6350000.0                       32   \n",
       "5                           1   6300000.0                       32   \n",
       "9                           1   5650000.0                       32   \n",
       "10                          1   3936272.0                       32   \n",
       "\n",
       "    PROPERTY AGE  \n",
       "0          117.0  \n",
       "2           77.0  \n",
       "5          117.0  \n",
       "9          116.0  \n",
       "10         104.0  "
      ]
     },
     "execution_count": 164,
     "metadata": {},
     "output_type": "execute_result"
    }
   ],
   "source": [
    "df_merged17.head()"
   ]
  },
  {
   "cell_type": "code",
   "execution_count": 165,
   "metadata": {},
   "outputs": [],
   "source": [
    "df_merged17.to_csv('dffinal.csv')"
   ]
  },
  {
   "cell_type": "code",
   "execution_count": null,
   "metadata": {},
   "outputs": [],
   "source": []
  },
  {
   "cell_type": "code",
   "execution_count": 166,
   "metadata": {},
   "outputs": [],
   "source": [
    "df_merged17_sales = df_merged17['SALE PRICE']"
   ]
  },
  {
   "cell_type": "code",
   "execution_count": 167,
   "metadata": {},
   "outputs": [],
   "source": [
    "df_merged17_rest = df_merged17.drop('SALE PRICE',1)"
   ]
  },
  {
   "cell_type": "code",
   "execution_count": null,
   "metadata": {},
   "outputs": [],
   "source": []
  },
  {
   "cell_type": "code",
   "execution_count": 168,
   "metadata": {},
   "outputs": [],
   "source": [
    "\n",
    "\n",
    "train_X, test_X, train_Y, test_Y = train_test_split(df_merged17_rest,df_merged17_sales,random_state=99,\n",
    "                                                   test_size=0.2)"
   ]
  },
  {
   "cell_type": "code",
   "execution_count": 169,
   "metadata": {},
   "outputs": [],
   "source": [
    "\n",
    "\n",
    "#singlefactor = sm.OLS(train_Y,train_X).fit()\n",
    "#predictsinglefactor = singlefactor.predict(test_X) \n",
    "\n",
    "#singlefactor.summary()"
   ]
  },
  {
   "cell_type": "code",
   "execution_count": 170,
   "metadata": {},
   "outputs": [
    {
     "data": {
      "text/plain": [
       "(102116, 11)"
      ]
     },
     "execution_count": 170,
     "metadata": {},
     "output_type": "execute_result"
    }
   ],
   "source": [
    "train_X.shape"
   ]
  },
  {
   "cell_type": "code",
   "execution_count": 171,
   "metadata": {},
   "outputs": [
    {
     "data": {
      "text/plain": [
       "(102116,)"
      ]
     },
     "execution_count": 171,
     "metadata": {},
     "output_type": "execute_result"
    }
   ],
   "source": [
    "train_Y.shape"
   ]
  },
  {
   "cell_type": "code",
   "execution_count": 172,
   "metadata": {},
   "outputs": [],
   "source": [
    "\n",
    "\n",
    "linearreg = linear_model.LinearRegression()\n",
    "modellinearreg = linearreg.fit(train_X,train_Y)"
   ]
  },
  {
   "cell_type": "code",
   "execution_count": 173,
   "metadata": {},
   "outputs": [
    {
     "name": "stdout",
     "output_type": "stream",
     "text": [
      "[2200442.53164407  870263.97791244  423168.67947138 ... 2527466.21027162\n",
      " 1204766.66385809  445933.98173853]\n",
      "0.3337873986475761\n"
     ]
    }
   ],
   "source": [
    "linregpredict = modellinearreg.predict(test_X)\n",
    "print(linregpredict)\n",
    "print(modellinearreg.score(train_X,train_Y))\n"
   ]
  },
  {
   "cell_type": "code",
   "execution_count": null,
   "metadata": {},
   "outputs": [],
   "source": []
  },
  {
   "cell_type": "code",
   "execution_count": 174,
   "metadata": {},
   "outputs": [
    {
     "name": "stderr",
     "output_type": "stream",
     "text": [
      "C:\\Users\\USER\\Anaconda3\\lib\\site-packages\\sklearn\\ensemble\\forest.py:246: FutureWarning: The default value of n_estimators will change from 10 in version 0.20 to 100 in 0.22.\n",
      "  \"10 in version 0.20 to 100 in 0.22.\", FutureWarning)\n"
     ]
    }
   ],
   "source": [
    "\n",
    "\n",
    "rf_model = RandomForestRegressor()\n",
    "rf_model = rf_model.fit(train_X, train_Y)"
   ]
  },
  {
   "cell_type": "code",
   "execution_count": 175,
   "metadata": {},
   "outputs": [
    {
     "data": {
      "text/plain": [
       "0.864110416226836"
      ]
     },
     "execution_count": 175,
     "metadata": {},
     "output_type": "execute_result"
    }
   ],
   "source": [
    "y_optimum = rf_model.predict(test_X)\n",
    "#mean_absolute_error(test_Y, y_optimum)\n",
    "rf_model.score(train_X, train_Y)"
   ]
  },
  {
   "cell_type": "code",
   "execution_count": 157,
   "metadata": {},
   "outputs": [],
   "source": [
    "df = pd.DataFrame(y_optimum, columns = ['Column_A'])"
   ]
  },
  {
   "cell_type": "code",
   "execution_count": 159,
   "metadata": {},
   "outputs": [],
   "source": [
    "df.to_csv('randomforest.csv')"
   ]
  },
  {
   "cell_type": "code",
   "execution_count": 176,
   "metadata": {},
   "outputs": [
    {
     "data": {
      "text/plain": [
       "1813987.515665478"
      ]
     },
     "execution_count": 176,
     "metadata": {},
     "output_type": "execute_result"
    }
   ],
   "source": [
    "mean_absolute_error(test_Y, linregpredict)"
   ]
  },
  {
   "cell_type": "code",
   "execution_count": 177,
   "metadata": {},
   "outputs": [
    {
     "data": {
      "text/plain": [
       "1121045.5231178573"
      ]
     },
     "execution_count": 177,
     "metadata": {},
     "output_type": "execute_result"
    }
   ],
   "source": [
    "mean_absolute_error(test_Y, y_optimum)"
   ]
  },
  {
   "cell_type": "code",
   "execution_count": null,
   "metadata": {},
   "outputs": [],
   "source": []
  },
  {
   "cell_type": "code",
   "execution_count": 178,
   "metadata": {},
   "outputs": [
    {
     "name": "stdout",
     "output_type": "stream",
     "text": [
      "[1]\tvalid_0's l2: 3.24664e+14\n",
      "[2]\tvalid_0's l2: 3.15342e+14\n",
      "[3]\tvalid_0's l2: 3.07232e+14\n",
      "[4]\tvalid_0's l2: 3.00057e+14\n",
      "[5]\tvalid_0's l2: 2.95502e+14\n",
      "[6]\tvalid_0's l2: 2.91032e+14\n",
      "[7]\tvalid_0's l2: 2.87996e+14\n",
      "[8]\tvalid_0's l2: 2.84121e+14\n",
      "[9]\tvalid_0's l2: 2.81129e+14\n",
      "[10]\tvalid_0's l2: 2.7998e+14\n",
      "[11]\tvalid_0's l2: 2.79419e+14\n",
      "[12]\tvalid_0's l2: 2.7795e+14\n",
      "[13]\tvalid_0's l2: 2.76802e+14\n",
      "[14]\tvalid_0's l2: 2.76097e+14\n",
      "[15]\tvalid_0's l2: 2.7536e+14\n",
      "[16]\tvalid_0's l2: 2.73423e+14\n",
      "[17]\tvalid_0's l2: 2.73678e+14\n",
      "[18]\tvalid_0's l2: 2.73609e+14\n",
      "[19]\tvalid_0's l2: 2.73502e+14\n",
      "[20]\tvalid_0's l2: 2.73784e+14\n",
      "[21]\tvalid_0's l2: 2.74839e+14\n",
      "[22]\tvalid_0's l2: 2.73548e+14\n",
      "[23]\tvalid_0's l2: 2.73664e+14\n",
      "[24]\tvalid_0's l2: 2.74322e+14\n",
      "[25]\tvalid_0's l2: 2.74283e+14\n",
      "[26]\tvalid_0's l2: 2.73727e+14\n",
      "[27]\tvalid_0's l2: 2.74485e+14\n",
      "[28]\tvalid_0's l2: 2.75037e+14\n",
      "[29]\tvalid_0's l2: 2.75251e+14\n",
      "[30]\tvalid_0's l2: 2.75109e+14\n",
      "[31]\tvalid_0's l2: 2.74454e+14\n",
      "[32]\tvalid_0's l2: 2.74838e+14\n",
      "[33]\tvalid_0's l2: 2.75118e+14\n",
      "[34]\tvalid_0's l2: 2.75496e+14\n",
      "[35]\tvalid_0's l2: 2.75831e+14\n",
      "[36]\tvalid_0's l2: 2.76599e+14\n",
      "[37]\tvalid_0's l2: 2.77324e+14\n",
      "[38]\tvalid_0's l2: 2.7779e+14\n",
      "[39]\tvalid_0's l2: 2.77764e+14\n",
      "[40]\tvalid_0's l2: 2.7712e+14\n",
      "[41]\tvalid_0's l2: 2.76962e+14\n",
      "[42]\tvalid_0's l2: 2.77439e+14\n",
      "[43]\tvalid_0's l2: 2.77606e+14\n",
      "[44]\tvalid_0's l2: 2.78102e+14\n",
      "[45]\tvalid_0's l2: 2.77847e+14\n",
      "[46]\tvalid_0's l2: 2.78095e+14\n",
      "[47]\tvalid_0's l2: 2.77623e+14\n",
      "[48]\tvalid_0's l2: 2.77557e+14\n",
      "[49]\tvalid_0's l2: 2.77576e+14\n",
      "[50]\tvalid_0's l2: 2.78342e+14\n",
      "[51]\tvalid_0's l2: 2.78202e+14\n",
      "[52]\tvalid_0's l2: 2.78416e+14\n",
      "[53]\tvalid_0's l2: 2.781e+14\n",
      "[54]\tvalid_0's l2: 2.78355e+14\n",
      "[55]\tvalid_0's l2: 2.78117e+14\n",
      "[56]\tvalid_0's l2: 2.78319e+14\n",
      "[57]\tvalid_0's l2: 2.7811e+14\n",
      "[58]\tvalid_0's l2: 2.78639e+14\n",
      "[59]\tvalid_0's l2: 2.79276e+14\n",
      "[60]\tvalid_0's l2: 2.80073e+14\n",
      "[61]\tvalid_0's l2: 2.80071e+14\n",
      "[62]\tvalid_0's l2: 2.80283e+14\n",
      "[63]\tvalid_0's l2: 2.79797e+14\n",
      "[64]\tvalid_0's l2: 2.80058e+14\n",
      "[65]\tvalid_0's l2: 2.79881e+14\n",
      "[66]\tvalid_0's l2: 2.80463e+14\n",
      "[67]\tvalid_0's l2: 2.80754e+14\n",
      "[68]\tvalid_0's l2: 2.80809e+14\n",
      "[69]\tvalid_0's l2: 2.80913e+14\n",
      "[70]\tvalid_0's l2: 2.81314e+14\n",
      "[71]\tvalid_0's l2: 2.82012e+14\n",
      "[72]\tvalid_0's l2: 2.8144e+14\n",
      "[73]\tvalid_0's l2: 2.81672e+14\n",
      "[74]\tvalid_0's l2: 2.81274e+14\n",
      "[75]\tvalid_0's l2: 2.81688e+14\n",
      "[76]\tvalid_0's l2: 2.8152e+14\n",
      "[77]\tvalid_0's l2: 2.82302e+14\n",
      "[78]\tvalid_0's l2: 2.81825e+14\n",
      "[79]\tvalid_0's l2: 2.82107e+14\n",
      "[80]\tvalid_0's l2: 2.82637e+14\n",
      "[81]\tvalid_0's l2: 2.82669e+14\n",
      "[82]\tvalid_0's l2: 2.8267e+14\n",
      "[83]\tvalid_0's l2: 2.8335e+14\n",
      "[84]\tvalid_0's l2: 2.8417e+14\n",
      "[85]\tvalid_0's l2: 2.84561e+14\n",
      "[86]\tvalid_0's l2: 2.84122e+14\n",
      "[87]\tvalid_0's l2: 2.83784e+14\n",
      "[88]\tvalid_0's l2: 2.84122e+14\n",
      "[89]\tvalid_0's l2: 2.84806e+14\n",
      "[90]\tvalid_0's l2: 2.84381e+14\n",
      "[91]\tvalid_0's l2: 2.84845e+14\n",
      "[92]\tvalid_0's l2: 2.85119e+14\n",
      "[93]\tvalid_0's l2: 2.85039e+14\n",
      "[94]\tvalid_0's l2: 2.85173e+14\n",
      "[95]\tvalid_0's l2: 2.8527e+14\n",
      "[96]\tvalid_0's l2: 2.85286e+14\n",
      "[97]\tvalid_0's l2: 2.84882e+14\n",
      "[98]\tvalid_0's l2: 2.85586e+14\n",
      "[99]\tvalid_0's l2: 2.85802e+14\n",
      "[100]\tvalid_0's l2: 2.86167e+14\n"
     ]
    },
    {
     "data": {
      "text/plain": [
       "0.7213026009437834"
      ]
     },
     "execution_count": 178,
     "metadata": {},
     "output_type": "execute_result"
    }
   ],
   "source": [
    "lgr = lgb.LGBMRegressor()\n",
    "lgr.fit(train_X, train_Y, eval_set=(test_X, test_Y))\n",
    "lgr.score(train_X, train_Y)"
   ]
  },
  {
   "cell_type": "code",
   "execution_count": 179,
   "metadata": {},
   "outputs": [
    {
     "data": {
      "text/plain": [
       "1260803.159011255"
      ]
     },
     "execution_count": 179,
     "metadata": {},
     "output_type": "execute_result"
    }
   ],
   "source": [
    "y_optimum_lgr = lgr.predict(test_X)\n",
    "mean_absolute_error(test_Y, y_optimum_lgr)"
   ]
  },
  {
   "cell_type": "code",
   "execution_count": null,
   "metadata": {},
   "outputs": [],
   "source": []
  }
 ],
 "metadata": {
  "kernelspec": {
   "display_name": "Python 3",
   "language": "python",
   "name": "python3"
  },
  "language_info": {
   "codemirror_mode": {
    "name": "ipython",
    "version": 3
   },
   "file_extension": ".py",
   "mimetype": "text/x-python",
   "name": "python",
   "nbconvert_exporter": "python",
   "pygments_lexer": "ipython3",
   "version": "3.7.3"
  }
 },
 "nbformat": 4,
 "nbformat_minor": 2
}
